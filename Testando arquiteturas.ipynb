{
 "cells": [
  {
   "cell_type": "markdown",
   "metadata": {},
   "source": [
    "## Testando no Dataset de Vídeos\n",
    "\n",
    "Nesta etapa iremos testar nossos modelos treinados no dataset de imagens no dataset de vídeos e ver seu resultado."
   ]
  },
  {
   "cell_type": "code",
   "execution_count": 1,
   "metadata": {},
   "outputs": [],
   "source": [
    "import cv2\n",
    "\n",
    "import random\n",
    "\n",
    "import pandas as pd\n",
    "\n",
    "from facenet_pytorch import MTCNN\n",
    "\n",
    "from fastai.vision import *\n",
    "\n",
    "from PIL import Image\n",
    "import glob, os\n",
    "\n",
    "import torch\n",
    "import torch.nn as nn\n",
    "import torch.nn.functional as F\n",
    "import torchvision\n",
    "import torchvision.transforms as transforms\n",
    "\n",
    "from IPython.core import display as ICD\n",
    "\n",
    "import matplotlib.pyplot as plt\n",
    "import seaborn as sns\n",
    "sns.set()"
   ]
  },
  {
   "cell_type": "markdown",
   "metadata": {},
   "source": [
    "Definimos um device onde a validação será rodada."
   ]
  },
  {
   "cell_type": "code",
   "execution_count": 2,
   "metadata": {},
   "outputs": [
    {
     "name": "stdout",
     "output_type": "stream",
     "text": [
      "Running on device: cuda:0\n"
     ]
    }
   ],
   "source": [
    "# Definimos um device onde os tensors estarão sendo processados\n",
    "device = torch.device('cuda:0' if torch.cuda.is_available() else 'cpu')\n",
    "print('Running on device: {}'.format(device))"
   ]
  },
  {
   "cell_type": "markdown",
   "metadata": {},
   "source": [
    "Vamos carregar um modelo ResNet18 treinado pelo fastai. Como a preferência na hora da inferência é de utilizar o PyTorch ao invés do FastAI, cria-se uma função para recuperar o modelo no formato PyTorch."
   ]
  },
  {
   "cell_type": "code",
   "execution_count": 3,
   "metadata": {},
   "outputs": [],
   "source": [
    "def fastai_to_pytorch(base_model, path):\n",
    "    classes = ['FAKE', 'REAL']\n",
    "    aux_data = ImageDataBunch.single_from_classes(path='.', classes=classes)\n",
    "    learn = cnn_learner(aux_data, base_model)\n",
    "    learn.load(path)\n",
    "    \n",
    "    return learn, learn.model"
   ]
  },
  {
   "cell_type": "markdown",
   "metadata": {},
   "source": [
    "Carrega-se uma Resnet18 treinada."
   ]
  },
  {
   "cell_type": "code",
   "execution_count": 4,
   "metadata": {},
   "outputs": [],
   "source": [
    "base_path = '../Faces Dataset/no-resize-color/models/'\n",
    "file_name = 'resnet18_best_mcc_unfreezed_fold1'\n",
    "base_model = models.resnet18\n",
    "\n",
    "ftp = fastai_to_pytorch(base_model, base_path + file_name)\n",
    "resnet18_learn = ftp[0]\n",
    "resnet18 = ftp[1]"
   ]
  },
  {
   "cell_type": "markdown",
   "metadata": {},
   "source": [
    "Criamos uma lista de todos as pastas que contém os vídeos para testar."
   ]
  },
  {
   "cell_type": "code",
   "execution_count": 5,
   "metadata": {},
   "outputs": [
    {
     "data": {
      "text/plain": [
       "['dfdc_train_part_0',\n",
       " 'dfdc_train_part_1',\n",
       " 'dfdc_train_part_10',\n",
       " 'dfdc_train_part_11',\n",
       " 'dfdc_train_part_12',\n",
       " 'dfdc_train_part_13',\n",
       " 'dfdc_train_part_14',\n",
       " 'dfdc_train_part_15',\n",
       " 'dfdc_train_part_16',\n",
       " 'dfdc_train_part_17']"
      ]
     },
     "execution_count": 5,
     "metadata": {},
     "output_type": "execute_result"
    }
   ],
   "source": [
    "# Cria uma lista de todas as pastas disponíveis para treinamento\n",
    "folders = next(os.walk('./Kaggle Dataset/'))[1]\n",
    "folders[:10]"
   ]
  },
  {
   "cell_type": "markdown",
   "metadata": {},
   "source": [
    "Definimos algumas classes e funções para nos auxiliar.\n",
    "\n",
    "Classe **Videos**"
   ]
  },
  {
   "cell_type": "code",
   "execution_count": 6,
   "metadata": {},
   "outputs": [],
   "source": [
    "# Cuida de lidar com o acesso aos vídeos e devolver os paths / labels corretamente\n",
    "class Videos():\n",
    "    def __init__(self, folder_path):\n",
    "        # Guarda o folder_path\n",
    "        self.folder_path = folder_path\n",
    "        \n",
    "        # Guarda a lista de todos os arquivos de videos dentro do folder_path\n",
    "        self.video_files = glob.glob(folder_path + '/*.mp4')\n",
    "        \n",
    "        # Lê o arquivo JSON que contém as informações dos deepfakes naquela pasta\n",
    "        self.metadata = pd.read_json(folder_path + '/metadata.json').transpose() # Essa transposiçao eh feita pois as colunas e as linhas estao trocadas\n",
    "        \n",
    "    def getRandomVideo(self):\n",
    "        video_path = random.choice(self.video_files)\n",
    "        video_name = os.path.basename(video_path)\n",
    "        label = self.metadata.loc[video_name].label\n",
    "        \n",
    "        return video_path, video_name, label\n",
    "        \n",
    "    def getRealVideo(self, video_name):\n",
    "        real_video_name = self.metadata.loc[video_name].original\n",
    "        # Verifica se é NaN, pois caso seja o nome original é o próprio video real\n",
    "        if pd.isna(real_video_name):\n",
    "            real_video_name = video_name\n",
    "        real_video_path = folder_path + '/' + real_video_name\n",
    "        return real_video_path, real_video_name, 'REAL'\n",
    "    \n",
    "    def getAllVideosPath(self):\n",
    "        for video_name, columns in self.metadata.iterrows():\n",
    "            yield self.folder_path + '/' + video_name, video_name, columns[0] # Label\n",
    "\n",
    "def getYUVTensor(face, size, transform):\n",
    "    face = cv2.cvtColor(face, cv2.COLOR_BGR2YCrCb)\n",
    "    face = cv2.resize(face, (size, size))[:, :, 0]\n",
    "    face_tensor = transform(face)\n",
    "    face_tensor = torch.cat((face_tensor, face_tensor, face_tensor)).unsqueeze(0)\n",
    "    return face_tensor"
   ]
  },
  {
   "cell_type": "markdown",
   "metadata": {},
   "source": [
    "Função **showVideo**"
   ]
  },
  {
   "cell_type": "code",
   "execution_count": 7,
   "metadata": {},
   "outputs": [],
   "source": [
    "def showVideo(video_path, label, padding=0, size=-1, channel=None, separate_face_box=False):\n",
    "    cap = cv2.VideoCapture(video_path)\n",
    "    \n",
    "    # Configura a cor a ser colocada na LABEL\n",
    "    if label == 'REAL':\n",
    "        color = (0, 255, 0) # Verde\n",
    "    else:\n",
    "        color = (0, 0, 255) # Vermelho  \n",
    "    \n",
    "    face = None\n",
    "    while(cap.isOpened()):\n",
    "        ret, frame = cap.read()\n",
    "        if ret:\n",
    "            boxes, _ = mtcnn.detect(Image.fromarray(frame))\n",
    "            if boxes is not None:\n",
    "                for box in boxes: \n",
    "                    face = frame[int(box[1] - padding):int(box[3] + padding), int(box[0] - padding):int(box[2] + padding)].copy()\n",
    "                    cv2.putText(img=frame, text=label, org=(box[0], box[1]), fontFace=cv2.FONT_HERSHEY_SIMPLEX, fontScale=1, color=color, thickness=2)\n",
    "                    cv2.rectangle(frame, (box[0], box[1]), (box[2], box[3]), color=[0, 255, 0], thickness=5)\n",
    "                    if channel == 'luma':\n",
    "                        face = cv2.cvtColor(face, cv2.COLOR_BGR2YCrCb)\n",
    "                        face = face[:,:,0] # Pega apenas o canal Y\n",
    "                    \n",
    "            if face is not None:\n",
    "                if size > 0:\n",
    "                    face = cv2.resize(face, (size, size))\n",
    "                \n",
    "                if separate_face_box:\n",
    "                    cv2.imshow('face', face)\n",
    "                \n",
    "            frame = cv2.resize(frame, (1280, 720))\n",
    "            cv2.imshow('frame', frame)\n",
    "            \n",
    "            # Apertar a tecla 'q' para sair do vídeo.\n",
    "            if cv2.waitKey(1) & 0xFF == ord('q'):\n",
    "                break\n",
    "                \n",
    "        else:\n",
    "            cv2.destroyAllWindows()\n",
    "            break\n",
    "\n",
    "    cap.release()\n",
    "    cv2.destroyAllWindows()"
   ]
  },
  {
   "cell_type": "markdown",
   "metadata": {},
   "source": [
    "Classe **Predictor**"
   ]
  },
  {
   "cell_type": "code",
   "execution_count": 8,
   "metadata": {},
   "outputs": [],
   "source": [
    "class Predictor():\n",
    "    \n",
    "    def __init__(self, model, batch_size, padding, size, check_every_frame):\n",
    "        self.model = model.to(device)\n",
    "        self.model.eval()\n",
    "        \n",
    "        self.classes = {0: \"FAKE\", 1: \"REAL\"}\n",
    "        self.batch_size = batch_size\n",
    "        self.padding = padding\n",
    "        self.size = size\n",
    "        self.check_every_frame = check_every_frame\n",
    "        self.video_path = None\n",
    "        self.faces_list = None\n",
    "        self.faces_tensor = None\n",
    "        self.predicts_tensor = None\n",
    "        self.final_predict = None\n",
    "    \n",
    "    def setVideoPath(self, video_path):\n",
    "        self.video_path = video_path\n",
    "        self.faces_list = None\n",
    "        self.faces_tensor = None\n",
    "        self.predicts_tensor = None\n",
    "        self.final_predict = None\n",
    "        return\n",
    "    \n",
    "    def getFacesTensor(self):\n",
    "        if self.video_path is None:\n",
    "            print(\"Por favor, utilize a função setVideoPath() para indicar o caminho para um vídeo.\")\n",
    "            return\n",
    "        # Instancia um VideoCapture do arquivo presente em video_path (no caso, o vídeo)\n",
    "        cap = cv2.VideoCapture(self.video_path)\n",
    "        # Pega, em inteiros, a quantidade de frames do vídeo\n",
    "        v_len = int(cap.get(cv2.CAP_PROP_FRAME_COUNT))\n",
    "\n",
    "        # Inicializa frames como uma lista vazia\n",
    "        frames = []\n",
    "        self.faces_list = []\n",
    "\n",
    "        # Entra num loop que percorre o vídeo até ele acabar\n",
    "        for _ in range(1, v_len + 1):\n",
    "            # Realiza um grab() no próximo frame, mas não o decodifica. Isso ajuda a agilizar o processo se não for necessário\n",
    "            # recuperar todos os frames a todo o momento.\n",
    "            success = cap.grab()\n",
    "            # Só recorta o rosto se o frame atual for mod check_every_frame, ou seja, ele só decodifica de check_every_frame em check_every_frame frames.\n",
    "            if _ == 1 or _ % self.check_every_frame == 0:\n",
    "                success, frame = cap.retrieve()\n",
    "            else:\n",
    "                continue\n",
    "            if not success:\n",
    "                continue\n",
    "\n",
    "            # Realiza um append do frame atual na lista frames\n",
    "            frame = cv2.cvtColor(frame, cv2.COLOR_BGR2RGB)\n",
    "            frame = Image.fromarray(frame)\n",
    "            frames.append(frame)\n",
    "\n",
    "            if len(frames) >= self.batch_size or (_ == v_len and len(frames) > 0):\n",
    "                # Utiliza o MTCNN para detectar todas as bounding boxes de todos os rostos\n",
    "                boxes, probs = mtcnn.detect(frames)\n",
    "                # Verifica se não foi obtida nenhuma bounding box em todo o batch\n",
    "                if not all(x is None for x in boxes):\n",
    "                    # Acessa cada um dos frames no batch\n",
    "                    for i, boxes_f in enumerate(boxes):\n",
    "                        # Verifica houve None para o frame atual\n",
    "                        if boxes_f is not None:\n",
    "                            # Acessa cada uma das bounding boxes dentro de um único frame (pode haver vários rostos)\n",
    "                            face_count = 0\n",
    "                            for bbox in boxes_f:\n",
    "                                face = frames[i].crop(box=(bbox[0]-self.padding, \n",
    "                                                           bbox[1]-self.padding, \n",
    "                                                           bbox[2]+self.padding, \n",
    "                                                           bbox[3]+self.padding))\n",
    "\n",
    "\n",
    "                                # Se desejado, aplica um resize\n",
    "                                if self.size > 0:\n",
    "                                    face = face.resize((self.size, self.size))\n",
    "\n",
    "                                self.faces_list.append(face)\n",
    "\n",
    "                frames = []\n",
    "\n",
    "        # Solta o objeto do VideoCapture\n",
    "        cap.release()\n",
    "\n",
    "        to_tensor = transforms.ToTensor()\n",
    "        all_faces_tensor = torch.tensor([])\n",
    "\n",
    "        for face in self.faces_list:\n",
    "            face_tensor = to_tensor(face).unsqueeze(0)\n",
    "            all_faces_tensor = torch.cat((all_faces_tensor, face_tensor), dim=0)\n",
    "        \n",
    "        self.faces_tensor = all_faces_tensor.to(device)\n",
    "        \n",
    "        return self.faces_tensor\n",
    "    \n",
    "    def getPredictsTensor(self):\n",
    "        if self.faces_tensor is None:\n",
    "            if self.getFacesTensor() is None:\n",
    "                return\n",
    "\n",
    "        with torch.no_grad():\n",
    "            if len(self.faces_tensor) > 0:\n",
    "                self.predicts_tensor = F.softmax(resnet18(self.faces_tensor), dim=1)\n",
    "            else:\n",
    "                return\n",
    "            \n",
    "        return self.predicts_tensor\n",
    "    \n",
    "    def getFinalPredict(self, strategy='majority'):\n",
    "        if self.predicts_tensor is None:\n",
    "            if self.getPredictsTensor() is None:\n",
    "                return \n",
    "        \n",
    "        if strategy == 'majority':\n",
    "            fp = lambda tensor: tensor[1].argmax(dim=0).item() if len(tensor[0]) != 1 else unique[0].item()\n",
    "\n",
    "            unique = self.predicts_tensor.argmax(dim=1).unique(return_counts=True)\n",
    "\n",
    "            self.final_predict = fp(unique)\n",
    "\n",
    "            return self.final_predict, self.classes[self.final_predict]\n",
    "        \n",
    "        else:\n",
    "            return None"
   ]
  },
  {
   "cell_type": "markdown",
   "metadata": {},
   "source": [
    "Definimos também nossa rede MTCNN idêntica à utilizada para retirar os rostos."
   ]
  },
  {
   "cell_type": "code",
   "execution_count": 9,
   "metadata": {},
   "outputs": [],
   "source": [
    "# Margin não faz diferença se o método .detect() for utilizado\n",
    "IMAGE_SIZE = 224\n",
    "MARGIN = 0\n",
    "MIN_FACE_SIZE = 100\n",
    "THRESHOLDS = [0.78, 0.78, 0.78]\n",
    "POST_PROCESS = False\n",
    "SELECT_LARGEST = False\n",
    "KEEP_ALL = True\n",
    "DEVICE = device\n",
    "\n",
    "# ----------------------------------\n",
    "\n",
    "mtcnn = MTCNN(image_size=IMAGE_SIZE,\n",
    "              margin=MARGIN, \n",
    "              min_face_size=MIN_FACE_SIZE, \n",
    "              thresholds=THRESHOLDS,\n",
    "              post_process=POST_PROCESS,\n",
    "              select_largest=SELECT_LARGEST, \n",
    "              keep_all=KEEP_ALL, \n",
    "              device=device)"
   ]
  },
  {
   "cell_type": "markdown",
   "metadata": {},
   "source": [
    "## Definimos um Predictor\n",
    "\n",
    "A classe `Predictor()` ajudará a predizer um vídeo sendo FAKE ou REAL. Passamos para ele parâmetros a serem utilizados nos vídeos como o modelo, o batch_size, o padding, etc."
   ]
  },
  {
   "cell_type": "code",
   "execution_count": 10,
   "metadata": {},
   "outputs": [],
   "source": [
    "predictor = Predictor(resnet18, batch_size=20, padding=10, size=224, check_every_frame=5)"
   ]
  },
  {
   "cell_type": "markdown",
   "metadata": {},
   "source": [
    "## Pasta Aleatória"
   ]
  },
  {
   "cell_type": "markdown",
   "metadata": {},
   "source": [
    "Coletamos uma pasta aleatória de vídeos para o teste."
   ]
  },
  {
   "cell_type": "code",
   "execution_count": 11,
   "metadata": {},
   "outputs": [
    {
     "data": {
      "text/plain": [
       "'dfdc_train_part_27/'"
      ]
     },
     "execution_count": 11,
     "metadata": {},
     "output_type": "execute_result"
    }
   ],
   "source": [
    "# Definimos a coleta de uma pasta aleatória\n",
    "random_folder = random.choice(folders) + '/'\n",
    "\n",
    "folder_path = './Kaggle Dataset/' + random_folder\n",
    "\n",
    "# Instaciamos uma classe de Videos\n",
    "videos = Videos(folder_path)\n",
    "random_folder"
   ]
  },
  {
   "cell_type": "markdown",
   "metadata": {},
   "source": [
    "## Teste vídeo FAKE\n",
    "\n",
    "Obtemos um vídeo aleatório falso."
   ]
  },
  {
   "cell_type": "code",
   "execution_count": 12,
   "metadata": {},
   "outputs": [],
   "source": [
    "fake_video_path, fake_video_name, label = videos.getRandomVideo()\n",
    "showVideo(fake_video_path, label)"
   ]
  },
  {
   "cell_type": "markdown",
   "metadata": {},
   "source": [
    "Utilizamos o `video_path` no objeto `predictor` para que as predições possam ser feitas."
   ]
  },
  {
   "cell_type": "code",
   "execution_count": 13,
   "metadata": {},
   "outputs": [],
   "source": [
    "predictor.setVideoPath(fake_video_path)"
   ]
  },
  {
   "cell_type": "markdown",
   "metadata": {},
   "source": [
    "Obtemos então a lista de rostos e o tensor de rostos tomados `check_every_frame`."
   ]
  },
  {
   "cell_type": "code",
   "execution_count": 14,
   "metadata": {},
   "outputs": [
    {
     "name": "stdout",
     "output_type": "stream",
     "text": [
      "torch.Size([63, 3, 224, 224])\n"
     ]
    },
    {
     "data": {
      "image/png": "[encoded data removed]",
      "text/plain": [
       "<PIL.Image.Image image mode=RGB size=224x224 at 0x22E0EFC0348>"
      ]
     },
     "execution_count": 14,
     "metadata": {},
     "output_type": "execute_result"
    }
   ],
   "source": [
    "predictor.getFacesTensor()\n",
    "\n",
    "print(predictor.faces_tensor.shape)\n",
    "predictor.faces_list[0]"
   ]
  },
  {
   "cell_type": "markdown",
   "metadata": {},
   "source": [
    "Passamos o Batch de rostos pelo modelo e então obtemos o tensor de predições."
   ]
  },
  {
   "cell_type": "code",
   "execution_count": 15,
   "metadata": {},
   "outputs": [
    {
     "data": {
      "text/plain": [
       "tensor([[9.9910e-01, 8.9631e-04],\n",
       "        [9.6923e-01, 3.0768e-02],\n",
       "        [9.2126e-01, 7.8744e-02],\n",
       "        [8.8783e-01, 1.1217e-01],\n",
       "        [5.9983e-01, 4.0017e-01]], device='cuda:0')"
      ]
     },
     "execution_count": 15,
     "metadata": {},
     "output_type": "execute_result"
    }
   ],
   "source": [
    "predictor.getPredictsTensor()\n",
    "\n",
    "predictor.predicts_tensor[:5]"
   ]
  },
  {
   "cell_type": "markdown",
   "metadata": {},
   "source": [
    "Por fim analisamos o tensor de predições dada uma estratégia e obtemos a predição final."
   ]
  },
  {
   "cell_type": "code",
   "execution_count": 16,
   "metadata": {},
   "outputs": [
    {
     "data": {
      "text/plain": [
       "(0, 'FAKE')"
      ]
     },
     "execution_count": 16,
     "metadata": {},
     "output_type": "execute_result"
    }
   ],
   "source": [
    "predictor.getFinalPredict(strategy='majority')"
   ]
  },
  {
   "cell_type": "markdown",
   "metadata": {},
   "source": [
    "## Teste vídeo REAL\n",
    "\n",
    "Refazemos os passos anteriores mas agora para a versão original do vídeo anterior."
   ]
  },
  {
   "cell_type": "code",
   "execution_count": 17,
   "metadata": {},
   "outputs": [],
   "source": [
    "real_video_path, real_video_name, label = videos.getRealVideo(fake_video_name)\n",
    "showVideo(real_video_path, label)"
   ]
  },
  {
   "cell_type": "markdown",
   "metadata": {},
   "source": [
    "E novamente realiza-se as predições em cima dele."
   ]
  },
  {
   "cell_type": "code",
   "execution_count": 18,
   "metadata": {},
   "outputs": [
    {
     "data": {
      "text/plain": [
       "(1, 'REAL')"
      ]
     },
     "execution_count": 18,
     "metadata": {},
     "output_type": "execute_result"
    }
   ],
   "source": [
    "predictor.setVideoPath(real_video_path)\n",
    "predictor.getFinalPredict(strategy='majority')"
   ]
  },
  {
   "cell_type": "markdown",
   "metadata": {},
   "source": [
    "## Pipeline de Predição de Vídeos"
   ]
  },
  {
   "cell_type": "markdown",
   "metadata": {},
   "source": [
    "Vamos utilizar o `Pandas` para isso. Criaremos uma entrada em uma tabela para cada vídeo avaliado no dataset."
   ]
  },
  {
   "cell_type": "code",
   "execution_count": 19,
   "metadata": {},
   "outputs": [
    {
     "data": {
      "text/html": [
       "<div>\n",
       "<style scoped>\n",
       "    .dataframe tbody tr th:only-of-type {\n",
       "        vertical-align: middle;\n",
       "    }\n",
       "\n",
       "    .dataframe tbody tr th {\n",
       "        vertical-align: top;\n",
       "    }\n",
       "\n",
       "    .dataframe thead th {\n",
       "        text-align: right;\n",
       "    }\n",
       "</style>\n",
       "<table border=\"1\" class=\"dataframe\">\n",
       "  <thead>\n",
       "    <tr style=\"text-align: right;\">\n",
       "      <th></th>\n",
       "      <th>FOLDER</th>\n",
       "      <th>True FAKE</th>\n",
       "      <th>True REAL</th>\n",
       "      <th>False FAKE</th>\n",
       "      <th>False REAL</th>\n",
       "    </tr>\n",
       "    <tr>\n",
       "      <th>Video Name</th>\n",
       "      <th></th>\n",
       "      <th></th>\n",
       "      <th></th>\n",
       "      <th></th>\n",
       "      <th></th>\n",
       "    </tr>\n",
       "  </thead>\n",
       "  <tbody>\n",
       "  </tbody>\n",
       "</table>\n",
       "</div>"
      ],
      "text/plain": [
       "Empty DataFrame\n",
       "Columns: [FOLDER, True FAKE, True REAL, False FAKE, False REAL]\n",
       "Index: []"
      ]
     },
     "execution_count": 19,
     "metadata": {},
     "output_type": "execute_result"
    }
   ],
   "source": [
    "predicts_df = pd.DataFrame(columns=[\"FOLDER\", \"True FAKE\", \"True REAL\", \"False FAKE\", \"False REAL\"])\n",
    "predicts_df.index.name = 'Video Name'\n",
    "predicts_df "
   ]
  },
  {
   "cell_type": "markdown",
   "metadata": {},
   "source": [
    "Vamos utilizar o exemplo do vídeo anterior e inserir a informação do vídeo na tabela."
   ]
  },
  {
   "cell_type": "code",
   "execution_count": 20,
   "metadata": {},
   "outputs": [
    {
     "data": {
      "text/html": [
       "<div>\n",
       "<style scoped>\n",
       "    .dataframe tbody tr th:only-of-type {\n",
       "        vertical-align: middle;\n",
       "    }\n",
       "\n",
       "    .dataframe tbody tr th {\n",
       "        vertical-align: top;\n",
       "    }\n",
       "\n",
       "    .dataframe thead th {\n",
       "        text-align: right;\n",
       "    }\n",
       "</style>\n",
       "<table border=\"1\" class=\"dataframe\">\n",
       "  <thead>\n",
       "    <tr style=\"text-align: right;\">\n",
       "      <th></th>\n",
       "      <th>FOLDER</th>\n",
       "      <th>True FAKE</th>\n",
       "      <th>True REAL</th>\n",
       "      <th>False FAKE</th>\n",
       "      <th>False REAL</th>\n",
       "    </tr>\n",
       "    <tr>\n",
       "      <th>Video Name</th>\n",
       "      <th></th>\n",
       "      <th></th>\n",
       "      <th></th>\n",
       "      <th></th>\n",
       "      <th></th>\n",
       "    </tr>\n",
       "  </thead>\n",
       "  <tbody>\n",
       "    <tr>\n",
       "      <th>mfuulqhjgz.mp4</th>\n",
       "      <td>dfdc_train_part_27/</td>\n",
       "      <td>1</td>\n",
       "      <td>0</td>\n",
       "      <td>0</td>\n",
       "      <td>0</td>\n",
       "    </tr>\n",
       "  </tbody>\n",
       "</table>\n",
       "</div>"
      ],
      "text/plain": [
       "                             FOLDER True FAKE True REAL False FAKE False REAL\n",
       "Video Name                                                                   \n",
       "mfuulqhjgz.mp4  dfdc_train_part_27/         1         0          0          0"
      ]
     },
     "execution_count": 20,
     "metadata": {},
     "output_type": "execute_result"
    }
   ],
   "source": [
    "predictor.setVideoPath(fake_video_path)\n",
    "\n",
    "new_row = {\"FOLDER\": random_folder, \"True FAKE\": 0, \"True REAL\": 0, \"False FAKE\": 0, \"False REAL\": 0}\n",
    "new_row[\"FOLDER\"] = random_folder\n",
    "\n",
    "label = \"FAKE\"\n",
    "if predictor.getFinalPredict(strategy='majority')[1] == label:\n",
    "    prefixo = \"True \"\n",
    "else:\n",
    "    prefixo = \"False \"\n",
    "    \n",
    "new_row[prefixo+label] = 1\n",
    "\n",
    "predicts_df.loc[fake_video_name] = new_row\n",
    "predicts_df"
   ]
  },
  {
   "cell_type": "code",
   "execution_count": 21,
   "metadata": {},
   "outputs": [
    {
     "data": {
      "text/html": [
       "<div>\n",
       "<style scoped>\n",
       "    .dataframe tbody tr th:only-of-type {\n",
       "        vertical-align: middle;\n",
       "    }\n",
       "\n",
       "    .dataframe tbody tr th {\n",
       "        vertical-align: top;\n",
       "    }\n",
       "\n",
       "    .dataframe thead th {\n",
       "        text-align: right;\n",
       "    }\n",
       "</style>\n",
       "<table border=\"1\" class=\"dataframe\">\n",
       "  <thead>\n",
       "    <tr style=\"text-align: right;\">\n",
       "      <th></th>\n",
       "      <th>FOLDER</th>\n",
       "      <th>True FAKE</th>\n",
       "      <th>True REAL</th>\n",
       "      <th>False FAKE</th>\n",
       "      <th>False REAL</th>\n",
       "    </tr>\n",
       "    <tr>\n",
       "      <th>Video Name</th>\n",
       "      <th></th>\n",
       "      <th></th>\n",
       "      <th></th>\n",
       "      <th></th>\n",
       "      <th></th>\n",
       "    </tr>\n",
       "  </thead>\n",
       "  <tbody>\n",
       "    <tr>\n",
       "      <th>mfuulqhjgz.mp4</th>\n",
       "      <td>dfdc_train_part_27/</td>\n",
       "      <td>1</td>\n",
       "      <td>0</td>\n",
       "      <td>0</td>\n",
       "      <td>0</td>\n",
       "    </tr>\n",
       "    <tr>\n",
       "      <th>myygiusjjb.mp4</th>\n",
       "      <td>dfdc_train_part_27/</td>\n",
       "      <td>0</td>\n",
       "      <td>1</td>\n",
       "      <td>0</td>\n",
       "      <td>0</td>\n",
       "    </tr>\n",
       "  </tbody>\n",
       "</table>\n",
       "</div>"
      ],
      "text/plain": [
       "                             FOLDER True FAKE True REAL False FAKE False REAL\n",
       "Video Name                                                                   \n",
       "mfuulqhjgz.mp4  dfdc_train_part_27/         1         0          0          0\n",
       "myygiusjjb.mp4  dfdc_train_part_27/         0         1          0          0"
      ]
     },
     "execution_count": 21,
     "metadata": {},
     "output_type": "execute_result"
    }
   ],
   "source": [
    "predictor.setVideoPath(real_video_path)\n",
    "\n",
    "new_row = {\"FOLDER\": random_folder, \"True FAKE\": 0, \"True REAL\": 0, \"False FAKE\": 0, \"False REAL\": 0}\n",
    "new_row[\"FOLDER\"] = random_folder\n",
    "\n",
    "label = \"REAL\"\n",
    "if predictor.getFinalPredict(strategy='majority')[1] == label:\n",
    "    prefixo = \"True \"\n",
    "else:\n",
    "    prefixo = \"False \"\n",
    "    \n",
    "new_row[prefixo+label] = 1\n",
    "\n",
    "predicts_df.loc[real_video_name] = new_row\n",
    "predicts_df"
   ]
  },
  {
   "cell_type": "markdown",
   "metadata": {},
   "source": [
    "## Loop de Predição\n",
    "\n",
    "Com o `DataFrame` neste formato, podemos por fim rodar o programa para todos os vídeos de todas as pastas. Levará de algumas horas a alguns dias para ser concluído."
   ]
  },
  {
   "cell_type": "code",
   "execution_count": 22,
   "metadata": {},
   "outputs": [],
   "source": [
    "#predicts_df = pd.DataFrame(columns=[\"FOLDER\", \"True FAKE\", \"True REAL\", \"False FAKE\", \"False REAL\", \"None\"])\n",
    "#predicts_df.index.name = 'Video Name'\n",
    "#predicts_df"
   ]
  },
  {
   "cell_type": "code",
   "execution_count": 23,
   "metadata": {},
   "outputs": [
    {
     "data": {
      "text/html": [
       "<div>\n",
       "<style scoped>\n",
       "    .dataframe tbody tr th:only-of-type {\n",
       "        vertical-align: middle;\n",
       "    }\n",
       "\n",
       "    .dataframe tbody tr th {\n",
       "        vertical-align: top;\n",
       "    }\n",
       "\n",
       "    .dataframe thead th {\n",
       "        text-align: right;\n",
       "    }\n",
       "</style>\n",
       "<table border=\"1\" class=\"dataframe\">\n",
       "  <thead>\n",
       "    <tr style=\"text-align: right;\">\n",
       "      <th></th>\n",
       "      <th>FOLDER</th>\n",
       "      <th>True FAKE</th>\n",
       "      <th>True REAL</th>\n",
       "      <th>False FAKE</th>\n",
       "      <th>False REAL</th>\n",
       "      <th>None</th>\n",
       "    </tr>\n",
       "    <tr>\n",
       "      <th>Video Name</th>\n",
       "      <th></th>\n",
       "      <th></th>\n",
       "      <th></th>\n",
       "      <th></th>\n",
       "      <th></th>\n",
       "      <th></th>\n",
       "    </tr>\n",
       "  </thead>\n",
       "  <tbody>\n",
       "    <tr>\n",
       "      <th>owxbbpjpch.mp4</th>\n",
       "      <td>dfdc_train_part_0</td>\n",
       "      <td>1</td>\n",
       "      <td>0</td>\n",
       "      <td>0</td>\n",
       "      <td>0</td>\n",
       "      <td>0</td>\n",
       "    </tr>\n",
       "    <tr>\n",
       "      <th>vpmyeepbep.mp4</th>\n",
       "      <td>dfdc_train_part_0</td>\n",
       "      <td>0</td>\n",
       "      <td>1</td>\n",
       "      <td>0</td>\n",
       "      <td>0</td>\n",
       "      <td>0</td>\n",
       "    </tr>\n",
       "    <tr>\n",
       "      <th>fzvpbrzssi.mp4</th>\n",
       "      <td>dfdc_train_part_0</td>\n",
       "      <td>0</td>\n",
       "      <td>0</td>\n",
       "      <td>0</td>\n",
       "      <td>1</td>\n",
       "      <td>0</td>\n",
       "    </tr>\n",
       "    <tr>\n",
       "      <th>htorvhbcae.mp4</th>\n",
       "      <td>dfdc_train_part_0</td>\n",
       "      <td>1</td>\n",
       "      <td>0</td>\n",
       "      <td>0</td>\n",
       "      <td>0</td>\n",
       "      <td>0</td>\n",
       "    </tr>\n",
       "    <tr>\n",
       "      <th>fckxaqjbxk.mp4</th>\n",
       "      <td>dfdc_train_part_0</td>\n",
       "      <td>1</td>\n",
       "      <td>0</td>\n",
       "      <td>0</td>\n",
       "      <td>0</td>\n",
       "      <td>0</td>\n",
       "    </tr>\n",
       "  </tbody>\n",
       "</table>\n",
       "</div>"
      ],
      "text/plain": [
       "                           FOLDER  True FAKE  True REAL  False FAKE  \\\n",
       "Video Name                                                            \n",
       "owxbbpjpch.mp4  dfdc_train_part_0          1          0           0   \n",
       "vpmyeepbep.mp4  dfdc_train_part_0          0          1           0   \n",
       "fzvpbrzssi.mp4  dfdc_train_part_0          0          0           0   \n",
       "htorvhbcae.mp4  dfdc_train_part_0          1          0           0   \n",
       "fckxaqjbxk.mp4  dfdc_train_part_0          1          0           0   \n",
       "\n",
       "                False REAL  None  \n",
       "Video Name                        \n",
       "owxbbpjpch.mp4           0     0  \n",
       "vpmyeepbep.mp4           0     0  \n",
       "fzvpbrzssi.mp4           1     0  \n",
       "htorvhbcae.mp4           0     0  \n",
       "fckxaqjbxk.mp4           0     0  "
      ]
     },
     "execution_count": 23,
     "metadata": {},
     "output_type": "execute_result"
    }
   ],
   "source": [
    "predicts_df = pd.read_csv('./Videos Predictions .csv/predicts_df.csv', index_col='Video Name')\n",
    "predicts_df.head()"
   ]
  },
  {
   "cell_type": "code",
   "execution_count": 24,
   "metadata": {},
   "outputs": [
    {
     "name": "stdout",
     "output_type": "stream",
     "text": [
      "-------------- Início do folder dfdc_train_part_0 --------------\n",
      "dfdc_train_part_0: 0.00%...\n",
      "dfdc_train_part_0: 25.00%...\n",
      "dfdc_train_part_0: 50.00%...\n",
      "dfdc_train_part_0: 75.00%...\n",
      "dfdc_train_part_0: 100.00%...\n",
      "-------------- Início do folder dfdc_train_part_1 --------------\n",
      "dfdc_train_part_1: 0.00%...\n",
      "dfdc_train_part_1: 25.00%...\n",
      "dfdc_train_part_1: 50.00%...\n",
      "dfdc_train_part_1: 75.00%...\n",
      "dfdc_train_part_1: 100.00%...\n",
      "-------------- Início do folder dfdc_train_part_10 --------------\n",
      "dfdc_train_part_10: 0.00%...\n",
      "dfdc_train_part_10: 25.00%...\n",
      "dfdc_train_part_10: 50.00%...\n",
      "dfdc_train_part_10: 75.00%...\n",
      "-------------- Início do folder dfdc_train_part_11 --------------\n",
      "dfdc_train_part_11: 0.00%...\n",
      "dfdc_train_part_11: 25.00%...\n",
      "dfdc_train_part_11: 50.00%...\n",
      "dfdc_train_part_11: 75.00%...\n",
      "dfdc_train_part_11: 100.00%...\n",
      "-------------- Início do folder dfdc_train_part_12 --------------\n",
      "dfdc_train_part_12: 0.00%...\n"
     ]
    },
    {
     "ename": "KeyboardInterrupt",
     "evalue": "",
     "output_type": "error",
     "traceback": [
      "\u001b[1;31m---------------------------------------------------------------------------\u001b[0m",
      "\u001b[1;31mKeyboardInterrupt\u001b[0m                         Traceback (most recent call last)",
      "\u001b[1;32m<ipython-input-24-95ce837c889c>\u001b[0m in \u001b[0;36m<module>\u001b[1;34m\u001b[0m\n\u001b[0;32m     27\u001b[0m         \u001b[0mnew_row\u001b[0m\u001b[1;33m[\u001b[0m\u001b[1;34m\"FOLDER\"\u001b[0m\u001b[1;33m]\u001b[0m \u001b[1;33m=\u001b[0m \u001b[0mfolder\u001b[0m\u001b[1;33m\u001b[0m\u001b[1;33m\u001b[0m\u001b[0m\n\u001b[0;32m     28\u001b[0m \u001b[1;33m\u001b[0m\u001b[0m\n\u001b[1;32m---> 29\u001b[1;33m         \u001b[0mfinal_predict\u001b[0m \u001b[1;33m=\u001b[0m \u001b[0mpredictor\u001b[0m\u001b[1;33m.\u001b[0m\u001b[0mgetFinalPredict\u001b[0m\u001b[1;33m(\u001b[0m\u001b[0mstrategy\u001b[0m\u001b[1;33m=\u001b[0m\u001b[1;34m'majority'\u001b[0m\u001b[1;33m)\u001b[0m\u001b[1;33m\u001b[0m\u001b[1;33m\u001b[0m\u001b[0m\n\u001b[0m\u001b[0;32m     30\u001b[0m \u001b[1;33m\u001b[0m\u001b[0m\n\u001b[0;32m     31\u001b[0m         \u001b[1;32mif\u001b[0m \u001b[0mfinal_predict\u001b[0m \u001b[1;32mis\u001b[0m \u001b[1;32mNone\u001b[0m\u001b[1;33m:\u001b[0m\u001b[1;33m\u001b[0m\u001b[1;33m\u001b[0m\u001b[0m\n",
      "\u001b[1;32m<ipython-input-8-88e51fb2ac8c>\u001b[0m in \u001b[0;36mgetFinalPredict\u001b[1;34m(self, strategy)\u001b[0m\n\u001b[0;32m    110\u001b[0m     \u001b[1;32mdef\u001b[0m \u001b[0mgetFinalPredict\u001b[0m\u001b[1;33m(\u001b[0m\u001b[0mself\u001b[0m\u001b[1;33m,\u001b[0m \u001b[0mstrategy\u001b[0m\u001b[1;33m=\u001b[0m\u001b[1;34m'majority'\u001b[0m\u001b[1;33m)\u001b[0m\u001b[1;33m:\u001b[0m\u001b[1;33m\u001b[0m\u001b[1;33m\u001b[0m\u001b[0m\n\u001b[0;32m    111\u001b[0m         \u001b[1;32mif\u001b[0m \u001b[0mself\u001b[0m\u001b[1;33m.\u001b[0m\u001b[0mpredicts_tensor\u001b[0m \u001b[1;32mis\u001b[0m \u001b[1;32mNone\u001b[0m\u001b[1;33m:\u001b[0m\u001b[1;33m\u001b[0m\u001b[1;33m\u001b[0m\u001b[0m\n\u001b[1;32m--> 112\u001b[1;33m             \u001b[1;32mif\u001b[0m \u001b[0mself\u001b[0m\u001b[1;33m.\u001b[0m\u001b[0mgetPredictsTensor\u001b[0m\u001b[1;33m(\u001b[0m\u001b[1;33m)\u001b[0m \u001b[1;32mis\u001b[0m \u001b[1;32mNone\u001b[0m\u001b[1;33m:\u001b[0m\u001b[1;33m\u001b[0m\u001b[1;33m\u001b[0m\u001b[0m\n\u001b[0m\u001b[0;32m    113\u001b[0m                 \u001b[1;32mreturn\u001b[0m\u001b[1;33m\u001b[0m\u001b[1;33m\u001b[0m\u001b[0m\n\u001b[0;32m    114\u001b[0m \u001b[1;33m\u001b[0m\u001b[0m\n",
      "\u001b[1;32m<ipython-input-8-88e51fb2ac8c>\u001b[0m in \u001b[0;36mgetPredictsTensor\u001b[1;34m(self)\u001b[0m\n\u001b[0;32m     97\u001b[0m     \u001b[1;32mdef\u001b[0m \u001b[0mgetPredictsTensor\u001b[0m\u001b[1;33m(\u001b[0m\u001b[0mself\u001b[0m\u001b[1;33m)\u001b[0m\u001b[1;33m:\u001b[0m\u001b[1;33m\u001b[0m\u001b[1;33m\u001b[0m\u001b[0m\n\u001b[0;32m     98\u001b[0m         \u001b[1;32mif\u001b[0m \u001b[0mself\u001b[0m\u001b[1;33m.\u001b[0m\u001b[0mfaces_tensor\u001b[0m \u001b[1;32mis\u001b[0m \u001b[1;32mNone\u001b[0m\u001b[1;33m:\u001b[0m\u001b[1;33m\u001b[0m\u001b[1;33m\u001b[0m\u001b[0m\n\u001b[1;32m---> 99\u001b[1;33m             \u001b[1;32mif\u001b[0m \u001b[0mself\u001b[0m\u001b[1;33m.\u001b[0m\u001b[0mgetFacesTensor\u001b[0m\u001b[1;33m(\u001b[0m\u001b[1;33m)\u001b[0m \u001b[1;32mis\u001b[0m \u001b[1;32mNone\u001b[0m\u001b[1;33m:\u001b[0m\u001b[1;33m\u001b[0m\u001b[1;33m\u001b[0m\u001b[0m\n\u001b[0m\u001b[0;32m    100\u001b[0m                 \u001b[1;32mreturn\u001b[0m\u001b[1;33m\u001b[0m\u001b[1;33m\u001b[0m\u001b[0m\n\u001b[0;32m    101\u001b[0m \u001b[1;33m\u001b[0m\u001b[0m\n",
      "\u001b[1;32m<ipython-input-8-88e51fb2ac8c>\u001b[0m in \u001b[0;36mgetFacesTensor\u001b[1;34m(self)\u001b[0m\n\u001b[0;32m     44\u001b[0m             \u001b[1;31m# Só recorta o rosto se o frame atual for mod check_every_frame, ou seja, ele só decodifica de check_every_frame em check_every_frame frames.\u001b[0m\u001b[1;33m\u001b[0m\u001b[1;33m\u001b[0m\u001b[1;33m\u001b[0m\u001b[0m\n\u001b[0;32m     45\u001b[0m             \u001b[1;32mif\u001b[0m \u001b[0m_\u001b[0m \u001b[1;33m==\u001b[0m \u001b[1;36m1\u001b[0m \u001b[1;32mor\u001b[0m \u001b[0m_\u001b[0m \u001b[1;33m%\u001b[0m \u001b[0mself\u001b[0m\u001b[1;33m.\u001b[0m\u001b[0mcheck_every_frame\u001b[0m \u001b[1;33m==\u001b[0m \u001b[1;36m0\u001b[0m\u001b[1;33m:\u001b[0m\u001b[1;33m\u001b[0m\u001b[1;33m\u001b[0m\u001b[0m\n\u001b[1;32m---> 46\u001b[1;33m                 \u001b[0msuccess\u001b[0m\u001b[1;33m,\u001b[0m \u001b[0mframe\u001b[0m \u001b[1;33m=\u001b[0m \u001b[0mcap\u001b[0m\u001b[1;33m.\u001b[0m\u001b[0mretrieve\u001b[0m\u001b[1;33m(\u001b[0m\u001b[1;33m)\u001b[0m\u001b[1;33m\u001b[0m\u001b[1;33m\u001b[0m\u001b[0m\n\u001b[0m\u001b[0;32m     47\u001b[0m             \u001b[1;32melse\u001b[0m\u001b[1;33m:\u001b[0m\u001b[1;33m\u001b[0m\u001b[1;33m\u001b[0m\u001b[0m\n\u001b[0;32m     48\u001b[0m                 \u001b[1;32mcontinue\u001b[0m\u001b[1;33m\u001b[0m\u001b[1;33m\u001b[0m\u001b[0m\n",
      "\u001b[1;31mKeyboardInterrupt\u001b[0m: "
     ]
    }
   ],
   "source": [
    "# Inicializa-se um predictor e um dataframe\n",
    "predictor = Predictor(resnet18, batch_size=20, padding=10, size=224, check_every_frame=5)\n",
    "\n",
    "for folder in folders:\n",
    "    \n",
    "    folder_path = './Kaggle Dataset/' + folder\n",
    "    \n",
    "    videos = Videos(folder_path)\n",
    "    videos_generator = videos.getAllVideosPath()\n",
    "    \n",
    "    print(f\"-------------- Início do folder {folder} --------------\")\n",
    "    \n",
    "    videos_quantity = len(videos.video_files)\n",
    "    percentage = 25\n",
    "    print_every = int(videos_quantity / (100/percentage))\n",
    "\n",
    "    for n_video, video_data in enumerate(videos_generator):\n",
    "        \n",
    "        if not os.path.isfile(video_data[0]) or (predicts_df.index == video_data[1]).any():\n",
    "            if n_video % print_every == 0:\n",
    "                print(\"{}: {:.2f}%...\".format(folder, round(n_video / videos_quantity * 100)))\n",
    "            continue\n",
    "        \n",
    "        predictor.setVideoPath(video_data[0])\n",
    "        \n",
    "        new_row = {\"FOLDER\": folder, \"True FAKE\": 0, \"True REAL\": 0, \"False FAKE\": 0, \"False REAL\": 0, \"None\": 0}\n",
    "        new_row[\"FOLDER\"] = folder\n",
    "\n",
    "        final_predict = predictor.getFinalPredict(strategy='majority')\n",
    "        \n",
    "        if final_predict is None:\n",
    "            new_row[\"None\"] = 1\n",
    "            \n",
    "        elif final_predict[1] == video_data[2]:\n",
    "            prefixo = \"True \"\n",
    "            \n",
    "        else:\n",
    "            prefixo = \"False \"\n",
    "\n",
    "        new_row[prefixo + video_data[2]] = 1\n",
    "\n",
    "        predicts_df.loc[video_data[1]] = new_row\n",
    "        \n",
    "        if n_video % print_every == 0:\n",
    "            print(\"{}: {:.2f}%...\".format(folder, round(n_video / videos_quantity * 100)))\n",
    "        \n",
    "    # Salva o arquivo .csv a cada pasta percorrida\n",
    "    predicts_df.to_csv('./Videos Predictions .csv/predicts_df.csv', index=True)"
   ]
  },
  {
   "cell_type": "code",
   "execution_count": 27,
   "metadata": {},
   "outputs": [
    {
     "data": {
      "text/plain": [
       "<matplotlib.axes._subplots.AxesSubplot at 0x22e0f9a76c8>"
      ]
     },
     "execution_count": 27,
     "metadata": {},
     "output_type": "execute_result"
    },
    {
     "data": {
      "image/png": "[encoded data removed]",
      "text/plain": [
       "<Figure size 432x288 with 2 Axes>"
      ]
     },
     "metadata": {},
     "output_type": "display_data"
    }
   ],
   "source": [
    "conf_matrix = predicts_df[predicts_df.columns[1:-1]].sum().to_numpy().reshape((2,2)).T\n",
    "conf_matrix[1][0], conf_matrix[1][1] = conf_matrix[1][1], conf_matrix[1][0]\n",
    "conf_matrix = pd.DataFrame(conf_matrix, columns=['predicted FAKE', 'predicted REAL'], index=['FAKE', 'REAL'], dtype='int32')\n",
    "sns.heatmap(conf_matrix, annot=True, fmt=\"d\")"
   ]
  }
 ],
 "metadata": {
  "kernelspec": {
   "display_name": "Python 3",
   "language": "python",
   "name": "python3"
  },
  "language_info": {
   "codemirror_mode": {
    "name": "ipython",
    "version": 3
   },
   "file_extension": ".py",
   "mimetype": "text/x-python",
   "name": "python",
   "nbconvert_exporter": "python",
   "pygments_lexer": "ipython3",
   "version": "3.7.7"
  }
 },
 "nbformat": 4,
 "nbformat_minor": 4
}
