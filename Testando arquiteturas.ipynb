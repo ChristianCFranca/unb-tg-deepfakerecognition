{
 "cells": [
  {
   "cell_type": "markdown",
   "metadata": {},
   "source": [
    "## Testando no Dataset de Vídeos\n",
    "\n",
    "Nesta etapa iremos testar nossos modelos treinados no dataset de imagens no dataset de vídeos e ver seu resultado."
   ]
  },
  {
   "cell_type": "code",
   "execution_count": 12,
   "metadata": {},
   "outputs": [],
   "source": [
    "import cv2\n",
    "\n",
    "import random\n",
    "\n",
    "import pandas as pd\n",
    "\n",
    "from facenet_pytorch import MTCNN\n",
    "\n",
    "from fastai.vision import *\n",
    "\n",
    "from PIL import Image\n",
    "import glob, os\n",
    "\n",
    "import torch\n",
    "import torch.nn as nn\n",
    "import torch.nn.functional as F\n",
    "import torchvision\n",
    "import torchvision.transforms as transforms"
   ]
  },
  {
   "cell_type": "markdown",
   "metadata": {},
   "source": [
    "Definimos um device onde a validação será rodada."
   ]
  },
  {
   "cell_type": "code",
   "execution_count": 4,
   "metadata": {},
   "outputs": [
    {
     "name": "stdout",
     "output_type": "stream",
     "text": [
      "Running on device: cuda:0\n"
     ]
    }
   ],
   "source": [
    "# Definimos um device onde os tensors estarão sendo processados\n",
    "device = torch.device('cuda:0' if torch.cuda.is_available() else 'cpu')\n",
    "print('Running on device: {}'.format(device))\n",
    "\n",
    "torch.set_printoptions(precision=4)"
   ]
  },
  {
   "cell_type": "markdown",
   "metadata": {},
   "source": [
    "Vamos carregar um modelo ResNet18 treinado pelo fastai. Como a preferência na hora da avaliação é de utilizar o PyTorch ao invés do FastAI, cria-se uma função para recuperar o modelo no formato PyTorch."
   ]
  },
  {
   "cell_type": "code",
   "execution_count": 5,
   "metadata": {},
   "outputs": [],
   "source": [
    "def fastai_to_pytorch(base_model, path):\n",
    "    classes = ['FAKE', 'REAL']\n",
    "    aux_data = ImageDataBunch.single_from_classes(path='.', classes=classes)\n",
    "    learn = cnn_learner(aux_data, base_model)\n",
    "    learn.load(path)\n",
    "    \n",
    "    return learn, learn.model"
   ]
  },
  {
   "cell_type": "markdown",
   "metadata": {},
   "source": [
    "Carrega-se uma Resnet18 treinada."
   ]
  },
  {
   "cell_type": "code",
   "execution_count": 6,
   "metadata": {},
   "outputs": [],
   "source": [
    "model_path = '../Faces Dataset/no-resize-color/models/resnet18_best_mcc_unfreezed_fold1'\n",
    "base_model = models.resnet18\n",
    "\n",
    "ftp = fastai_to_pytorch(base_model, model_path)\n",
    "resnet18_learn = ftp[0]\n",
    "resnet18 = ftp[1]"
   ]
  },
  {
   "cell_type": "markdown",
   "metadata": {},
   "source": [
    "Criamos uma lista de todos as pastas que contém os vídeos para testar."
   ]
  },
  {
   "cell_type": "code",
   "execution_count": 7,
   "metadata": {},
   "outputs": [
    {
     "data": {
      "text/plain": [
       "['dfdc_train_part_0',\n",
       " 'dfdc_train_part_1',\n",
       " 'dfdc_train_part_10',\n",
       " 'dfdc_train_part_11',\n",
       " 'dfdc_train_part_12',\n",
       " 'dfdc_train_part_13',\n",
       " 'dfdc_train_part_14',\n",
       " 'dfdc_train_part_15',\n",
       " 'dfdc_train_part_16',\n",
       " 'dfdc_train_part_17']"
      ]
     },
     "execution_count": 7,
     "metadata": {},
     "output_type": "execute_result"
    }
   ],
   "source": [
    "# Cria uma lista de todas as pastas disponíveis para treinamento\n",
    "folders = next(os.walk('./Kaggle Dataset/'))[1]\n",
    "folders[:10]"
   ]
  },
  {
   "cell_type": "markdown",
   "metadata": {},
   "source": [
    "Definimos algumas classes e funções para nos auxiliar."
   ]
  },
  {
   "cell_type": "code",
   "execution_count": 8,
   "metadata": {},
   "outputs": [],
   "source": [
    "# Cuida de lidar com o acesso aos vídeos e devolver os paths / labels corretamente\n",
    "class Videos():\n",
    "    def __init__(self, folder_path):\n",
    "        # Guarda o folder_path\n",
    "        self.folder_path = folder_path\n",
    "        \n",
    "        # Guarda a lista de todos os arquivos de videos dentro do folder_path\n",
    "        self.video_files = glob.glob(folder_path + '/*.mp4')\n",
    "        \n",
    "        # Lê o arquivo JSON que contém as informações dos deepfakes naquela pasta\n",
    "        self.metadata = pd.read_json(folder_path + '/metadata.json').transpose() # Essa transposiçao eh feita pois as colunas e as linhas estao trocadas\n",
    "        \n",
    "    def getRandomVideo(self):\n",
    "        video_path = random.choice(self.video_files)\n",
    "        video_name = os.path.basename(video_path)\n",
    "        label = self.metadata.loc[video_name].label\n",
    "        \n",
    "        return video_path, video_name, label\n",
    "        \n",
    "    def getRealVideo(self, video_name):\n",
    "        real_video_name = self.metadata.loc[video_name].original\n",
    "        # Verifica se é NaN, pois caso seja o nome original é o próprio video real\n",
    "        if pd.isna(real_video_name):\n",
    "            real_video_name = video_name\n",
    "        real_video_path = folder_path + '/' + real_video_name\n",
    "        return real_video_path, real_video_name, 'REAL'\n",
    "    \n",
    "    def getAllVideosPath(self):\n",
    "        for video_name, columns in self.metadata.iterrows():\n",
    "            yield self.folder_path + '/' + video_name, video_name, columns[0] # Label\n",
    "\n",
    "def getYUVTensor(face, size, transform):\n",
    "    face = cv2.cvtColor(face, cv2.COLOR_BGR2YCrCb)\n",
    "    face = cv2.resize(face, (size, size))[:, :, 0]\n",
    "    face_tensor = transform(face)\n",
    "    face_tensor = torch.cat((face_tensor, face_tensor, face_tensor)).unsqueeze(0)\n",
    "    return face_tensor"
   ]
  },
  {
   "cell_type": "code",
   "execution_count": 9,
   "metadata": {},
   "outputs": [],
   "source": [
    "def showVideo(video_path, label, padding=0, size=-1, channel=None, separate_face_box=False):\n",
    "    cap = cv2.VideoCapture(video_path)\n",
    "    \n",
    "    # Configura a cor a ser colocada na LABEL\n",
    "    if label == 'REAL':\n",
    "        color = (0, 255, 0) # Verde\n",
    "    else:\n",
    "        color = (0, 0, 255) # Vermelho  \n",
    "    \n",
    "    face = None\n",
    "    while(cap.isOpened()):\n",
    "        ret, frame = cap.read()\n",
    "        if ret:\n",
    "            boxes, _ = mtcnn.detect(Image.fromarray(frame))\n",
    "            if boxes is not None:\n",
    "                for box in boxes: \n",
    "                    face = frame[int(box[1] - padding):int(box[3] + padding), int(box[0] - padding):int(box[2] + padding)].copy()\n",
    "                    cv2.putText(img=frame, text=label, org=(box[0], box[1]), fontFace=cv2.FONT_HERSHEY_SIMPLEX, fontScale=1, color=color, thickness=2)\n",
    "                    cv2.rectangle(frame, (box[0], box[1]), (box[2], box[3]), color=[0, 255, 0], thickness=5)\n",
    "                    if channel == 'luma':\n",
    "                        face = cv2.cvtColor(face, cv2.COLOR_BGR2YCrCb)\n",
    "                        face = face[:,:,0] # Pega apenas o canal Y\n",
    "                    \n",
    "            if face is not None:\n",
    "                if size > 0:\n",
    "                    face = cv2.resize(face, (size, size))\n",
    "                \n",
    "                if separate_face_box:\n",
    "                    cv2.imshow('face', face)\n",
    "                \n",
    "            frame = cv2.resize(frame, (1280, 720))\n",
    "            cv2.imshow('frame', frame)\n",
    "            \n",
    "            # Apertar a tecla 'q' para sair do vídeo.\n",
    "            if cv2.waitKey(1) & 0xFF == ord('q'):\n",
    "                break\n",
    "                \n",
    "        else:\n",
    "            cv2.destroyAllWindows()\n",
    "            break\n",
    "\n",
    "    cap.release()\n",
    "    cv2.destroyAllWindows()"
   ]
  },
  {
   "cell_type": "code",
   "execution_count": 10,
   "metadata": {},
   "outputs": [],
   "source": [
    "def predictVideo(model, video_path, batch_size=20, padding=0, size=224, check_every_frame=15):\n",
    "    \n",
    "    # Instancia um VideoCapture do arquivo presente em video_path (no caso, o vídeo)\n",
    "    cap = cv2.VideoCapture(video_path)\n",
    "    # Pega, em inteiros, a quantidade de frames do vídeo\n",
    "    v_len = int(cap.get(cv2.CAP_PROP_FRAME_COUNT))\n",
    "\n",
    "    # Inicializa frames como uma lista vazia\n",
    "    frames = []\n",
    "    face_list = []\n",
    "    \n",
    "    # Entra num loop que percorre o vídeo até ele acabar\n",
    "    for _ in range(1, v_len + 1):\n",
    "        # Realiza um grab() no próximo frame, mas não o decodifica. Isso ajuda a agilizar o processo se não for necessário\n",
    "        # recuperar todos os frames a todo o momento.\n",
    "        success = cap.grab()\n",
    "        # Só recorta o rosto se o frame atual for mod check_every_frame, ou seja, ele só decodifica de check_every_frame em check_every_frame frames.\n",
    "        if _ == 1 or _ % check_every_frame == 0:\n",
    "            success, frame = cap.retrieve()\n",
    "        else:\n",
    "            continue\n",
    "        if not success:\n",
    "            continue\n",
    "            \n",
    "        # Realiza um append do frame atual na lista frames\n",
    "        frame = cv2.cvtColor(frame, cv2.COLOR_BGR2RGB)\n",
    "        frame = Image.fromarray(frame)\n",
    "        frames.append(frame)\n",
    "        \n",
    "        if len(frames) >= batch_size or (_ == v_len and len(frames) > 0):\n",
    "            # Utiliza o MTCNN para detectar todas as bounding boxes de todos os rostos\n",
    "            boxes, probs = mtcnn.detect(frames)\n",
    "            # Verifica se não foi obtida nenhuma bounding box em todo o batch\n",
    "            if not all(x is None for x in boxes):\n",
    "                # Acessa cada um dos frames no batch\n",
    "                for i, boxes_f in enumerate(boxes):\n",
    "                    # Verifica houve None para o frame atual\n",
    "                    if boxes_f is not None:\n",
    "                        # Acessa cada uma das bounding boxes dentro de um único frame (pode haver vários rostos)\n",
    "                        face_count = 0\n",
    "                        for bbox in boxes_f:\n",
    "                            face = frames[i].crop(box=(bbox[0]-padding, \n",
    "                                                       bbox[1]-padding, \n",
    "                                                       bbox[2]+padding, \n",
    "                                                       bbox[3]+padding))\n",
    "                            \n",
    "                            \n",
    "                            # Se desejado, aplica um resize\n",
    "                            if size > 0:\n",
    "                                face = face.resize((size, size))\n",
    "                                \n",
    "                            face_list.append(face)\n",
    "\n",
    "            frames = []\n",
    "\n",
    "    # Solta o objeto do VideoCapture\n",
    "    cap.release()\n",
    "    # Destrói as janelas atualmente ativas\n",
    "    cv2.destroyAllWindows()\n",
    "    \n",
    "    return face_list"
   ]
  },
  {
   "cell_type": "code",
   "execution_count": null,
   "metadata": {},
   "outputs": [],
   "source": [
    "def predictVideo(video_path, model, padding=0, size=224, check_every_frame=15):\n",
    "    model = model.to(device)\n",
    "    model.eval()\n",
    "    \n",
    "    cap = cv2.VideoCapture(video_path)\n",
    "    v_len = int(cap.get(cv2.CAP_PROP_FRAME_COUNT))\n",
    "    \n",
    "    transform = torchvision.transforms.ToTensor()\n",
    "    \n",
    "    face = None\n",
    "    video_frame = 1\n",
    "    predictions = [0, 0]\n",
    "\n",
    "    while(cap.isOpened()):\n",
    "        ret, frame = cap.read()\n",
    "        if ret:\n",
    "            if video_frame == 1 or video_frame % check_every_frame == 0:\n",
    "                boxes = None\n",
    "                boxes, _ = mtcnn.detect(Image.fromarray(frame))\n",
    "                if boxes is not None:\n",
    "                    for box in boxes: \n",
    "                        face = frame[\n",
    "                            int(max(box[1] - padding, 0)):int(max(box[3] + padding, 0)), \n",
    "                            int(max(box[0] - padding, 0)):int(max(box[2] + padding, 0))\n",
    "                        ]\n",
    "                        cv2.rectangle(frame, (box[0], box[1]), (box[2], box[3]), color=[0, 255, 0], thickness=5)\n",
    "                        \n",
    "                    # Predição\n",
    "                    prediction = model(getYUVTensor(face, size, transform).to(device)).max(dim=1)[1]\n",
    "                    predictions[prediction.item()] += 1\n",
    "            frame = cv2.resize(frame, (1280, 720))\n",
    "            #cv2.imshow('frame', frame)\n",
    "            video_frame += 1\n",
    "        else:\n",
    "            break\n",
    "\n",
    "    cap.release()\n",
    "    cv2.destroyAllWindows()\n",
    "    return predictions"
   ]
  },
  {
   "cell_type": "markdown",
   "metadata": {},
   "source": [
    "Defini-se uma função getVeredict que recebe o vetor de predições 'Fake' e 'Real' e devolve o veredito.\n",
    "\n",
    "Nesse caso, o veredito é apenas a predição que está em maior quantidade no vídeo."
   ]
  },
  {
   "cell_type": "code",
   "execution_count": null,
   "metadata": {},
   "outputs": [],
   "source": [
    "def getVeredict(predictions):\n",
    "    prediction_dict = {0: 'FAKE',\n",
    "                       1: 'REAL'}\n",
    "    veredict = prediction_dict[predictions.index(max(predictions))]\n",
    "    \n",
    "    #if  max(predictions) / (min(predictions) + max(predictions)) > 0.65:\n",
    "    #    return veredict\n",
    "    #else:\n",
    "    #    return \"Uncertain... Most to {}, i guess?\".format(veredict)\n",
    "    return veredict"
   ]
  },
  {
   "cell_type": "markdown",
   "metadata": {},
   "source": [
    "Definimos também nossa rede MTCNN idêntica à utilizada para retirar os rostos."
   ]
  },
  {
   "cell_type": "code",
   "execution_count": 11,
   "metadata": {},
   "outputs": [],
   "source": [
    "# Margin não faz diferença se o método .detect() for utilizado\n",
    "IMAGE_SIZE = 224\n",
    "MARGIN = 0\n",
    "MIN_FACE_SIZE = 100\n",
    "THRESHOLDS = [0.78, 0.78, 0.78]\n",
    "POST_PROCESS = False\n",
    "SELECT_LARGEST = False\n",
    "KEEP_ALL = True\n",
    "DEVICE = device\n",
    "\n",
    "# ----------------------------------\n",
    "\n",
    "mtcnn = MTCNN(image_size=IMAGE_SIZE,\n",
    "              margin=MARGIN, \n",
    "              min_face_size=MIN_FACE_SIZE, \n",
    "              thresholds=THRESHOLDS,\n",
    "              post_process=POST_PROCESS,\n",
    "              select_largest=SELECT_LARGEST, \n",
    "              keep_all=KEEP_ALL, \n",
    "              device=device)"
   ]
  },
  {
   "cell_type": "markdown",
   "metadata": {},
   "source": [
    "### Pasta Aleatória"
   ]
  },
  {
   "cell_type": "markdown",
   "metadata": {},
   "source": [
    "Coletamos uma pasta aleatória de vídeos para o teste."
   ]
  },
  {
   "cell_type": "code",
   "execution_count": 15,
   "metadata": {},
   "outputs": [],
   "source": [
    "# Definimos a coleta de uma pasta aleatória\n",
    "random_folder = random.choice(folders) + '/'\n",
    "\n",
    "folder_path = './Kaggle Dataset/' + random_folder\n",
    "\n",
    "# Instaciamos uma classe de Videos\n",
    "videos = Videos(folder_path)"
   ]
  },
  {
   "cell_type": "markdown",
   "metadata": {},
   "source": [
    "## Teste vídeo FAKE\n",
    "\n",
    "Obtemos um vídeo aleatório falso."
   ]
  },
  {
   "cell_type": "code",
   "execution_count": 16,
   "metadata": {},
   "outputs": [],
   "source": [
    "video_path, video_name, label = videos.getRandomVideo()\n",
    "showVideo(video_path, label)"
   ]
  },
  {
   "cell_type": "markdown",
   "metadata": {},
   "source": [
    "Obtém o rosto a cada 5 frames e guarda em uma lista."
   ]
  },
  {
   "cell_type": "code",
   "execution_count": 17,
   "metadata": {},
   "outputs": [
    {
     "data": {
      "text/plain": [
       "[<PIL.Image.Image image mode=RGB size=224x224 at 0x1C68EB0E4C8>,\n",
       " <PIL.Image.Image image mode=RGB size=224x224 at 0x1C68EB0E788>,\n",
       " <PIL.Image.Image image mode=RGB size=224x224 at 0x1C68EB0E608>,\n",
       " <PIL.Image.Image image mode=RGB size=224x224 at 0x1C68EB0E508>,\n",
       " <PIL.Image.Image image mode=RGB size=224x224 at 0x1C68EB0E348>,\n",
       " <PIL.Image.Image image mode=RGB size=224x224 at 0x1C68EB0E248>,\n",
       " <PIL.Image.Image image mode=RGB size=224x224 at 0x1C68EB0E108>,\n",
       " <PIL.Image.Image image mode=RGB size=224x224 at 0x1C68EB0E148>,\n",
       " <PIL.Image.Image image mode=RGB size=224x224 at 0x1C68EB0EC08>,\n",
       " <PIL.Image.Image image mode=RGB size=224x224 at 0x1C68EB0EA08>]"
      ]
     },
     "execution_count": 17,
     "metadata": {},
     "output_type": "execute_result"
    }
   ],
   "source": [
    "face_list = predictVideo(resnet18, video_path, batch_size=20, padding=10, size=224, check_every_frame=5)\n",
    "face_list[:10]"
   ]
  },
  {
   "cell_type": "code",
   "execution_count": 18,
   "metadata": {},
   "outputs": [
    {
     "data": {
      "image/png": "[encoded data removed]",
      "text/plain": [
       "<PIL.Image.Image image mode=RGB size=224x224 at 0x1C68EB0E4C8>"
      ]
     },
     "execution_count": 18,
     "metadata": {},
     "output_type": "execute_result"
    }
   ],
   "source": [
    "face_list[0]"
   ]
  },
  {
   "cell_type": "markdown",
   "metadata": {},
   "source": [
    "Definem-se funções auxiliares para a correta conversão de Image para Tensor."
   ]
  },
  {
   "cell_type": "code",
   "execution_count": 19,
   "metadata": {},
   "outputs": [],
   "source": [
    "to_tensor = transforms.ToTensor()\n",
    "to_pil = transforms.ToPILImage()"
   ]
  },
  {
   "cell_type": "markdown",
   "metadata": {},
   "source": [
    "Obtém-se o tensor de rostos concatenados."
   ]
  },
  {
   "cell_type": "code",
   "execution_count": 20,
   "metadata": {},
   "outputs": [
    {
     "data": {
      "text/plain": [
       "torch.Size([61, 3, 224, 224])"
      ]
     },
     "execution_count": 20,
     "metadata": {},
     "output_type": "execute_result"
    }
   ],
   "source": [
    "all_faces_tensor = torch.tensor([])\n",
    "for face in face_list:\n",
    "    face_tensor = to_tensor(face).unsqueeze(0)\n",
    "    all_faces_tensor = torch.cat((all_faces_tensor, face_tensor), dim=0)\n",
    "    \n",
    "all_faces_tensor.shape"
   ]
  },
  {
   "cell_type": "markdown",
   "metadata": {},
   "source": [
    "Passamos o Batch de rostos pelo modelo e verificamos o índice:\n",
    "- `0` : FAKE\n",
    "- `1` : REAL"
   ]
  },
  {
   "cell_type": "markdown",
   "metadata": {},
   "source": [
    "### Modo Pytorch"
   ]
  },
  {
   "cell_type": "code",
   "execution_count": 21,
   "metadata": {},
   "outputs": [
    {
     "data": {
      "text/plain": [
       "tensor([0, 0, 0, 0, 0, 0, 0, 0, 0, 0, 0, 0, 0, 0, 0, 0, 0, 0, 0, 0, 0, 0, 0, 0,\n",
       "        0, 0, 0, 0, 0, 0, 0, 0, 0, 0, 0, 0, 0, 0, 0, 0, 0, 0, 0, 0, 0, 0, 0, 0,\n",
       "        0, 0, 0, 0, 0, 0, 0, 0, 0, 0, 0, 0, 0], device='cuda:0')"
      ]
     },
     "execution_count": 21,
     "metadata": {},
     "output_type": "execute_result"
    }
   ],
   "source": [
    "resnet18.eval()\n",
    "resnet18.cuda()\n",
    "\n",
    "with torch.no_grad():\n",
    "    all_faces_tensor = all_faces_tensor.to(device)\n",
    "\n",
    "    predict = resnet18(all_faces_tensor)\n",
    "    \n",
    "F.softmax(predict, dim=1).argmax(dim=1)"
   ]
  },
  {
   "cell_type": "markdown",
   "metadata": {},
   "source": [
    "### Modo FastAI"
   ]
  },
  {
   "cell_type": "code",
   "execution_count": 22,
   "metadata": {},
   "outputs": [
    {
     "name": "stdout",
     "output_type": "stream",
     "text": [
      "(Category FAKE, tensor(0), tensor([1.0000e+00, 1.1051e-10]))\n",
      "(Category FAKE, tensor(0), tensor([1.0000e+00, 1.3214e-10]))\n",
      "(Category FAKE, tensor(0), tensor([1.0000e+00, 2.5745e-15]))\n",
      "(Category FAKE, tensor(0), tensor([1.0000e+00, 1.5237e-10]))\n",
      "(Category FAKE, tensor(0), tensor([1.0000e+00, 1.2290e-13]))\n",
      "(Category FAKE, tensor(0), tensor([1.0000e+00, 5.8350e-12]))\n",
      "(Category FAKE, tensor(0), tensor([1.0000e+00, 5.4892e-11]))\n",
      "(Category FAKE, tensor(0), tensor([1.0000e+00, 8.8900e-11]))\n",
      "(Category FAKE, tensor(0), tensor([1.0000e+00, 9.1931e-08]))\n",
      "(Category FAKE, tensor(0), tensor([1.0000e+00, 6.8652e-08]))\n",
      "(Category FAKE, tensor(0), tensor([1.0000e+00, 2.2152e-07]))\n",
      "(Category FAKE, tensor(0), tensor([1.0000e+00, 2.1068e-07]))\n",
      "(Category FAKE, tensor(0), tensor([1.0000e+00, 6.9663e-09]))\n",
      "(Category FAKE, tensor(0), tensor([1.0000e+00, 9.2637e-12]))\n",
      "(Category FAKE, tensor(0), tensor([1.0000e+00, 9.5238e-11]))\n",
      "(Category FAKE, tensor(0), tensor([1.0000e+00, 1.2640e-11]))\n",
      "(Category FAKE, tensor(0), tensor([9.9999e-01, 6.1154e-06]))\n",
      "(Category FAKE, tensor(0), tensor([1.0000e+00, 2.8764e-10]))\n",
      "(Category FAKE, tensor(0), tensor([1.0000e+00, 3.3484e-09]))\n",
      "(Category FAKE, tensor(0), tensor([1.0000e+00, 9.3408e-10]))\n",
      "(Category FAKE, tensor(0), tensor([1.0000e+00, 5.7400e-07]))\n",
      "(Category FAKE, tensor(0), tensor([9.9997e-01, 2.5860e-05]))\n",
      "(Category FAKE, tensor(0), tensor([1.0000e+00, 4.3941e-06]))\n",
      "(Category FAKE, tensor(0), tensor([9.9982e-01, 1.8132e-04]))\n",
      "(Category FAKE, tensor(0), tensor([9.9999e-01, 5.1753e-06]))\n",
      "(Category FAKE, tensor(0), tensor([9.9984e-01, 1.6002e-04]))\n",
      "(Category FAKE, tensor(0), tensor([1.0000e+00, 2.0129e-06]))\n",
      "(Category FAKE, tensor(0), tensor([9.9974e-01, 2.6108e-04]))\n",
      "(Category FAKE, tensor(0), tensor([9.9987e-01, 1.3124e-04]))\n",
      "(Category FAKE, tensor(0), tensor([9.9988e-01, 1.2419e-04]))\n",
      "(Category FAKE, tensor(0), tensor([9.9999e-01, 1.3671e-05]))\n",
      "(Category FAKE, tensor(0), tensor([0.9987, 0.0013]))\n",
      "(Category FAKE, tensor(0), tensor([9.9934e-01, 6.5520e-04]))\n",
      "(Category FAKE, tensor(0), tensor([9.9998e-01, 1.7132e-05]))\n",
      "(Category FAKE, tensor(0), tensor([0.9989, 0.0011]))\n",
      "(Category FAKE, tensor(0), tensor([9.9971e-01, 2.9047e-04]))\n",
      "(Category FAKE, tensor(0), tensor([1.0000e+00, 5.6465e-08]))\n",
      "(Category FAKE, tensor(0), tensor([1.0000e+00, 1.4594e-06]))\n",
      "(Category FAKE, tensor(0), tensor([0.9987, 0.0013]))\n",
      "(Category FAKE, tensor(0), tensor([9.9997e-01, 2.6176e-05]))\n",
      "(Category FAKE, tensor(0), tensor([1.0000e+00, 3.4489e-06]))\n",
      "(Category FAKE, tensor(0), tensor([1.0000e+00, 1.1006e-07]))\n",
      "(Category FAKE, tensor(0), tensor([1.0000e+00, 1.1915e-14]))\n",
      "(Category FAKE, tensor(0), tensor([1.0000e+00, 1.3608e-13]))\n",
      "(Category FAKE, tensor(0), tensor([1.0000e+00, 4.2623e-09]))\n",
      "(Category FAKE, tensor(0), tensor([1.0000e+00, 1.0142e-08]))\n",
      "(Category FAKE, tensor(0), tensor([1.0000e+00, 1.9456e-08]))\n",
      "(Category FAKE, tensor(0), tensor([1.0000e+00, 4.5343e-06]))\n",
      "(Category FAKE, tensor(0), tensor([1.0000e+00, 2.7089e-07]))\n",
      "(Category FAKE, tensor(0), tensor([1.0000e+00, 8.5079e-09]))\n",
      "(Category FAKE, tensor(0), tensor([1.0000e+00, 1.4775e-08]))\n",
      "(Category FAKE, tensor(0), tensor([1.0000e+00, 5.2274e-12]))\n",
      "(Category FAKE, tensor(0), tensor([1.0000e+00, 2.0919e-11]))\n",
      "(Category FAKE, tensor(0), tensor([1.0000e+00, 1.9109e-11]))\n",
      "(Category FAKE, tensor(0), tensor([1.0000e+00, 3.3672e-10]))\n",
      "(Category FAKE, tensor(0), tensor([1.0000e+00, 1.9867e-15]))\n",
      "(Category FAKE, tensor(0), tensor([1.0000e+00, 1.9103e-09]))\n",
      "(Category FAKE, tensor(0), tensor([1.0000e+00, 7.0034e-09]))\n",
      "(Category FAKE, tensor(0), tensor([1.0000e+00, 3.6178e-13]))\n",
      "(Category FAKE, tensor(0), tensor([1.0000e+00, 2.5313e-15]))\n",
      "(Category FAKE, tensor(0), tensor([1.0000e+00, 2.5313e-15]))\n"
     ]
    }
   ],
   "source": [
    "all_faces_tensor = all_faces_tensor.to('cpu')\n",
    "with torch.no_grad():\n",
    "    for tensor in all_faces_tensor:\n",
    "        print(resnet18_learn.predict(tensor))"
   ]
  },
  {
   "cell_type": "markdown",
   "metadata": {},
   "source": [
    "## Teste vídeo REAL\n",
    "\n",
    "Agora mostra o vídeo real do anterior."
   ]
  },
  {
   "cell_type": "code",
   "execution_count": 23,
   "metadata": {},
   "outputs": [],
   "source": [
    "real_video_path, real_video_name, label = videos.getRealVideo(video_name)\n",
    "showVideo(real_video_path, label)"
   ]
  },
  {
   "cell_type": "markdown",
   "metadata": {},
   "source": [
    "E novamente realiza-se as predições em cima dele."
   ]
  },
  {
   "cell_type": "code",
   "execution_count": 24,
   "metadata": {},
   "outputs": [],
   "source": [
    "face_list = predictVideo(resnet18, real_video_path, batch_size=20, padding=10, size=224, check_every_frame=5)\n",
    "\n",
    "all_faces_tensor = torch.tensor([])\n",
    "for face in face_list:\n",
    "    face_tensor = to_tensor(face).unsqueeze(0)\n",
    "    all_faces_tensor = torch.cat((all_faces_tensor, face_tensor), dim=0)"
   ]
  },
  {
   "cell_type": "markdown",
   "metadata": {},
   "source": [
    "### Modo Pytorch"
   ]
  },
  {
   "cell_type": "code",
   "execution_count": 30,
   "metadata": {},
   "outputs": [
    {
     "data": {
      "text/plain": [
       "tensor([0, 1, 1, 1, 1, 1, 1, 1, 1, 1, 1, 1, 1, 1, 1, 1, 1, 1, 1, 1, 1, 1, 1, 0,\n",
       "        1, 1, 1, 1, 1, 1, 1, 1, 1, 1, 1, 1, 1, 1, 1, 1, 1, 1, 1, 1, 1, 1, 1, 1,\n",
       "        1, 1, 1, 1, 1, 1, 1, 1, 1, 1, 1, 1, 1], device='cuda:0')"
      ]
     },
     "execution_count": 30,
     "metadata": {},
     "output_type": "execute_result"
    }
   ],
   "source": [
    "resnet18.eval()\n",
    "resnet18.cuda()\n",
    "\n",
    "with torch.no_grad():\n",
    "    all_faces_tensor = all_faces_tensor.to(device)\n",
    "\n",
    "    predict = resnet18(all_faces_tensor)\n",
    "    \n",
    "F.softmax(predict, dim=1).argmax(dim=1)"
   ]
  },
  {
   "cell_type": "markdown",
   "metadata": {},
   "source": [
    "### Modo FastAI"
   ]
  },
  {
   "cell_type": "code",
   "execution_count": 26,
   "metadata": {},
   "outputs": [
    {
     "name": "stdout",
     "output_type": "stream",
     "text": [
      "(Category FAKE, tensor(0), tensor([0.6064, 0.3936]))\n",
      "(Category REAL, tensor(1), tensor([0.4791, 0.5209]))\n",
      "(Category REAL, tensor(1), tensor([0.0402, 0.9598]))\n",
      "(Category REAL, tensor(1), tensor([0.0344, 0.9656]))\n",
      "(Category REAL, tensor(1), tensor([0.0098, 0.9902]))\n",
      "(Category REAL, tensor(1), tensor([0.0022, 0.9978]))\n",
      "(Category REAL, tensor(1), tensor([0.0093, 0.9907]))\n",
      "(Category REAL, tensor(1), tensor([0.0044, 0.9956]))\n",
      "(Category REAL, tensor(1), tensor([0.0015, 0.9985]))\n",
      "(Category REAL, tensor(1), tensor([0.0017, 0.9983]))\n",
      "(Category REAL, tensor(1), tensor([0.0027, 0.9973]))\n",
      "(Category REAL, tensor(1), tensor([0.0016, 0.9984]))\n",
      "(Category REAL, tensor(1), tensor([0.0012, 0.9988]))\n",
      "(Category REAL, tensor(1), tensor([9.0216e-04, 9.9910e-01]))\n",
      "(Category REAL, tensor(1), tensor([3.3853e-04, 9.9966e-01]))\n",
      "(Category REAL, tensor(1), tensor([5.7300e-04, 9.9943e-01]))\n",
      "(Category REAL, tensor(1), tensor([3.3607e-04, 9.9966e-01]))\n",
      "(Category REAL, tensor(1), tensor([9.4763e-04, 9.9905e-01]))\n",
      "(Category REAL, tensor(1), tensor([1.4332e-04, 9.9986e-01]))\n",
      "(Category REAL, tensor(1), tensor([0.3812, 0.6188]))\n",
      "(Category REAL, tensor(1), tensor([0.1107, 0.8893]))\n",
      "(Category REAL, tensor(1), tensor([0.0329, 0.9671]))\n",
      "(Category REAL, tensor(1), tensor([0.2992, 0.7008]))\n",
      "(Category FAKE, tensor(0), tensor([0.8021, 0.1979]))\n",
      "(Category REAL, tensor(1), tensor([0.0849, 0.9151]))\n",
      "(Category REAL, tensor(1), tensor([0.1332, 0.8668]))\n",
      "(Category REAL, tensor(1), tensor([0.1596, 0.8404]))\n",
      "(Category REAL, tensor(1), tensor([0.0551, 0.9449]))\n",
      "(Category REAL, tensor(1), tensor([0.0081, 0.9919]))\n",
      "(Category REAL, tensor(1), tensor([0.0682, 0.9318]))\n",
      "(Category REAL, tensor(1), tensor([0.1128, 0.8872]))\n",
      "(Category REAL, tensor(1), tensor([0.0864, 0.9136]))\n",
      "(Category REAL, tensor(1), tensor([0.1526, 0.8474]))\n",
      "(Category REAL, tensor(1), tensor([0.0542, 0.9458]))\n",
      "(Category REAL, tensor(1), tensor([0.0310, 0.9690]))\n",
      "(Category REAL, tensor(1), tensor([0.0557, 0.9443]))\n",
      "(Category REAL, tensor(1), tensor([0.0161, 0.9839]))\n",
      "(Category REAL, tensor(1), tensor([0.0394, 0.9606]))\n",
      "(Category REAL, tensor(1), tensor([0.0633, 0.9367]))\n",
      "(Category REAL, tensor(1), tensor([0.1069, 0.8931]))\n",
      "(Category REAL, tensor(1), tensor([0.1536, 0.8464]))\n",
      "(Category REAL, tensor(1), tensor([0.2589, 0.7411]))\n",
      "(Category REAL, tensor(1), tensor([0.4220, 0.5780]))\n",
      "(Category REAL, tensor(1), tensor([0.0126, 0.9874]))\n",
      "(Category REAL, tensor(1), tensor([0.0201, 0.9799]))\n",
      "(Category REAL, tensor(1), tensor([0.0094, 0.9906]))\n",
      "(Category REAL, tensor(1), tensor([0.0025, 0.9975]))\n",
      "(Category REAL, tensor(1), tensor([0.0052, 0.9948]))\n",
      "(Category REAL, tensor(1), tensor([0.0025, 0.9975]))\n",
      "(Category REAL, tensor(1), tensor([0.0048, 0.9952]))\n",
      "(Category REAL, tensor(1), tensor([0.0056, 0.9944]))\n",
      "(Category REAL, tensor(1), tensor([0.0172, 0.9828]))\n",
      "(Category REAL, tensor(1), tensor([0.0184, 0.9816]))\n",
      "(Category REAL, tensor(1), tensor([0.0103, 0.9897]))\n",
      "(Category REAL, tensor(1), tensor([0.0037, 0.9963]))\n",
      "(Category REAL, tensor(1), tensor([0.0072, 0.9928]))\n",
      "(Category REAL, tensor(1), tensor([0.0057, 0.9943]))\n",
      "(Category REAL, tensor(1), tensor([0.0242, 0.9758]))\n",
      "(Category REAL, tensor(1), tensor([0.0302, 0.9698]))\n",
      "(Category REAL, tensor(1), tensor([0.0184, 0.9816]))\n",
      "(Category REAL, tensor(1), tensor([0.0274, 0.9726]))\n"
     ]
    }
   ],
   "source": [
    "all_faces_tensor = all_faces_tensor.to('cpu')\n",
    "with torch.no_grad():\n",
    "    for tensor in all_faces_tensor:\n",
    "        print(resnet18_learn.predict(tensor))"
   ]
  },
  {
   "cell_type": "markdown",
   "metadata": {},
   "source": [
    "Loop que valida todos os vídeos de todas as pastas do dataset do Kaggle e constrói uma matriz de confusão acumulativa das pastas."
   ]
  },
  {
   "cell_type": "code",
   "execution_count": null,
   "metadata": {},
   "outputs": [],
   "source": [
    "mtcnn = MTCNN(keep_all=False, device=device, thresholds=[0.68, 0.78, 0.78], min_face_size=150)\n",
    "\n",
    "total_fake_videos = 0\n",
    "total_real_videos = 0\n",
    "correct_fake = 0\n",
    "correct_real = 0\n",
    "\n",
    "for folder in folders:\n",
    "    folder_path = './Kaggle Dataset/' + folder\n",
    "    videos = Videos(folder_path)\n",
    "    videos_generator = videos.getAllVideosPath()\n",
    "    print(\"-------------- Início do folder {} --------------\".format(folder))\n",
    "    videos_quantity = len(videos.video_files)\n",
    "    percentage = 10\n",
    "    print_every = int(videos_quantity / (100/percentage))\n",
    "\n",
    "    for n_video, video_data in enumerate(videos_generator):\n",
    "        if n_video % print_every == 0:\n",
    "            print(\"{}: {:.2f}%...\".format(folder, round(n_video / videos_quantity * 100)))\n",
    "        #print(\"Video: {}\".format(video_data[1]))\n",
    "        predictions = predictVideo(video_data[0], model=resnet34, padding=10, size=224, check_every_frame=15)\n",
    "        \n",
    "        if video_data[2] == 'FAKE':\n",
    "            total_fake_videos += 1\n",
    "            if getVeredict(predictions) == 'FAKE':\n",
    "                correct_fake += 1\n",
    "        else:\n",
    "            total_real_videos += 1\n",
    "            if getVeredict(predictions) == 'REAL':\n",
    "                correct_real += 1\n",
    "                \n",
    "    data = {\"Predicted_Real\": [correct_real, total_fake_videos - correct_fake], \"Predicted_Fake\": [total_real_videos - correct_real, correct_fake], \"Total\": [total_real_videos, total_fake_videos]}\n",
    "    accuracy = (correct_real + correct_fake) / (total_real_videos + total_fake_videos)\n",
    "    print('Accuracy: {:.2f}%'.format(accuracy*100))\n",
    "    data = pd.DataFrame(data, index=['REAL', 'FAKE'])\n",
    "    print(data)\n",
    "    data.to_csv('./Saved .csv/videos_confusion_matrix.csv', index=False)"
   ]
  },
  {
   "cell_type": "code",
   "execution_count": null,
   "metadata": {},
   "outputs": [],
   "source": [
    "data = {\"Predicted_Real\": [correct_real, total_fake_videos - correct_fake], \"Predicted_Fake\": [total_real_videos - correct_real, correct_fake], \"Total\": [total_real_videos, total_fake_videos]}\n",
    "accuracy1 = \"{:.2f}%\".format(correct_real / total_real_videos*100)\n",
    "accuracy2 = \"{:.2f}%\".format(correct_fake / total_fake_videos*100)\n",
    "data['Accuracy'] = [accuracy1, accuracy2]\n",
    "accuracy = (correct_real + correct_fake) / (total_real_videos + total_fake_videos)\n",
    "print('Accuracy: {:.2f}%'.format(accuracy*100))\n",
    "data = pd.DataFrame(data, index=['REAL', 'FAKE'])\n",
    "data\n",
    "#data.to_csv('./Saved .csv/videos_confusion_matrix.csv', index=False)"
   ]
  }
 ],
 "metadata": {
  "kernelspec": {
   "display_name": "Python 3",
   "language": "python",
   "name": "python3"
  },
  "language_info": {
   "codemirror_mode": {
    "name": "ipython",
    "version": 3
   },
   "file_extension": ".py",
   "mimetype": "text/x-python",
   "name": "python",
   "nbconvert_exporter": "python",
   "pygments_lexer": "ipython3",
   "version": "3.7.7"
  }
 },
 "nbformat": 4,
 "nbformat_minor": 4
}
