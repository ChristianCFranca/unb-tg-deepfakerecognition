{
 "cells": [
  {
   "cell_type": "markdown",
   "metadata": {},
   "source": [
    "## Neste notebook, estarei utilizando os modelos pré-treinados na última camada e descongelando o resto de sua estrutura para fazer o resto do treinamento"
   ]
  },
  {
   "cell_type": "code",
   "execution_count": 2,
   "metadata": {},
   "outputs": [],
   "source": [
    "import torch\n",
    "import torch.nn as nn\n",
    "import torchvision\n",
    "\n",
    "import io\n",
    "\n",
    "import pandas as pd\n",
    "\n",
    "import sklearn.metrics as metrics"
   ]
  },
  {
   "cell_type": "code",
   "execution_count": 3,
   "metadata": {},
   "outputs": [],
   "source": [
    "device = 'cuda'"
   ]
  },
  {
   "cell_type": "markdown",
   "metadata": {},
   "source": [
    "Carregamos o modelo resnet18 pré-treinado na última camada."
   ]
  },
  {
   "cell_type": "code",
   "execution_count": 7,
   "metadata": {},
   "outputs": [
    {
     "data": {
      "text/plain": [
       "<All keys matched successfully>"
      ]
     },
     "execution_count": 7,
     "metadata": {},
     "output_type": "execute_result"
    }
   ],
   "source": [
    "resnet18 = torchvision.models.resnet18(pretrained=True)\n",
    "\n",
    "in_features = resnet18.fc.in_features\n",
    "resnet18.fc = nn.Linear(in_features, 2)\n",
    "\n",
    "resnet18.load_state_dict(torch.load('./Saved Models/resnet18_pretrained_trainedover1folder.pt'))"
   ]
  },
  {
   "cell_type": "markdown",
   "metadata": {},
   "source": [
    "Carregamos as informações referentes ao dataset."
   ]
  },
  {
   "cell_type": "code",
   "execution_count": 8,
   "metadata": {},
   "outputs": [],
   "source": [
    "transform = torchvision.transforms.ToTensor()\n",
    "DeepFakeDataset = torchvision.datasets.ImageFolder('./Faces Dataset/224px/', transform=transform)"
   ]
  },
  {
   "cell_type": "markdown",
   "metadata": {},
   "source": [
    "Utilizamos um batch_size de 32, caso contrário a GPU não vai ter memória suficiente"
   ]
  },
  {
   "cell_type": "code",
   "execution_count": 15,
   "metadata": {},
   "outputs": [],
   "source": [
    "from torch.utils.data.sampler import SubsetRandomSampler\n",
    "\n",
    "percentage_for_train = 0.7\n",
    "\n",
    "shuffle_indices = torch.randperm(len(DeepFakeDataset))\n",
    "train_indices = shuffle_indices[:int(percentage_for_train*len(DeepFakeDataset))]\n",
    "val_indices = shuffle_indices[int(percentage_for_train*len(DeepFakeDataset)):]\n",
    "\n",
    "train_sampler = SubsetRandomSampler(train_indices)\n",
    "val_sampler = SubsetRandomSampler(val_indices)\n",
    "\n",
    "train_dataloader = torch.utils.data.DataLoader(DeepFakeDataset, batch_size=128, sampler=train_sampler)\n",
    "test_dataloader = torch.utils.data.DataLoader(DeepFakeDataset, batch_size=128, sampler=val_sampler)"
   ]
  },
  {
   "cell_type": "markdown",
   "metadata": {},
   "source": [
    "Criamos um loop de treinamento"
   ]
  },
  {
   "cell_type": "code",
   "execution_count": 32,
   "metadata": {},
   "outputs": [],
   "source": [
    "import torch.nn.functional as F\n",
    "\n",
    "def training_loop(n_epochs, model, loss_function, optimizer, print_every_percentage = 20):\n",
    "    model = model.to(device)\n",
    "    loss_function = loss_function.to(device)\n",
    "    size = int(len(train_dataloader)/(100/print_every_percentage))\n",
    "    \n",
    "    model.train()\n",
    "    for epoch in range(0, n_epochs):\n",
    "        loss_sum = 0\n",
    "        iteration = 0\n",
    "        print(\"Beggining epoch {}...\".format(epoch+1))\n",
    "        for images, labels in train_dataloader:\n",
    "            \n",
    "            images = images.to(device)\n",
    "            labels = labels.to(device)\n",
    "            \n",
    "            predictions = model(images)\n",
    "            loss = loss_function(predictions, labels.long())\n",
    "            loss_sum += loss\n",
    "            optimizer.zero_grad()\n",
    "            loss.backward()\n",
    "            optimizer.step()\n",
    "            \n",
    "            iteration += 1\n",
    "            \n",
    "            if iteration % size == 0:\n",
    "                print(\"{:.2f}%: Loss {:.6f}\".format(round(iteration/len(train_dataloader)*100), loss_sum.item()/size))\n",
    "                loss_sum = 0"
   ]
  },
  {
   "cell_type": "code",
   "execution_count": 11,
   "metadata": {},
   "outputs": [],
   "source": [
    "def eval_loop(model):\n",
    "    all_labels = torch.LongTensor([]).cuda()\n",
    "    all_predictions = torch.LongTensor([]).cuda()\n",
    "    model = model.to(device)\n",
    "    model.eval()\n",
    "    with torch.no_grad():\n",
    "        for images, labels in test_dataloader:\n",
    "            images = images.to(device)\n",
    "            labels = labels.to(device)\n",
    "            predictions = model(images)\n",
    "            predictions = predictions.max(dim=1)[1]\n",
    "            all_predictions = torch.cat((all_predictions, predictions))\n",
    "            all_labels = torch.cat((all_labels, labels))\n",
    "            \n",
    "    return all_predictions, all_labels"
   ]
  },
  {
   "cell_type": "code",
   "execution_count": 12,
   "metadata": {},
   "outputs": [],
   "source": [
    "def createDataFrame_conf_matrix(all_pread, all_labels):\n",
    "    c_mat = pd.DataFrame(metrics.confusion_matrix(all_labels.cpu().detach().numpy(), all_pred.cpu().detach().numpy()))\n",
    "    c_mat = c_mat.rename(columns={0: 'FAKE_predicted', 1: \"REAL_predicted\"}, index={0: 'FAKE', 1: \"REAL\"})\n",
    "    rows = [c_mat.loc['FAKE'][0] / c_mat.sum()[0] * 100, c_mat.loc['REAL'][1] / c_mat.sum()[1] * 100]\n",
    "    columns = [c_mat['FAKE_predicted'][0] / c_mat.sum(axis=1)[0] * 100, c_mat['REAL_predicted'][1] / c_mat.sum(axis=1)[1] * 100]\n",
    "    accuracy = (c_mat.loc['FAKE'][0] + c_mat.loc['REAL'][1]) / (c_mat.sum(axis=1)[0] + c_mat.sum(axis=1)[1])*100 \n",
    "    c_mat.loc['Percentage'] = [str(round(rows[0],2)) +' %', str(round(rows[1],2)) +' %']\n",
    "    c_mat['Percentage'] = [str(round(columns[0],2)) +' %', str(round(columns[1],2)) +' %', str(round(accuracy,2)) +' %']\n",
    "    return c_mat"
   ]
  },
  {
   "cell_type": "markdown",
   "metadata": {},
   "source": [
    "Vamos inicialmente validar nosso modelo do jeito que ele está agora, para verificar seu desempenho."
   ]
  },
  {
   "cell_type": "code",
   "execution_count": 13,
   "metadata": {},
   "outputs": [
    {
     "data": {
      "text/html": [
       "<div>\n",
       "<style scoped>\n",
       "    .dataframe tbody tr th:only-of-type {\n",
       "        vertical-align: middle;\n",
       "    }\n",
       "\n",
       "    .dataframe tbody tr th {\n",
       "        vertical-align: top;\n",
       "    }\n",
       "\n",
       "    .dataframe thead th {\n",
       "        text-align: right;\n",
       "    }\n",
       "</style>\n",
       "<table border=\"1\" class=\"dataframe\">\n",
       "  <thead>\n",
       "    <tr style=\"text-align: right;\">\n",
       "      <th></th>\n",
       "      <th>FAKE_predicted</th>\n",
       "      <th>REAL_predicted</th>\n",
       "      <th>Percentage</th>\n",
       "    </tr>\n",
       "  </thead>\n",
       "  <tbody>\n",
       "    <tr>\n",
       "      <th>FAKE</th>\n",
       "      <td>11281</td>\n",
       "      <td>917</td>\n",
       "      <td>92.48 %</td>\n",
       "    </tr>\n",
       "    <tr>\n",
       "      <th>REAL</th>\n",
       "      <td>5716</td>\n",
       "      <td>1060</td>\n",
       "      <td>15.64 %</td>\n",
       "    </tr>\n",
       "    <tr>\n",
       "      <th>Percentage</th>\n",
       "      <td>66.37 %</td>\n",
       "      <td>53.62 %</td>\n",
       "      <td>65.04 %</td>\n",
       "    </tr>\n",
       "  </tbody>\n",
       "</table>\n",
       "</div>"
      ],
      "text/plain": [
       "           FAKE_predicted REAL_predicted Percentage\n",
       "FAKE                11281            917    92.48 %\n",
       "REAL                 5716           1060    15.64 %\n",
       "Percentage        66.37 %        53.62 %    65.04 %"
      ]
     },
     "execution_count": 13,
     "metadata": {},
     "output_type": "execute_result"
    }
   ],
   "source": [
    "all_pred, all_labels = eval_loop(resnet18)\n",
    "c_mat = createDataFrame_conf_matrix(all_pred, all_labels)\n",
    "c_mat"
   ]
  },
  {
   "cell_type": "markdown",
   "metadata": {},
   "source": [
    "Não é o melhor dos desempenhos. Vamos congelar novamente o resto da rede e treinar apenas a última camada agora com o dataset mais balanceado."
   ]
  },
  {
   "cell_type": "code",
   "execution_count": 28,
   "metadata": {},
   "outputs": [
    {
     "name": "stdout",
     "output_type": "stream",
     "text": [
      "Beggining epoch 1...\n",
      "100.00%: Loss 3.323673\n",
      "Beggining epoch 2...\n",
      "100.00%: Loss 3.016788\n",
      "Beggining epoch 3...\n",
      "100.00%: Loss 2.892854\n"
     ]
    }
   ],
   "source": [
    "for param in resnet18.parameters():\n",
    "    param.requires_grad = False\n",
    "    \n",
    "for param in resnet18.fc.parameters():\n",
    "    param.requires_grad = True\n",
    "    \n",
    "loss_function = nn.CrossEntropyLoss(weight=torch.FloatTensor([1.0, 1.5]))    \n",
    "optimizer = torch.optim.Adam(resnet18.fc.parameters(), lr=1e-4)\n",
    "\n",
    "training_loop(n_epochs=3, model=resnet18, loss_function=loss_function, optimizer=optimizer)"
   ]
  },
  {
   "cell_type": "code",
   "execution_count": 31,
   "metadata": {},
   "outputs": [
    {
     "name": "stdout",
     "output_type": "stream",
     "text": [
      "Beggining epoch 1...\n",
      "19.94%: Loss 0.565882\n",
      "39.88%: Loss 0.564261\n",
      "59.83%: Loss 0.567212\n",
      "79.77%: Loss 0.561800\n",
      "99.71%: Loss 0.554914\n"
     ]
    }
   ],
   "source": [
    "training_loop(n_epochs=1, model=resnet18, loss_function=loss_function, optimizer=optimizer)"
   ]
  },
  {
   "cell_type": "markdown",
   "metadata": {},
   "source": [
    "Testamos novamente..."
   ]
  },
  {
   "cell_type": "code",
   "execution_count": 33,
   "metadata": {},
   "outputs": [
    {
     "data": {
      "text/html": [
       "<div>\n",
       "<style scoped>\n",
       "    .dataframe tbody tr th:only-of-type {\n",
       "        vertical-align: middle;\n",
       "    }\n",
       "\n",
       "    .dataframe tbody tr th {\n",
       "        vertical-align: top;\n",
       "    }\n",
       "\n",
       "    .dataframe thead th {\n",
       "        text-align: right;\n",
       "    }\n",
       "</style>\n",
       "<table border=\"1\" class=\"dataframe\">\n",
       "  <thead>\n",
       "    <tr style=\"text-align: right;\">\n",
       "      <th></th>\n",
       "      <th>FAKE_predicted</th>\n",
       "      <th>REAL_predicted</th>\n",
       "      <th>Percentage</th>\n",
       "    </tr>\n",
       "  </thead>\n",
       "  <tbody>\n",
       "    <tr>\n",
       "      <th>FAKE</th>\n",
       "      <td>9108</td>\n",
       "      <td>3150</td>\n",
       "      <td>74.3 %</td>\n",
       "    </tr>\n",
       "    <tr>\n",
       "      <th>REAL</th>\n",
       "      <td>2118</td>\n",
       "      <td>4598</td>\n",
       "      <td>68.46 %</td>\n",
       "    </tr>\n",
       "    <tr>\n",
       "      <th>Percentage</th>\n",
       "      <td>81.13 %</td>\n",
       "      <td>59.34 %</td>\n",
       "      <td>72.24 %</td>\n",
       "    </tr>\n",
       "  </tbody>\n",
       "</table>\n",
       "</div>"
      ],
      "text/plain": [
       "           FAKE_predicted REAL_predicted Percentage\n",
       "FAKE                 9108           3150     74.3 %\n",
       "REAL                 2118           4598    68.46 %\n",
       "Percentage        81.13 %        59.34 %    72.24 %"
      ]
     },
     "execution_count": 33,
     "metadata": {},
     "output_type": "execute_result"
    }
   ],
   "source": [
    "all_pred, all_labels = eval_loop(resnet18)\n",
    "c_mat = createDataFrame_conf_matrix(all_pred, all_labels)\n",
    "c_mat"
   ]
  },
  {
   "cell_type": "markdown",
   "metadata": {},
   "source": [
    "Uma melhora substancial, mas ainda longe de perfeita. Vamos agora descongelar o resto da rede, congelar a última camada e treinar mais duas épocas."
   ]
  },
  {
   "cell_type": "code",
   "execution_count": 36,
   "metadata": {},
   "outputs": [
    {
     "name": "stdout",
     "output_type": "stream",
     "text": [
      "Beggining epoch 1...\n",
      "20.00%: Loss 0.343564\n",
      "40.00%: Loss 0.199451\n",
      "60.00%: Loss 0.165088\n",
      "80.00%: Loss 0.134616\n",
      "100.00%: Loss 0.121583\n"
     ]
    }
   ],
   "source": [
    "for param in resnet18.parameters():\n",
    "    param.requires_grad = True\n",
    "    \n",
    "for param in resnet18.fc.parameters():    \n",
    "    param.requires_grad = False\n",
    "    \n",
    "loss_function = nn.CrossEntropyLoss(weight=torch.FloatTensor([1.0, 1.5]))    \n",
    "optimizer = torch.optim.Adam(resnet18.parameters(), lr=1e-4)\n",
    "\n",
    "training_loop(n_epochs=1, model=resnet18, loss_function=loss_function, optimizer=optimizer)"
   ]
  },
  {
   "cell_type": "code",
   "execution_count": 37,
   "metadata": {},
   "outputs": [
    {
     "data": {
      "text/html": [
       "<div>\n",
       "<style scoped>\n",
       "    .dataframe tbody tr th:only-of-type {\n",
       "        vertical-align: middle;\n",
       "    }\n",
       "\n",
       "    .dataframe tbody tr th {\n",
       "        vertical-align: top;\n",
       "    }\n",
       "\n",
       "    .dataframe thead th {\n",
       "        text-align: right;\n",
       "    }\n",
       "</style>\n",
       "<table border=\"1\" class=\"dataframe\">\n",
       "  <thead>\n",
       "    <tr style=\"text-align: right;\">\n",
       "      <th></th>\n",
       "      <th>FAKE_predicted</th>\n",
       "      <th>REAL_predicted</th>\n",
       "      <th>Percentage</th>\n",
       "    </tr>\n",
       "  </thead>\n",
       "  <tbody>\n",
       "    <tr>\n",
       "      <th>FAKE</th>\n",
       "      <td>12088</td>\n",
       "      <td>170</td>\n",
       "      <td>98.61 %</td>\n",
       "    </tr>\n",
       "    <tr>\n",
       "      <th>REAL</th>\n",
       "      <td>766</td>\n",
       "      <td>5950</td>\n",
       "      <td>88.59 %</td>\n",
       "    </tr>\n",
       "    <tr>\n",
       "      <th>Percentage</th>\n",
       "      <td>94.04 %</td>\n",
       "      <td>97.22 %</td>\n",
       "      <td>95.07 %</td>\n",
       "    </tr>\n",
       "  </tbody>\n",
       "</table>\n",
       "</div>"
      ],
      "text/plain": [
       "           FAKE_predicted REAL_predicted Percentage\n",
       "FAKE                12088            170    98.61 %\n",
       "REAL                  766           5950    88.59 %\n",
       "Percentage        94.04 %        97.22 %    95.07 %"
      ]
     },
     "execution_count": 37,
     "metadata": {},
     "output_type": "execute_result"
    }
   ],
   "source": [
    "all_pred, all_labels = eval_loop(resnet18)\n",
    "c_mat = createDataFrame_conf_matrix(all_pred, all_labels)\n",
    "c_mat"
   ]
  },
  {
   "cell_type": "markdown",
   "metadata": {},
   "source": [
    "Uma melhora impressionante. Vamos agora descongelar toda a rede e treinar mais uma época com um número menor de batch_size"
   ]
  },
  {
   "cell_type": "code",
   "execution_count": 38,
   "metadata": {},
   "outputs": [
    {
     "name": "stdout",
     "output_type": "stream",
     "text": [
      "Beggining epoch 1...\n",
      "20.00%: Loss 0.158404\n",
      "40.00%: Loss 0.137011\n",
      "60.00%: Loss 0.131758\n",
      "80.00%: Loss 0.114225\n",
      "100.00%: Loss 0.117139\n",
      "Beggining epoch 2...\n",
      "20.00%: Loss 0.076221\n",
      "40.00%: Loss 0.076924\n",
      "60.00%: Loss 0.081203\n",
      "80.00%: Loss 0.082430\n",
      "100.00%: Loss 0.087860\n"
     ]
    }
   ],
   "source": [
    "train_dataloader = torch.utils.data.DataLoader(DeepFakeDataset, batch_size=32, sampler=train_sampler)\n",
    "test_dataloader = torch.utils.data.DataLoader(DeepFakeDataset, batch_size=32, sampler=val_sampler)\n",
    "\n",
    "for param in resnet18.parameters():\n",
    "    param.requires_grad = True\n",
    "    \n",
    "loss_function = nn.CrossEntropyLoss(weight=torch.FloatTensor([1.0, 1.5]))    \n",
    "optimizer = torch.optim.Adam(resnet18.parameters(), lr=1e-4)\n",
    "\n",
    "training_loop(n_epochs=2, model=resnet18, loss_function=loss_function, optimizer=optimizer)"
   ]
  },
  {
   "cell_type": "code",
   "execution_count": 39,
   "metadata": {},
   "outputs": [
    {
     "data": {
      "text/html": [
       "<div>\n",
       "<style scoped>\n",
       "    .dataframe tbody tr th:only-of-type {\n",
       "        vertical-align: middle;\n",
       "    }\n",
       "\n",
       "    .dataframe tbody tr th {\n",
       "        vertical-align: top;\n",
       "    }\n",
       "\n",
       "    .dataframe thead th {\n",
       "        text-align: right;\n",
       "    }\n",
       "</style>\n",
       "<table border=\"1\" class=\"dataframe\">\n",
       "  <thead>\n",
       "    <tr style=\"text-align: right;\">\n",
       "      <th></th>\n",
       "      <th>FAKE_predicted</th>\n",
       "      <th>REAL_predicted</th>\n",
       "      <th>Percentage</th>\n",
       "    </tr>\n",
       "  </thead>\n",
       "  <tbody>\n",
       "    <tr>\n",
       "      <th>FAKE</th>\n",
       "      <td>11691</td>\n",
       "      <td>567</td>\n",
       "      <td>95.37 %</td>\n",
       "    </tr>\n",
       "    <tr>\n",
       "      <th>REAL</th>\n",
       "      <td>170</td>\n",
       "      <td>6546</td>\n",
       "      <td>97.47 %</td>\n",
       "    </tr>\n",
       "    <tr>\n",
       "      <th>Percentage</th>\n",
       "      <td>98.57 %</td>\n",
       "      <td>92.03 %</td>\n",
       "      <td>96.12 %</td>\n",
       "    </tr>\n",
       "  </tbody>\n",
       "</table>\n",
       "</div>"
      ],
      "text/plain": [
       "           FAKE_predicted REAL_predicted Percentage\n",
       "FAKE                11691            567    95.37 %\n",
       "REAL                  170           6546    97.47 %\n",
       "Percentage        98.57 %        92.03 %    96.12 %"
      ]
     },
     "execution_count": 39,
     "metadata": {},
     "output_type": "execute_result"
    }
   ],
   "source": [
    "all_pred, all_labels = eval_loop(resnet18)\n",
    "c_mat = createDataFrame_conf_matrix(all_pred, all_labels)\n",
    "c_mat"
   ]
  },
  {
   "cell_type": "markdown",
   "metadata": {},
   "source": [
    "Excelente!"
   ]
  },
  {
   "cell_type": "markdown",
   "metadata": {},
   "source": [
    "Podemos melhorar um pouco nosso resultado para a classe de fakes. Vamos diminuir o peso para REAL da função de curto, diminuir o learning rate um pouco e treinar mais uma época. Mas antes vamos salvar por via das dúvidas hehe."
   ]
  },
  {
   "cell_type": "code",
   "execution_count": 40,
   "metadata": {},
   "outputs": [],
   "source": [
    "torch.save(resnet18.state_dict(), './Saved Models/resnet18_balanced_unfreezed_F95_R97_A96.pt')"
   ]
  },
  {
   "cell_type": "code",
   "execution_count": 41,
   "metadata": {},
   "outputs": [
    {
     "name": "stdout",
     "output_type": "stream",
     "text": [
      "Beggining epoch 1...\n",
      "20.00%: Loss 0.047889\n",
      "40.00%: Loss 0.045736\n",
      "60.00%: Loss 0.056987\n",
      "80.00%: Loss 0.048687\n",
      "100.00%: Loss 0.048200\n"
     ]
    }
   ],
   "source": [
    "loss_function = nn.CrossEntropyLoss(weight=torch.FloatTensor([1.0, 1.2]))    \n",
    "optimizer = torch.optim.Adam(resnet18.parameters(), lr=0.7e-4)\n",
    "\n",
    "training_loop(n_epochs=1, model=resnet18, loss_function=loss_function, optimizer=optimizer)"
   ]
  },
  {
   "cell_type": "code",
   "execution_count": 42,
   "metadata": {},
   "outputs": [
    {
     "data": {
      "text/html": [
       "<div>\n",
       "<style scoped>\n",
       "    .dataframe tbody tr th:only-of-type {\n",
       "        vertical-align: middle;\n",
       "    }\n",
       "\n",
       "    .dataframe tbody tr th {\n",
       "        vertical-align: top;\n",
       "    }\n",
       "\n",
       "    .dataframe thead th {\n",
       "        text-align: right;\n",
       "    }\n",
       "</style>\n",
       "<table border=\"1\" class=\"dataframe\">\n",
       "  <thead>\n",
       "    <tr style=\"text-align: right;\">\n",
       "      <th></th>\n",
       "      <th>FAKE_predicted</th>\n",
       "      <th>REAL_predicted</th>\n",
       "      <th>Percentage</th>\n",
       "    </tr>\n",
       "  </thead>\n",
       "  <tbody>\n",
       "    <tr>\n",
       "      <th>FAKE</th>\n",
       "      <td>11966</td>\n",
       "      <td>292</td>\n",
       "      <td>97.62 %</td>\n",
       "    </tr>\n",
       "    <tr>\n",
       "      <th>REAL</th>\n",
       "      <td>300</td>\n",
       "      <td>6416</td>\n",
       "      <td>95.53 %</td>\n",
       "    </tr>\n",
       "    <tr>\n",
       "      <th>Percentage</th>\n",
       "      <td>97.55 %</td>\n",
       "      <td>95.65 %</td>\n",
       "      <td>96.88 %</td>\n",
       "    </tr>\n",
       "  </tbody>\n",
       "</table>\n",
       "</div>"
      ],
      "text/plain": [
       "           FAKE_predicted REAL_predicted Percentage\n",
       "FAKE                11966            292    97.62 %\n",
       "REAL                  300           6416    95.53 %\n",
       "Percentage        97.55 %        95.65 %    96.88 %"
      ]
     },
     "execution_count": 42,
     "metadata": {},
     "output_type": "execute_result"
    }
   ],
   "source": [
    "all_pred, all_labels = eval_loop(resnet18)\n",
    "c_mat = createDataFrame_conf_matrix(all_pred, all_labels)\n",
    "c_mat"
   ]
  },
  {
   "cell_type": "markdown",
   "metadata": {},
   "source": [
    "Conseguimos! Mas agora caímos para a classe de reais haha. Vamos tentar abaixar mais o learning rate e aumentar um pouco o peso para a classe do REAL, afim de achar um balanço melhor. Vamos acrescentar um fator baixo de regularização L2."
   ]
  },
  {
   "cell_type": "code",
   "execution_count": 43,
   "metadata": {},
   "outputs": [
    {
     "name": "stdout",
     "output_type": "stream",
     "text": [
      "Beggining epoch 1...\n",
      "20.00%: Loss 0.029221\n",
      "40.00%: Loss 0.028134\n",
      "60.00%: Loss 0.029542\n",
      "80.00%: Loss 0.027856\n",
      "100.00%: Loss 0.032376\n"
     ]
    }
   ],
   "source": [
    "loss_function = nn.CrossEntropyLoss(weight=torch.FloatTensor([1.0, 1.35]))\n",
    "optimizer = torch.optim.Adam(resnet18.parameters(), lr=0.5e-4, weight_decay=1e-4)\n",
    "\n",
    "training_loop(n_epochs=1, model=resnet18, loss_function=loss_function, optimizer=optimizer)"
   ]
  },
  {
   "cell_type": "code",
   "execution_count": 44,
   "metadata": {},
   "outputs": [
    {
     "data": {
      "text/html": [
       "<div>\n",
       "<style scoped>\n",
       "    .dataframe tbody tr th:only-of-type {\n",
       "        vertical-align: middle;\n",
       "    }\n",
       "\n",
       "    .dataframe tbody tr th {\n",
       "        vertical-align: top;\n",
       "    }\n",
       "\n",
       "    .dataframe thead th {\n",
       "        text-align: right;\n",
       "    }\n",
       "</style>\n",
       "<table border=\"1\" class=\"dataframe\">\n",
       "  <thead>\n",
       "    <tr style=\"text-align: right;\">\n",
       "      <th></th>\n",
       "      <th>FAKE_predicted</th>\n",
       "      <th>REAL_predicted</th>\n",
       "      <th>Percentage</th>\n",
       "    </tr>\n",
       "  </thead>\n",
       "  <tbody>\n",
       "    <tr>\n",
       "      <th>FAKE</th>\n",
       "      <td>12078</td>\n",
       "      <td>180</td>\n",
       "      <td>98.53 %</td>\n",
       "    </tr>\n",
       "    <tr>\n",
       "      <th>REAL</th>\n",
       "      <td>299</td>\n",
       "      <td>6417</td>\n",
       "      <td>95.55 %</td>\n",
       "    </tr>\n",
       "    <tr>\n",
       "      <th>Percentage</th>\n",
       "      <td>97.58 %</td>\n",
       "      <td>97.27 %</td>\n",
       "      <td>97.48 %</td>\n",
       "    </tr>\n",
       "  </tbody>\n",
       "</table>\n",
       "</div>"
      ],
      "text/plain": [
       "           FAKE_predicted REAL_predicted Percentage\n",
       "FAKE                12078            180    98.53 %\n",
       "REAL                  299           6417    95.55 %\n",
       "Percentage        97.58 %        97.27 %    97.48 %"
      ]
     },
     "execution_count": 44,
     "metadata": {},
     "output_type": "execute_result"
    }
   ],
   "source": [
    "all_pred, all_labels = eval_loop(resnet18)\n",
    "c_mat = createDataFrame_conf_matrix(all_pred, all_labels)\n",
    "c_mat"
   ]
  },
  {
   "cell_type": "markdown",
   "metadata": {},
   "source": [
    "Melhoramos todos os parâmetros em algum nível. Ótimo! Vamos salvar e tentar retornar o valor do weight para a classe real e treinar mais uma época."
   ]
  },
  {
   "cell_type": "code",
   "execution_count": 45,
   "metadata": {},
   "outputs": [],
   "source": [
    "torch.save(resnet18.state_dict(), './Saved Models/resnet18_balanced_unfreezed_F98_R95_A97.pt')"
   ]
  },
  {
   "cell_type": "code",
   "execution_count": 46,
   "metadata": {},
   "outputs": [
    {
     "name": "stdout",
     "output_type": "stream",
     "text": [
      "Beggining epoch 1...\n",
      "20.00%: Loss 0.025860\n",
      "40.00%: Loss 0.020100\n",
      "60.00%: Loss 0.027787\n",
      "80.00%: Loss 0.029885\n",
      "100.00%: Loss 0.026672\n"
     ]
    }
   ],
   "source": [
    "loss_function = nn.CrossEntropyLoss(weight=torch.FloatTensor([1.0, 1.5]))\n",
    "optimizer = torch.optim.Adam(resnet18.parameters(), lr=0.55e-4, weight_decay=1e-4)\n",
    "\n",
    "training_loop(n_epochs=1, model=resnet18, loss_function=loss_function, optimizer=optimizer)"
   ]
  },
  {
   "cell_type": "code",
   "execution_count": 47,
   "metadata": {},
   "outputs": [
    {
     "data": {
      "text/html": [
       "<div>\n",
       "<style scoped>\n",
       "    .dataframe tbody tr th:only-of-type {\n",
       "        vertical-align: middle;\n",
       "    }\n",
       "\n",
       "    .dataframe tbody tr th {\n",
       "        vertical-align: top;\n",
       "    }\n",
       "\n",
       "    .dataframe thead th {\n",
       "        text-align: right;\n",
       "    }\n",
       "</style>\n",
       "<table border=\"1\" class=\"dataframe\">\n",
       "  <thead>\n",
       "    <tr style=\"text-align: right;\">\n",
       "      <th></th>\n",
       "      <th>FAKE_predicted</th>\n",
       "      <th>REAL_predicted</th>\n",
       "      <th>Percentage</th>\n",
       "    </tr>\n",
       "  </thead>\n",
       "  <tbody>\n",
       "    <tr>\n",
       "      <th>FAKE</th>\n",
       "      <td>11942</td>\n",
       "      <td>316</td>\n",
       "      <td>97.42 %</td>\n",
       "    </tr>\n",
       "    <tr>\n",
       "      <th>REAL</th>\n",
       "      <td>173</td>\n",
       "      <td>6543</td>\n",
       "      <td>97.42 %</td>\n",
       "    </tr>\n",
       "    <tr>\n",
       "      <th>Percentage</th>\n",
       "      <td>98.57 %</td>\n",
       "      <td>95.39 %</td>\n",
       "      <td>97.42 %</td>\n",
       "    </tr>\n",
       "  </tbody>\n",
       "</table>\n",
       "</div>"
      ],
      "text/plain": [
       "           FAKE_predicted REAL_predicted Percentage\n",
       "FAKE                11942            316    97.42 %\n",
       "REAL                  173           6543    97.42 %\n",
       "Percentage        98.57 %        95.39 %    97.42 %"
      ]
     },
     "execution_count": 47,
     "metadata": {},
     "output_type": "execute_result"
    }
   ],
   "source": [
    "all_pred, all_labels = eval_loop(resnet18)\n",
    "c_mat = createDataFrame_conf_matrix(all_pred, all_labels)\n",
    "c_mat"
   ]
  },
  {
   "cell_type": "markdown",
   "metadata": {},
   "source": [
    "Nossa acurácia caiu, mas conseguimos a mesma proporção de acerto para as 2 classes, perfeito! Vamos congelar a rede nesse estado e treinar mais um pouco a camada fc para tentarmos alcançar um resultado um pouco melhor."
   ]
  },
  {
   "cell_type": "code",
   "execution_count": 52,
   "metadata": {},
   "outputs": [],
   "source": [
    "torch.save(resnet18.state_dict(), './Saved Models/resnet18_balanced_unfreezed_F97_R97_A97.pt')"
   ]
  },
  {
   "cell_type": "code",
   "execution_count": 50,
   "metadata": {},
   "outputs": [
    {
     "name": "stdout",
     "output_type": "stream",
     "text": [
      "Beggining epoch 1...\n",
      "20.00%: Loss 0.017157\n",
      "40.00%: Loss 0.015431\n",
      "60.00%: Loss 0.016324\n",
      "80.00%: Loss 0.019063\n",
      "100.00%: Loss 0.015250\n",
      "Beggining epoch 2...\n",
      "20.00%: Loss 0.015029\n",
      "40.00%: Loss 0.016971\n",
      "60.00%: Loss 0.016239\n",
      "80.00%: Loss 0.014240\n",
      "100.00%: Loss 0.015326\n"
     ]
    }
   ],
   "source": [
    "for param in resnet18.parameters():\n",
    "    param.requires_grad = False\n",
    "    \n",
    "for param in resnet18.fc.parameters():\n",
    "    param.requires_grad = True\n",
    "\n",
    "loss_function = nn.CrossEntropyLoss(weight=torch.FloatTensor([1.0, 1.5]))\n",
    "optimizer = torch.optim.Adam(resnet18.fc.parameters(), lr=1e-5)\n",
    "\n",
    "training_loop(n_epochs=2, model=resnet18, loss_function=loss_function, optimizer=optimizer)"
   ]
  },
  {
   "cell_type": "code",
   "execution_count": 53,
   "metadata": {},
   "outputs": [
    {
     "name": "stdout",
     "output_type": "stream",
     "text": [
      "Beggining epoch 1...\n",
      "20.00%: Loss 0.013096\n",
      "40.00%: Loss 0.018334\n",
      "60.00%: Loss 0.014609\n",
      "80.00%: Loss 0.014736\n",
      "100.00%: Loss 0.013762\n"
     ]
    }
   ],
   "source": [
    "optimizer = torch.optim.Adam(resnet18.fc.parameters(), lr=3e-5)\n",
    "training_loop(n_epochs=1, model=resnet18, loss_function=loss_function, optimizer=optimizer)"
   ]
  },
  {
   "cell_type": "code",
   "execution_count": 54,
   "metadata": {},
   "outputs": [
    {
     "data": {
      "text/html": [
       "<div>\n",
       "<style scoped>\n",
       "    .dataframe tbody tr th:only-of-type {\n",
       "        vertical-align: middle;\n",
       "    }\n",
       "\n",
       "    .dataframe tbody tr th {\n",
       "        vertical-align: top;\n",
       "    }\n",
       "\n",
       "    .dataframe thead th {\n",
       "        text-align: right;\n",
       "    }\n",
       "</style>\n",
       "<table border=\"1\" class=\"dataframe\">\n",
       "  <thead>\n",
       "    <tr style=\"text-align: right;\">\n",
       "      <th></th>\n",
       "      <th>FAKE_predicted</th>\n",
       "      <th>REAL_predicted</th>\n",
       "      <th>Percentage</th>\n",
       "    </tr>\n",
       "  </thead>\n",
       "  <tbody>\n",
       "    <tr>\n",
       "      <th>FAKE</th>\n",
       "      <td>12003</td>\n",
       "      <td>255</td>\n",
       "      <td>97.92 %</td>\n",
       "    </tr>\n",
       "    <tr>\n",
       "      <th>REAL</th>\n",
       "      <td>191</td>\n",
       "      <td>6525</td>\n",
       "      <td>97.16 %</td>\n",
       "    </tr>\n",
       "    <tr>\n",
       "      <th>Percentage</th>\n",
       "      <td>98.43 %</td>\n",
       "      <td>96.24 %</td>\n",
       "      <td>97.65 %</td>\n",
       "    </tr>\n",
       "  </tbody>\n",
       "</table>\n",
       "</div>"
      ],
      "text/plain": [
       "           FAKE_predicted REAL_predicted Percentage\n",
       "FAKE                12003            255    97.92 %\n",
       "REAL                  191           6525    97.16 %\n",
       "Percentage        98.43 %        96.24 %    97.65 %"
      ]
     },
     "execution_count": 54,
     "metadata": {},
     "output_type": "execute_result"
    }
   ],
   "source": [
    "all_pred, all_labels = eval_loop(resnet18)\n",
    "c_mat = createDataFrame_conf_matrix(all_pred, all_labels)\n",
    "c_mat"
   ]
  },
  {
   "cell_type": "code",
   "execution_count": null,
   "metadata": {},
   "outputs": [],
   "source": [
    "# Aqui estou experimentado colocar um peso 9x maior para a classe de não deepfake\n",
    "loss_function = nn.CrossEntropyLoss(weight=torch.FloatTensor([1.0, 1.5]))\n",
    "\n",
    "optimizer = torch.optim.Adam(resnet50.fc.parameters(), lr=1e-4)\n",
    "\n",
    "training_loop(n_epochs=5, model=resnet50, loss_function=loss_function, optimizer=optimizer)"
   ]
  }
 ],
 "metadata": {
  "kernelspec": {
   "display_name": "Python 3",
   "language": "python",
   "name": "python3"
  },
  "language_info": {
   "codemirror_mode": {
    "name": "ipython",
    "version": 3
   },
   "file_extension": ".py",
   "mimetype": "text/x-python",
   "name": "python",
   "nbconvert_exporter": "python",
   "pygments_lexer": "ipython3",
   "version": "3.7.6"
  }
 },
 "nbformat": 4,
 "nbformat_minor": 4
}
