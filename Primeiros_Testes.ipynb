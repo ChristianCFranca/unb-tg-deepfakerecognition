{
 "cells": [
  {
   "cell_type": "code",
   "execution_count": 1,
   "metadata": {},
   "outputs": [],
   "source": [
    "import cv2\n",
    "\n",
    "import pandas as pd\n",
    "\n",
    "import torch\n",
    "#from torchvision.transforms import ToPILImage\n",
    "import numpy as np\n",
    "\n",
    "from PIL import Image\n",
    "import matplotlib.pyplot as plt\n",
    "\n",
    "from facenet_pytorch import MTCNN\n",
    "\n",
    "import glob, os\n",
    "import random # Adaptar"
   ]
  },
  {
   "cell_type": "code",
   "execution_count": 2,
   "metadata": {},
   "outputs": [
    {
     "name": "stdout",
     "output_type": "stream",
     "text": [
      "Running on device: cuda:0\n"
     ]
    }
   ],
   "source": [
    "device = torch.device('cuda:0' if torch.cuda.is_available() else 'cpu')\n",
    "print('Running on device: {}'.format(device))"
   ]
  },
  {
   "cell_type": "code",
   "execution_count": 3,
   "metadata": {},
   "outputs": [],
   "source": [
    "class Videos():\n",
    "    def __init__(self, folder_path):\n",
    "        # Guarda o folder_path\n",
    "        self.folder_path = folder_path\n",
    "        \n",
    "        # Guarda a lista de todos os arquivos de videos dentro do folder_path\n",
    "        self.video_files = glob.glob(folder_path + '/*.mp4')\n",
    "        \n",
    "        # Lê o arquivo JSON que contém as informações dos deepfakes naquela pasta\n",
    "        self.metadata = pd.read_json(folder_path + '/metadata.json').transpose() # Essa transposiçao eh feita pois as colunas e as linhas estao trocadas\n",
    "        \n",
    "    def getRandomVideo(self):\n",
    "        video_path = random.choice(self.video_files)\n",
    "        video_name = os.path.basename(video_path)\n",
    "        label = self.metadata.loc[video_name].label\n",
    "        \n",
    "        return video_path, video_name, label\n",
    "        \n",
    "    def getRealVideo(self, video_name):\n",
    "        real_video_name = self.metadata.loc[video_name].original\n",
    "        # Verifica se é NaN, pois caso seja o nome original é o próprio video real\n",
    "        if pd.isna(real_video_name):\n",
    "            real_video_name = video_name\n",
    "        real_video_path = folder_path + '/' + real_video_name\n",
    "        return real_video_path, real_video_name"
   ]
  },
  {
   "cell_type": "code",
   "execution_count": 4,
   "metadata": {},
   "outputs": [],
   "source": [
    "def showVideo(video_path, label):\n",
    "    cap = cv2.VideoCapture(video_path)\n",
    "\n",
    "    # Configura a cor a ser colocada na LABEL\n",
    "    if label == 'REAL':\n",
    "        color = (0, 255, 0) # Verde\n",
    "    else:\n",
    "        color = (0, 0, 255) # Vermelho    \n",
    "\n",
    "    while(cap.isOpened()):\n",
    "        ret, frame = cap.read()\n",
    "        if ret:\n",
    "            #frame = cv2.cvtColor(frame, cv2.COLOR_BGR2RGB)\n",
    "            boxes, _ = mtcnn.detect(Image.fromarray(frame))\n",
    "            if boxes is not None:\n",
    "                for box in boxes:\n",
    "                    cv2.rectangle(frame, (box[0], box[1]), (box[2], box[3]), color=[0, 255, 0], thickness=5)\n",
    "                    # Escreve a label no vídeo sob a cabeça do indivíduo\n",
    "                    cv2.putText(img=frame, text=label, org=(box[0], box[1]), fontFace=cv2.FONT_HERSHEY_SIMPLEX, fontScale=1, color=color, thickness=2)\n",
    "\n",
    "            frame = cv2.resize(frame, (1280, 720))\n",
    "            cv2.imshow('frame', frame)\n",
    "            #cv2.waitKey(10)\n",
    "            if cv2.waitKey(1) & 0xFF == ord('q'):\n",
    "                break\n",
    "        else:\n",
    "            cv2.destroyAllWindows()\n",
    "            break\n",
    "\n",
    "    cap.release()\n",
    "    cv2.destroyAllWindows()"
   ]
  },
  {
   "cell_type": "code",
   "execution_count": 5,
   "metadata": {},
   "outputs": [],
   "source": [
    "def showCropFace(video_path):\n",
    "    cap = cv2.VideoCapture(video_path)\n",
    "    while(cap.isOpened()):\n",
    "        ret, frame = cap.read()\n",
    "        if ret:\n",
    "            #frame = cv2.cvtColor(frame, cv2.COLOR_BGR2RGB)\n",
    "            boxes, _ = mtcnn.detect(Image.fromarray(frame))\n",
    "            if boxes is not None:\n",
    "                for box in boxes: \n",
    "                    face = frame[int(box[1]):int(box[3]), int(box[0]):int(box[2])]\n",
    "                    face = cv2.cvtColor(face, cv2.COLOR_BGR2YCrCb)\n",
    "                    \n",
    "                    cv2.rectangle(frame, (box[0], box[1]), (box[2], box[3]), color=[0, 255, 0], thickness=5)\n",
    "            frame = cv2.resize(frame, (1280, 720))\n",
    "            face = cv2.resize(face, (300, 300))\n",
    "            #cv2.imshow('face', face)\n",
    "            cv2.imshow('face', face[:, :, 0])\n",
    "            cv2.imshow('frame', frame)\n",
    "            #cv2.waitKey(10)\n",
    "            if cv2.waitKey(1) & 0xFF == ord('q'):\n",
    "                break\n",
    "        else:\n",
    "            cv2.destroyAllWindows()\n",
    "            break\n",
    "\n",
    "    cap.release()\n",
    "    cv2.destroyAllWindows()\n",
    "    return face"
   ]
  },
  {
   "cell_type": "code",
   "execution_count": 6,
   "metadata": {},
   "outputs": [],
   "source": [
    "mtcnn = MTCNN(keep_all=True, device=device, thresholds=[0.60, 0.70, 0.70], min_face_size=80)"
   ]
  },
  {
   "cell_type": "code",
   "execution_count": 18,
   "metadata": {},
   "outputs": [],
   "source": [
    "# Escolhe aleatoriamente uma pasta e separa todos os vídeos nessa pasta\n",
    "random_folder = random.choice(next(os.walk('./Kaggle Dataset/'))[1])\n",
    "folder_path = './Kaggle Dataset/' + random_folder\n",
    "\n",
    "# Classe que controla os videos de um folder específico. Recebe um folder_path\n",
    "videos = Videos(folder_path)"
   ]
  },
  {
   "cell_type": "code",
   "execution_count": 20,
   "metadata": {},
   "outputs": [],
   "source": [
    "video_path, video_name, label = videos.getRandomVideo()\n",
    "showVideo(video_path, label)\n",
    "\n",
    "real_video_path, real_video_name = videos.getRealVideo(video_name)\n",
    "showVideo(real_video_path, label='REAL')"
   ]
  },
  {
   "cell_type": "code",
   "execution_count": 73,
   "metadata": {},
   "outputs": [],
   "source": [
    "# video_path, video_name, label = videos.getRandomVideo()\n",
    "face = showCropFace(video_path)"
   ]
  },
  {
   "cell_type": "code",
   "execution_count": 59,
   "metadata": {},
   "outputs": [
    {
     "data": {
      "text/plain": [
       "array([[150, 150, 150, ..., 150, 150, 150],\n",
       "       [150, 150, 150, ..., 150, 150, 150],\n",
       "       [150, 150, 150, ..., 140, 150, 150],\n",
       "       ...,\n",
       "       [150, 150, 150, ..., 124, 150, 150],\n",
       "       [150, 150, 150, ..., 150, 150, 150],\n",
       "       [150, 150, 150, ..., 150, 150, 150]], dtype=uint8)"
      ]
     },
     "execution_count": 59,
     "metadata": {},
     "output_type": "execute_result"
    },
    {
     "data": {
      "image/png": "[encoded data removed]",
      "text/plain": [
       "<Figure size 432x288 with 1 Axes>"
      ]
     },
     "metadata": {
      "needs_background": "light"
     },
     "output_type": "display_data"
    }
   ],
   "source": [
    "plt.imshow(cv2.cvtColor(face, cv2.COLOR_BGR2YUV)[:, :, 0], cmap='gray')\n",
    "cv2.cvtColor(face, cv2.COLOR_BGR2YUV)[:,:,0]"
   ]
  },
  {
   "cell_type": "markdown",
   "metadata": {},
   "source": [
    "Durante treinamento, evitar utilizar a visualização gráfica (Utilizar uma flag TRUE / FALSE).\n",
    "Professor sugeriu imagem a imagem.\n",
    "\n",
    "- Próxima etapa: Pegar as imagens recortadas e passar para um modelo de rede \n",
    "\n",
    "- RNN / LSTM / GRN -> CNN -> FLAT (128d) -> LSTM -> FC: \n",
    "\n",
    "\n",
    "\"Mapa de Luminância\": Componentes de Luminância - a partir do recorte da face.\n",
    "- Conversão da imagem em RGB para YUV\n",
    "- Separar a componente Y (Luma) v.601\n",
    "- Existe uma equação (professor forneceu)\n",
    "- VGG, FaceNet, ResNet (implementação pronta)\n",
    "\n",
    "Carregamento de vídeos nos modelos de Pytorch.\n",
    "Shape (no Batches, Channels, Largura, Altura) \n",
    "\n",
    "Dividir treinamento 70% validação 30%."
   ]
  },
  {
   "cell_type": "markdown",
   "metadata": {},
   "source": [
    "1o: Obter o mapa de luminânia a partir da imagem já recortada.\n",
    "\n",
    "2o: Alimentar a rede com as imagens.\n",
    "\n",
    "3o: Observar o loss. (CrossEntropyLoss -> LogSoftmax -> NLLoss())\n",
    "\n",
    "4o: Utilizar modelos pré-treinados (Resnet, Facenet, VGG, etc)"
   ]
  }
 ],
 "metadata": {
  "kernelspec": {
   "display_name": "Python 3",
   "language": "python",
   "name": "python3"
  },
  "language_info": {
   "codemirror_mode": {
    "name": "ipython",
    "version": 3
   },
   "file_extension": ".py",
   "mimetype": "text/x-python",
   "name": "python",
   "nbconvert_exporter": "python",
   "pygments_lexer": "ipython3",
   "version": "3.7.6"
  }
 },
 "nbformat": 4,
 "nbformat_minor": 4
}
