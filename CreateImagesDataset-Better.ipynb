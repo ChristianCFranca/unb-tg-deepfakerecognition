{
 "cells": [
  {
   "cell_type": "markdown",
   "metadata": {},
   "source": [
    "### Este notebook tem como função criar uma pasta chamada \"Kaggle Faces Dataset\" onde os rostos recortados dos vídeos serão guardados"
   ]
  },
  {
   "cell_type": "markdown",
   "metadata": {},
   "source": [
    "Inicialmente, carregamos as dependências necessárias"
   ]
  },
  {
   "cell_type": "code",
   "execution_count": 5,
   "metadata": {},
   "outputs": [],
   "source": [
    "import cv2\n",
    "\n",
    "import pandas as pd\n",
    "\n",
    "from facenet_pytorch import MTCNN\n",
    "\n",
    "from PIL import Image\n",
    "import glob, os\n",
    "\n",
    "import torch\n",
    "import torchvision\n",
    "import numpy as np\n",
    "\n",
    "import random\n",
    "\n",
    "import time\n",
    "\n",
    "import pathlib\n",
    "from pathlib import Path\n",
    "\n",
    "import numpy as np\n",
    "\n",
    "from tqdm.notebook import tqdm"
   ]
  },
  {
   "cell_type": "markdown",
   "metadata": {},
   "source": [
    "Define-se o device onde será rodada a detecção de rostos."
   ]
  },
  {
   "cell_type": "code",
   "execution_count": 6,
   "metadata": {},
   "outputs": [
    {
     "name": "stdout",
     "output_type": "stream",
     "text": [
      "Running on device: cuda:0, GeForce RTX 2070\n"
     ]
    }
   ],
   "source": [
    "# Definimos um device onde os tensores estarão sendo processados\n",
    "device = torch.device('cuda:0' if torch.cuda.is_available() else 'cpu')\n",
    "print('Running on device: {}, {}'.format(device, torch.cuda.get_device_name()))"
   ]
  },
  {
   "cell_type": "markdown",
   "metadata": {},
   "source": [
    "# 1° passo: Criar uma classe que cuida de todas as leituras dos vídeos"
   ]
  },
  {
   "cell_type": "markdown",
   "metadata": {},
   "source": [
    "Cria-se uma classe que cuida da leitura de todos os vídeos do dataset."
   ]
  },
  {
   "cell_type": "code",
   "execution_count": 7,
   "metadata": {},
   "outputs": [],
   "source": [
    "# Cuida de lidar com o acesso aos vídeos e devolver os paths / labels corretamente\n",
    "class Videos():\n",
    "    def __init__(self, root=\"./Kaggle Dataset\"):\n",
    "        # Guarda o folder_path\n",
    "        self.root = Path(root)\n",
    "        \n",
    "        folders = list(self.root.glob(\"*\"))\n",
    "        order = lambda x: int(x.stem.split(\"_\")[-1])\n",
    "        self.folders = sorted(folders, key=order)\n",
    "        \n",
    "    def getRandomVideo(self):\n",
    "        # Lê o arquivo JSON que contém as informações dos deepfakes naquela pasta\n",
    "        \n",
    "        folder_path = random.choice(self.folders)\n",
    "        \n",
    "        metadata = pd.read_json(folder_path/'metadata.json').transpose() # Troca colunas e linhas para ficarEM no formato correto\n",
    "        \n",
    "        video_path = random.choice(list(folder_path)) # Devolve um WindowsPath\n",
    "        \n",
    "        video_name = video_path.name # videoaleatorio.mp4\n",
    "        \n",
    "        label = metadata.loc[video_name].label\n",
    "        \n",
    "        return video_path, video_name, label\n",
    "    \n",
    "    def getRandomLabeledVideo(self, label):\n",
    "        if label not in [\"FAKE\", \"REAL\"]:\n",
    "            print(\"Label deve ser FAKE ou REAL\")\n",
    "            return\n",
    "        \n",
    "        folder_path = random.choice(self.folders) # \"./Kaggle Dataset/some_folder\"\n",
    "        \n",
    "        metadata = pd.read_json(folder_path/'metadata.json').transpose() # Troca colunas e linhas para ficarEM no formato correto\n",
    "        \n",
    "        fake_videos = metadata[metadata.label == label].index # Filtra os videos que são FAKE\n",
    "\n",
    "        video_path = folder_path/random.choice(fake_videos)\n",
    "        \n",
    "        video_name = video_path.name # videoaleatorio.mp4\n",
    "        \n",
    "        label = label\n",
    "        \n",
    "        return video_path, video_name, label\n",
    "        \n",
    "    def getEquivalentRealVideo(self, video_path):\n",
    "        \n",
    "        if not isinstance(video_path, pathlib.WindowsPath):\n",
    "            video_path = Path(video_path)\n",
    "            if not video_path.exists():\n",
    "                print(\"Video path não existe.\")\n",
    "                return\n",
    "            \n",
    "        folder_path = video_path.parent\n",
    "        \n",
    "        metadata = pd.read_json(folder_path/'metadata.json').transpose() # Troca colunas e linhas para ficarEM no formato correto\n",
    "        \n",
    "        try: \n",
    "            video = metadata.loc[video_path.name]\n",
    "        except:\n",
    "            print(\"O vídeo indicado não existe no metadata.\")\n",
    "            return\n",
    "        \n",
    "        if video.label == \"REAL\":\n",
    "            print(\"O vídeo em questão já é um vídeo real.\")\n",
    "            return\n",
    "        \n",
    "        real_video_name = video.original\n",
    "        real_video_path = folder_path.joinpath(real_video_name)\n",
    "        label = \"REAL\"\n",
    "        \n",
    "        return real_video_path, real_video_name, label\n",
    "    \n",
    "    def getAllVideosPath(self):\n",
    "        for video_name, columns in self.metadata.iterrows():\n",
    "            yield self.folder_path + '/' + video_name, video_name, columns[0] # Label\n",
    "            \n",
    "    def generateMetadataTestSplit(self, proportion=0.2): # 20% para o set de treinamento\n",
    "        print(\"Ajuste de metadata.json em andamento...\")\n",
    "        np.random.seed(42)\n",
    "        for folder in self.folders:\n",
    "            metadata_path = folder/\"metadata.json\"\n",
    "            metadata = pd.read_json(metadata_path).transpose()\n",
    "            if \"test\" not in metadata.values:\n",
    "                counts = metadata.label.value_counts()\n",
    "\n",
    "                reals_quantity_to_test = int(proportion*counts[\"REAL\"])\n",
    "                fakes_quantity_to_test = int(proportion*counts[\"FAKE\"])\n",
    "\n",
    "                real_videos = metadata[metadata.label == 'REAL'].index\n",
    "                fake_videos = metadata[metadata.label == 'FAKE'].index\n",
    "\n",
    "                reals_to_test = np.random.choice(real_videos, size=reals_quantity_to_test)\n",
    "                fakes_to_test = np.random.choice(fake_videos, size=fakes_quantity_to_test)\n",
    "\n",
    "                metadata.loc[reals_to_test, 'split'] = \"test\"\n",
    "                metadata.loc[fakes_to_test, 'split'] = \"test\"\n",
    "            else:\n",
    "                print(\"Pass...\")\n",
    "            metadata.transpose().to_json(metadata_path)\n",
    "        print(\"Finalizado com sucesso!\")"
   ]
  },
  {
   "cell_type": "markdown",
   "metadata": {},
   "source": [
    "Função **showVideo()**: Mostra o vídeo para checagem."
   ]
  },
  {
   "cell_type": "code",
   "execution_count": 8,
   "metadata": {},
   "outputs": [],
   "source": [
    "def showVideo(video_path, resize_factor=0.6):\n",
    "    \n",
    "    # Captura o vídeo no path\n",
    "    cap = cv2.VideoCapture(str(video_path))\n",
    "\n",
    "    while(cap.isOpened()):\n",
    "        ret, frame = cap.read() # Lê o próximo frame\n",
    "        if ret: # Sucesso na leitura\n",
    "            frame = cv2.resize(frame, (int(frame.shape[1]*resize_factor), int(frame.shape[0]*resize_factor)))\n",
    "            cv2.imshow('frame', frame)\n",
    "            \n",
    "            # Apertar a tecla 'q' para sair do vídeo.\n",
    "            key = cv2.waitKey(25)\n",
    "            if key == 113:\n",
    "                break\n",
    "                \n",
    "        else:\n",
    "            break\n",
    "\n",
    "    cv2.destroyAllWindows()\n",
    "    cap.release()"
   ]
  },
  {
   "cell_type": "code",
   "execution_count": 9,
   "metadata": {},
   "outputs": [],
   "source": [
    "def showVideoWithDetection(video_path, label=None, padding=0, size=-1, separate_face_box=False, resize_factor=0.6):\n",
    "    \n",
    "    # Captura o vídeo no path\n",
    "    cap = cv2.VideoCapture(str(video_path))\n",
    "    \n",
    "    # Configura a cor a ser colocada na LABEL\n",
    "    if label == 'REAL':\n",
    "        color = (0, 255, 0) # Verde\n",
    "    elif label == \"FAKE\":\n",
    "        color = (0, 0, 255) # Vermelho  \n",
    "    else:\n",
    "        color = (0, 255, 255)\n",
    "    \n",
    "    face = None\n",
    "    \n",
    "    while(cap.isOpened()):\n",
    "        ret, frame = cap.read() # Lê o próximo frame\n",
    "        if ret: # Sucesso na leitura\n",
    "            boxes, _ = mtcnn.detect(Image.fromarray(frame)) # Detecta as imagens. O método detect só aceita numpy arrays\n",
    "            if boxes is not None: # Só entra se rostos forem detectados\n",
    "                for box in boxes: # Para cada uma das bouding boxes encontradas em um único frame (a princípio só deve ter uma)\n",
    "                    box = [int(b) for b in box]\n",
    "                    if separate_face_box:\n",
    "                        face = frame[int(box[1] - padding):int(box[3] + padding), int(box[0] - padding):int(box[2] + padding)].copy()\n",
    "                        if face is not None:\n",
    "                            if size > 0:\n",
    "                                face = cv2.resize(face, (size, size))\n",
    "                            cv2.imshow('face', face)\n",
    "                    cv2.putText(img=frame, text=label, org=(box[0], box[1]), fontFace=cv2.FONT_HERSHEY_SIMPLEX, fontScale=1, color=color, thickness=2)\n",
    "                    cv2.rectangle(frame, (box[0], box[1]), (box[2], box[3]), color=[0, 255, 0], thickness=5)\n",
    "\n",
    "            frame = cv2.resize(frame, (int(frame.shape[1]*resize_factor), int(frame.shape[0]*resize_factor)))\n",
    "            cv2.imshow('frame', frame)\n",
    "            \n",
    "            # Apertar a tecla 'q' para sair do vídeo.\n",
    "            if cv2.waitKey(1) & 0xFF == ord('q'):\n",
    "                break\n",
    "                \n",
    "        else:\n",
    "            break\n",
    "    \n",
    "    cv2.destroyAllWindows()\n",
    "    cap.release()"
   ]
  },
  {
   "cell_type": "markdown",
   "metadata": {},
   "source": [
    "# 2° passo: Observar alguns vídeos e ajustar o threshold do MTCNN para a detecção de rostos"
   ]
  },
  {
   "cell_type": "markdown",
   "metadata": {},
   "source": [
    "**MTCNN** - *Multi-task Cascaded Convolutional Network*\n",
    "\n",
    "Ajustamos os thresholds e utilizamos a função de mostrar os vídeos, verificando visualmente se ele se comporta bem na maioria dos casos."
   ]
  },
  {
   "cell_type": "code",
   "execution_count": 10,
   "metadata": {},
   "outputs": [],
   "source": [
    "# Margin não faz diferença se o método .detect() for utilizado\n",
    "IMAGE_SIZE = 224\n",
    "MARGIN = 0\n",
    "MIN_FACE_SIZE = 90\n",
    "THRESHOLDS = [0.68, 0.75, 0.80]\n",
    "POST_PROCESS = False\n",
    "SELECT_LARGEST = True\n",
    "KEEP_ALL = False\n",
    "DEVICE = device\n",
    "\n",
    "# ----------------------------------\n",
    "\n",
    "mtcnn = MTCNN(image_size=IMAGE_SIZE,\n",
    "              margin=MARGIN, \n",
    "              min_face_size=MIN_FACE_SIZE, \n",
    "              thresholds=THRESHOLDS,\n",
    "              post_process=POST_PROCESS,\n",
    "              select_largest=SELECT_LARGEST, \n",
    "              keep_all=KEEP_ALL, \n",
    "              device=device)"
   ]
  },
  {
   "cell_type": "markdown",
   "metadata": {},
   "source": [
    "### Objeto Videos\n",
    "\n",
    "Definimos nosso objeto vídeos com o diretório onde contém as pastas do conjunto de dados."
   ]
  },
  {
   "cell_type": "code",
   "execution_count": 11,
   "metadata": {},
   "outputs": [],
   "source": [
    "# Instaciamos uma objeto da classe Videos\n",
    "videos = Videos(root=\"./Kaggle Dataset\")"
   ]
  },
  {
   "cell_type": "markdown",
   "metadata": {},
   "source": [
    "#### Vídeo Real Aleatório\n",
    "\n",
    "Para cancelar a visualização do vídeo em tempo real, apertar a tecla `q` do teclado.Para cancelar a visualização do vídeo em tempo real, apertar a tecla `q` do teclado."
   ]
  },
  {
   "cell_type": "code",
   "execution_count": 12,
   "metadata": {},
   "outputs": [],
   "source": [
    "video_path, video_name, label = videos.getRandomLabeledVideo(label=\"REAL\")\n",
    "\n",
    "# Podemos passar um padding para verificar a quantidade desejada de recorte ao redo do rosto detectado\n",
    "showVideo(video_path)\n",
    "showVideoWithDetection(video_path, label=label)"
   ]
  },
  {
   "cell_type": "markdown",
   "metadata": {},
   "source": [
    "#### Vídeo Falso Aleatório\n",
    "\n",
    "Para cancelar a visualização do vídeo em tempo real, apertar a tecla `q` do teclado."
   ]
  },
  {
   "cell_type": "code",
   "execution_count": 13,
   "metadata": {},
   "outputs": [],
   "source": [
    "video_path, video_name, label = videos.getRandomLabeledVideo(label=\"FAKE\") # Recupera o caminho de um vídeo aleatório na pasta que esteja com a label 'FAKE'\n",
    "\n",
    "showVideo(video_path)\n",
    "showVideoWithDetection(video_path, label=label)"
   ]
  },
  {
   "cell_type": "markdown",
   "metadata": {},
   "source": [
    "#### Vídeo Falso Aleatório e sua versão REAL\n",
    "\n",
    "Para cancelar a visualização do vídeo em tempo real, apertar a tecla `q` do teclado."
   ]
  },
  {
   "cell_type": "code",
   "execution_count": 14,
   "metadata": {},
   "outputs": [],
   "source": [
    "video_path, video_name, label = videos.getRandomLabeledVideo(label=\"FAKE\") # Recupera o caminho de um vídeo aleatório na pasta que esteja com a label 'FAKE'\n",
    "video_path_real, video_name_real, label_real = videos.getEquivalentRealVideo(video_path)\n",
    "\n",
    "showVideo(video_path)\n",
    "showVideo(video_path_real)"
   ]
  },
  {
   "cell_type": "markdown",
   "metadata": {},
   "source": [
    "Tudo estando ok, agora podemos separar todos os vídeos em um conjunto de treinamento para realizar a validação cruzada (80%) e um conjunto de vídeos finais para teste (20%)."
   ]
  },
  {
   "cell_type": "code",
   "execution_count": 16,
   "metadata": {},
   "outputs": [],
   "source": [
    "#videos.generateMetadataTestSplit(proportion=0.2)"
   ]
  },
  {
   "cell_type": "markdown",
   "metadata": {},
   "source": [
    "# 3° Passo: Criar uma classe que recebe um vídeo, detecta todos os rostos, rescorta eles e os salva no diretório em questão"
   ]
  },
  {
   "cell_type": "markdown",
   "metadata": {},
   "source": [
    "Classe **CropSaver()**: Recorta todos os rostos de um vídeo dada uma taxa de checagem por frame."
   ]
  },
  {
   "cell_type": "code",
   "execution_count": 37,
   "metadata": {},
   "outputs": [],
   "source": [
    "class CropSaver(Videos):\n",
    "    \n",
    "    def __init__(self, root=\"./Kaggle Dataset\", device=\"cuda\"):\n",
    "        super().__init__(root)\n",
    "        # Instaciamos a MTCNN de forma interna\n",
    "        IMAGE_SIZE = 224\n",
    "        MARGIN = 0\n",
    "        MIN_FACE_SIZE = 90\n",
    "        THRESHOLDS = [0.68, 0.75, 0.80]\n",
    "        POST_PROCESS = False\n",
    "        SELECT_LARGEST = True\n",
    "        KEEP_ALL = False\n",
    "        DEVICE = device\n",
    "\n",
    "        # ----------------------------------\n",
    "\n",
    "        self.mtcnn = MTCNN(image_size=IMAGE_SIZE,\n",
    "                      margin=MARGIN, \n",
    "                      min_face_size=MIN_FACE_SIZE, \n",
    "                      thresholds=THRESHOLDS,\n",
    "                      post_process=POST_PROCESS,\n",
    "                      select_largest=SELECT_LARGEST, \n",
    "                      keep_all=KEEP_ALL, \n",
    "                      device=DEVICE).eval()\n",
    "\n",
    "    def callCropFaces(self, path_to_save=\"./Kaggle Faces Dataset\", call=\"test-video\", \n",
    "                      check_every_frame=30, batch_size=40, padding=0, size=-1):\n",
    "        path_to_save = Path(path_to_save)\n",
    "        if call == \"test-video\":\n",
    "            video_path = list(self.folders[0].glob(\"*.mp4\"))[0]\n",
    "            metadata = pd.read_json(self.folders[0]/\"metadata.json\").transpose()\n",
    "            video_name = video_path.name\n",
    "            label = metadata.loc[video_name].label\n",
    "            split = metadata.loc[video_name].split\n",
    "            self.saveCropFaces(video_path, path_to_save, split, label, batch_size=batch_size,\n",
    "                               padding=padding, size=size, check_every_frame=check_every_frame)\n",
    "            print(\"All Good! Go check it!\")\n",
    "            \n",
    "        elif call == \"test-folder\":\n",
    "            videos_path = list(self.folders[0].glob(\"*.mp4\"))\n",
    "            metadata = pd.read_json(self.folders[0]/\"metadata.json\").transpose()\n",
    "            print(\"-\"*20 + f\"Beggining folder {self.folders[0].parts[-1]}...\" + \"-\"*20 )\n",
    "            for video_path in tqdm(videos_path):\n",
    "                video_name = video_path.name\n",
    "                label = metadata.loc[video_name].label\n",
    "                split = metadata.loc[video_name].split\n",
    "                self.saveCropFaces(video_path, path_to_save, split, label, batch_size=batch_size,\n",
    "                                   padding=padding, size=size, check_every_frame=check_every_frame)\n",
    "                \n",
    "        elif call == \"all\":\n",
    "            for folder in tqdm(self.folders):\n",
    "                videos_path = list(folder.glob(\"*.mp4\"))\n",
    "                metadata = pd.read_json(folder/\"metadata.json\").transpose()\n",
    "                print(\"-\"*20 + f\"Beggining folder {folder.parts[-1]}...\" + \"-\"*20 )\n",
    "                for video_path in tqdm(videos_path):\n",
    "                    video_name = video_path.name\n",
    "                    label = metadata.loc[video_name].label\n",
    "                    split = metadata.loc[video_name].split\n",
    "                    self.saveCropFaces(video_path, path_to_save, split, label, batch_size=batch_size,\n",
    "                                       padding=padding, size=size, check_every_frame=check_every_frame)\n",
    "\n",
    "    def saveCropFaces(self, video_path, path_to_save, split, label, batch_size=40, padding=0, size=-1, check_every_frame=30):\n",
    "        \n",
    "        # Cria um path para salvar os rostos recortados do vídeo\n",
    "        class_path = path_to_save.joinpath(split, label) # Path(./Kaggle Faces Dataset/train/FAKE ou REAL)\n",
    "        \n",
    "        # Instancia um VideoCapture do arquivo presente em video_path (no caso, o vídeo)\n",
    "        cap = cv2.VideoCapture(str(video_path))\n",
    "        \n",
    "        # Pega, em inteiros, a quantidade de frames do vídeo\n",
    "        v_len = int(cap.get(cv2.CAP_PROP_FRAME_COUNT))\n",
    "\n",
    "        if not class_path.exists():\n",
    "            print(f\"The folder {class_path} não é alcançável.\")\n",
    "            return\n",
    "        \n",
    "        # Inicializa frames como uma lista vazia\n",
    "        frames = []\n",
    "        face_count = 0\n",
    "        \n",
    "        # Entra num loop que percorre o vídeo até ele acabar\n",
    "        for _ in range(1, v_len + 1):\n",
    "            # Realiza um grab() no próximo frame, mas não o decodifica. Isso ajuda a agilizar o processo se não for necessário\n",
    "            # recuperar todos os frames a todo o momento.\n",
    "            success = cap.grab()\n",
    "            # Só recorta o rosto se o frame atual for mod check_every_frame, ou seja, ele só decodifica de check_every_frame em check_every_frame frames.\n",
    "            if not success:\n",
    "                continue\n",
    "            if _ == 1 or _ % check_every_frame == 0:\n",
    "                success, frame = cap.retrieve()\n",
    "            else:\n",
    "                continue\n",
    "            if not success:\n",
    "                continue\n",
    "            # Realiza um append do frame atual na lista frames (ele é capturado no formato BGR porém a MTCNN espera no formato RGB)\n",
    "            frame = cv2.cvtColor(frame, cv2.COLOR_BGR2RGB)\n",
    "            frame = Image.fromarray(frame)\n",
    "            frames.append(frame)\n",
    "            \n",
    "            # Se o tamanho dos frames alcançou o batch_size OU o meu iterador de frames chegou no máixmo juntamento com meu tamanho de frames dentro da lista sendo maior que zero, continua pra capturar o rosto\n",
    "            if len(frames) >= batch_size or (_ == v_len and len(frames) > 0):\n",
    "                # Utiliza o MTCNN para detectar todas as bounding boxes de todos os rostos\n",
    "                boxes, probs = self.mtcnn.detect(frames)\n",
    "                # Verifica se não foi obtida nenhuma bounding box em todo o batch\n",
    "                if not all(x is None for x in boxes):\n",
    "                    # Acessa cada um dos frames no batch\n",
    "                    for i, boxes_f in enumerate(boxes):\n",
    "                        # Verifica houve None para o frame atual\n",
    "                        if boxes_f is not None:\n",
    "                            # Acessa cada uma das bounding boxes dentro de um único frame (pode haver vários rostos)\n",
    "                            for bbox in boxes_f:\n",
    "                                # Obtém o rosto\n",
    "                                face = frames[i].crop(box=(bbox[0]-padding, \n",
    "                                                           bbox[1]-padding, \n",
    "                                                           bbox[2]+padding, \n",
    "                                                           bbox[3]+padding))\n",
    "\n",
    "                                # Se desejado, aplica um resize\n",
    "                                if size > 0:\n",
    "                                    face = face.resize((size, size))\n",
    "                                    \n",
    "                                # face_count serve para não ocorrer sobrescrição de mais de um rosto por frame\n",
    "                                face_count += 1\n",
    "                                \n",
    "                                # Cria o path para o rosto atual\n",
    "                                \n",
    "                                path = class_path.joinpath(f\"{video_path.parts[-2]} {video_path.parts[-1]} {face_count} .jpg\")\n",
    "                                # Salva o rosto na pasta correta.\n",
    "                                face.save(path)\n",
    "\n",
    "                # Após o batch ser aplicado, resetamos a lista\n",
    "                frames = []\n",
    "\n",
    "        # Solta o objeto do VideoCapture\n",
    "        cap.release()"
   ]
  },
  {
   "cell_type": "markdown",
   "metadata": {},
   "source": [
    "Instaciamos o objeto."
   ]
  },
  {
   "cell_type": "code",
   "execution_count": 38,
   "metadata": {},
   "outputs": [],
   "source": [
    "cropsaver = CropSaver(device=device)"
   ]
  },
  {
   "cell_type": "markdown",
   "metadata": {},
   "source": [
    "Testamos agora para apenas 1 vídeo."
   ]
  },
  {
   "cell_type": "code",
   "execution_count": 44,
   "metadata": {},
   "outputs": [
    {
     "name": "stdout",
     "output_type": "stream",
     "text": [
      "All Good! Go check it!\n"
     ]
    }
   ],
   "source": [
    "cropsaver.callCropFaces(call=\"test-video\", check_every_frame=30)"
   ]
  },
  {
   "cell_type": "markdown",
   "metadata": {},
   "source": [
    "Agora para um diretório inteiro."
   ]
  },
  {
   "cell_type": "code",
   "execution_count": null,
   "metadata": {},
   "outputs": [],
   "source": [
    "cropsaver.callCropFaces(call=\"test-folder\", check_every_frame=15)"
   ]
  },
  {
   "cell_type": "markdown",
   "metadata": {},
   "source": [
    "# 4° Passo: Utilizar o objeto criado e iterar em todo o dataset"
   ]
  },
  {
   "cell_type": "markdown",
   "metadata": {},
   "source": [
    "E iniciamos o loop que pode levar de algumas horas até alguns dias para terminar, dependendo do hardware. Valores importante que devem ser setados nessa etapa por fim:\n",
    "- `check_every_frame`: Define de quantos em quantos frames será realizada a inferência da rede para obter o rosto. Caso o valor seja 1 a rede realizará a inferência de 1 em 1 frame, ou seja, tentará encontrar e recortar os rostos de todos os frames de todos os vídeos. Esse processo pode ser extremamente custoso. Como são aproximadamente 100 mil vídeos de aproximadamente 10 segundos cada, a checagem de 1 em 1 frame resultaria em aproximadamente 30 milhões de imagens (considerando a taxa dos vídeos de 30 frames por segunda). Essa quantidade de imagens é mais de 20 vezes o dataset do ImageNet. Aqui a sugestão está deixar esse valor como 30 (de 1 em 1 segundo) ou 15 (de meio em meio segundo).\n",
    "\n",
    "- `batch_size`: Define a quantidade máxima de imagens concatenadas que deve ser armazenada antes de realizar a inferência da MTCNN pela placa de vídeo. Para um hardware de 8 GB de memória de vídeo, o tamanho máximo de imagens está em torno de 80. Aqui o valor está setado pela metade uma vez que a quantidade máxima esperada de imagens concatenadas é aproximadamente 20 imagens, deixando uma margem.\n",
    "\n",
    "- `padding`: Define a área extra que deve ser extraída considerada na hora de extrair um rosto. No caso foi considerado como 0.\n",
    "\n",
    "- `size`: Define um tamanho padrão de saída para as imagens. Como pode existir a necessidade de se alterar esse tamanho como desejar, o valor não é fornecido, extraindo a imagem em seu tamanho original."
   ]
  },
  {
   "cell_type": "code",
   "execution_count": 52,
   "metadata": {
    "scrolled": false
   },
   "outputs": [
    {
     "data": {
      "application/vnd.jupyter.widget-view+json": {
       "model_id": "c809a7a857eb492cad8c852b1552989e",
       "version_major": 2,
       "version_minor": 0
      },
      "text/plain": [
       "  0%|          | 0/50 [00:00<?, ?it/s]"
      ]
     },
     "metadata": {},
     "output_type": "display_data"
    },
    {
     "name": "stdout",
     "output_type": "stream",
     "text": [
      "--------------------Beggining folder dfdc_train_part_0...--------------------\n"
     ]
    },
    {
     "data": {
      "application/vnd.jupyter.widget-view+json": {
       "model_id": "804905f934124a6585ea2baef433f6ef",
       "version_major": 2,
       "version_minor": 0
      },
      "text/plain": [
       "  0%|          | 0/1334 [00:00<?, ?it/s]"
      ]
     },
     "metadata": {},
     "output_type": "display_data"
    },
    {
     "name": "stdout",
     "output_type": "stream",
     "text": [
      "--------------------Beggining folder dfdc_train_part_1...--------------------\n"
     ]
    },
    {
     "data": {
      "application/vnd.jupyter.widget-view+json": {
       "model_id": "2d92d090b446438883c97dea5d645335",
       "version_major": 2,
       "version_minor": 0
      },
      "text/plain": [
       "  0%|          | 0/1699 [00:00<?, ?it/s]"
      ]
     },
     "metadata": {},
     "output_type": "display_data"
    },
    {
     "name": "stdout",
     "output_type": "stream",
     "text": [
      "--------------------Beggining folder dfdc_train_part_2...--------------------\n"
     ]
    },
    {
     "data": {
      "application/vnd.jupyter.widget-view+json": {
       "model_id": "b27b0c499cda4b28881b62c3d1488e0a",
       "version_major": 2,
       "version_minor": 0
      },
      "text/plain": [
       "  0%|          | 0/1748 [00:00<?, ?it/s]"
      ]
     },
     "metadata": {},
     "output_type": "display_data"
    },
    {
     "name": "stdout",
     "output_type": "stream",
     "text": [
      "--------------------Beggining folder dfdc_train_part_3...--------------------\n"
     ]
    },
    {
     "data": {
      "application/vnd.jupyter.widget-view+json": {
       "model_id": "426c80ed440b44b082e131b90a3a6741",
       "version_major": 2,
       "version_minor": 0
      },
      "text/plain": [
       "  0%|          | 0/1455 [00:00<?, ?it/s]"
      ]
     },
     "metadata": {},
     "output_type": "display_data"
    },
    {
     "name": "stdout",
     "output_type": "stream",
     "text": [
      "--------------------Beggining folder dfdc_train_part_4...--------------------\n"
     ]
    },
    {
     "data": {
      "application/vnd.jupyter.widget-view+json": {
       "model_id": "27faaef0f79440eaa737f5a3f317f893",
       "version_major": 2,
       "version_minor": 0
      },
      "text/plain": [
       "  0%|          | 0/1701 [00:00<?, ?it/s]"
      ]
     },
     "metadata": {},
     "output_type": "display_data"
    },
    {
     "name": "stdout",
     "output_type": "stream",
     "text": [
      "--------------------Beggining folder dfdc_train_part_5...--------------------\n"
     ]
    },
    {
     "data": {
      "application/vnd.jupyter.widget-view+json": {
       "model_id": "4aefd49a0cb346a5b9837620fc5c781d",
       "version_major": 2,
       "version_minor": 0
      },
      "text/plain": [
       "  0%|          | 0/2483 [00:00<?, ?it/s]"
      ]
     },
     "metadata": {},
     "output_type": "display_data"
    },
    {
     "name": "stdout",
     "output_type": "stream",
     "text": [
      "--------------------Beggining folder dfdc_train_part_6...--------------------\n"
     ]
    },
    {
     "data": {
      "application/vnd.jupyter.widget-view+json": {
       "model_id": "c1d5e2afec384c64946b20e9c35bf41a",
       "version_major": 2,
       "version_minor": 0
      },
      "text/plain": [
       "  0%|          | 0/3464 [00:00<?, ?it/s]"
      ]
     },
     "metadata": {},
     "output_type": "display_data"
    },
    {
     "name": "stdout",
     "output_type": "stream",
     "text": [
      "--------------------Beggining folder dfdc_train_part_7...--------------------\n"
     ]
    },
    {
     "data": {
      "application/vnd.jupyter.widget-view+json": {
       "model_id": "b58225fc32ab41e4875b5d3653ff9943",
       "version_major": 2,
       "version_minor": 0
      },
      "text/plain": [
       "  0%|          | 0/2473 [00:00<?, ?it/s]"
      ]
     },
     "metadata": {},
     "output_type": "display_data"
    },
    {
     "name": "stdout",
     "output_type": "stream",
     "text": [
      "--------------------Beggining folder dfdc_train_part_8...--------------------\n"
     ]
    },
    {
     "data": {
      "application/vnd.jupyter.widget-view+json": {
       "model_id": "e233d182b54c4834ba24a2d41a9ec155",
       "version_major": 2,
       "version_minor": 0
      },
      "text/plain": [
       "  0%|          | 0/1816 [00:00<?, ?it/s]"
      ]
     },
     "metadata": {},
     "output_type": "display_data"
    },
    {
     "name": "stdout",
     "output_type": "stream",
     "text": [
      "--------------------Beggining folder dfdc_train_part_9...--------------------\n"
     ]
    },
    {
     "data": {
      "application/vnd.jupyter.widget-view+json": {
       "model_id": "61da170e020f4ff0b1a65961f2825d9f",
       "version_major": 2,
       "version_minor": 0
      },
      "text/plain": [
       "  0%|          | 0/1736 [00:00<?, ?it/s]"
      ]
     },
     "metadata": {},
     "output_type": "display_data"
    },
    {
     "name": "stdout",
     "output_type": "stream",
     "text": [
      "--------------------Beggining folder dfdc_train_part_10...--------------------\n"
     ]
    },
    {
     "data": {
      "application/vnd.jupyter.widget-view+json": {
       "model_id": "be4b91a1c3a14dbda2ad1f85a865d0d5",
       "version_major": 2,
       "version_minor": 0
      },
      "text/plain": [
       "  0%|          | 0/3192 [00:00<?, ?it/s]"
      ]
     },
     "metadata": {},
     "output_type": "display_data"
    },
    {
     "name": "stdout",
     "output_type": "stream",
     "text": [
      "--------------------Beggining folder dfdc_train_part_11...--------------------\n"
     ]
    },
    {
     "data": {
      "application/vnd.jupyter.widget-view+json": {
       "model_id": "6a96eb16b2194e6dbfb59b2dd7901002",
       "version_major": 2,
       "version_minor": 0
      },
      "text/plain": [
       "  0%|          | 0/2118 [00:00<?, ?it/s]"
      ]
     },
     "metadata": {},
     "output_type": "display_data"
    },
    {
     "name": "stdout",
     "output_type": "stream",
     "text": [
      "--------------------Beggining folder dfdc_train_part_12...--------------------\n"
     ]
    },
    {
     "data": {
      "application/vnd.jupyter.widget-view+json": {
       "model_id": "69b3f6cfbede4de8acfba0ea50b77f58",
       "version_major": 2,
       "version_minor": 0
      },
      "text/plain": [
       "  0%|          | 0/2225 [00:00<?, ?it/s]"
      ]
     },
     "metadata": {},
     "output_type": "display_data"
    },
    {
     "name": "stdout",
     "output_type": "stream",
     "text": [
      "--------------------Beggining folder dfdc_train_part_13...--------------------\n"
     ]
    },
    {
     "data": {
      "application/vnd.jupyter.widget-view+json": {
       "model_id": "2d4cc515dbeb4df885307a759785e8a8",
       "version_major": 2,
       "version_minor": 0
      },
      "text/plain": [
       "  0%|          | 0/3694 [00:00<?, ?it/s]"
      ]
     },
     "metadata": {},
     "output_type": "display_data"
    },
    {
     "name": "stdout",
     "output_type": "stream",
     "text": [
      "--------------------Beggining folder dfdc_train_part_14...--------------------\n"
     ]
    },
    {
     "data": {
      "application/vnd.jupyter.widget-view+json": {
       "model_id": "dd880e60f11b439bb64464b8b554016e",
       "version_major": 2,
       "version_minor": 0
      },
      "text/plain": [
       "  0%|          | 0/2464 [00:00<?, ?it/s]"
      ]
     },
     "metadata": {},
     "output_type": "display_data"
    },
    {
     "name": "stdout",
     "output_type": "stream",
     "text": [
      "--------------------Beggining folder dfdc_train_part_15...--------------------\n"
     ]
    },
    {
     "data": {
      "application/vnd.jupyter.widget-view+json": {
       "model_id": "5fa17de8b2754f20b1ffbe543e868d0b",
       "version_major": 2,
       "version_minor": 0
      },
      "text/plain": [
       "  0%|          | 0/2273 [00:00<?, ?it/s]"
      ]
     },
     "metadata": {},
     "output_type": "display_data"
    },
    {
     "name": "stdout",
     "output_type": "stream",
     "text": [
      "--------------------Beggining folder dfdc_train_part_16...--------------------\n"
     ]
    },
    {
     "data": {
      "application/vnd.jupyter.widget-view+json": {
       "model_id": "09edc4340d35477187fd766dca1fe180",
       "version_major": 2,
       "version_minor": 0
      },
      "text/plain": [
       "  0%|          | 0/2061 [00:00<?, ?it/s]"
      ]
     },
     "metadata": {},
     "output_type": "display_data"
    },
    {
     "name": "stdout",
     "output_type": "stream",
     "text": [
      "--------------------Beggining folder dfdc_train_part_17...--------------------\n"
     ]
    },
    {
     "data": {
      "application/vnd.jupyter.widget-view+json": {
       "model_id": "c72cb39408bc4acebd25af3b857ab783",
       "version_major": 2,
       "version_minor": 0
      },
      "text/plain": [
       "  0%|          | 0/2430 [00:00<?, ?it/s]"
      ]
     },
     "metadata": {},
     "output_type": "display_data"
    },
    {
     "name": "stdout",
     "output_type": "stream",
     "text": [
      "--------------------Beggining folder dfdc_train_part_18...--------------------\n"
     ]
    },
    {
     "data": {
      "application/vnd.jupyter.widget-view+json": {
       "model_id": "ec812b511cfb455198c08ece0433e62d",
       "version_major": 2,
       "version_minor": 0
      },
      "text/plain": [
       "  0%|          | 0/2683 [00:00<?, ?it/s]"
      ]
     },
     "metadata": {},
     "output_type": "display_data"
    },
    {
     "name": "stdout",
     "output_type": "stream",
     "text": [
      "--------------------Beggining folder dfdc_train_part_19...--------------------\n"
     ]
    },
    {
     "data": {
      "application/vnd.jupyter.widget-view+json": {
       "model_id": "f12c9fe7199d426297860d5e54f1c35b",
       "version_major": 2,
       "version_minor": 0
      },
      "text/plain": [
       "  0%|          | 0/1701 [00:00<?, ?it/s]"
      ]
     },
     "metadata": {},
     "output_type": "display_data"
    },
    {
     "name": "stdout",
     "output_type": "stream",
     "text": [
      "--------------------Beggining folder dfdc_train_part_20...--------------------\n"
     ]
    },
    {
     "data": {
      "application/vnd.jupyter.widget-view+json": {
       "model_id": "3e7e51c213474187b33b57ba775175d4",
       "version_major": 2,
       "version_minor": 0
      },
      "text/plain": [
       "  0%|          | 0/2154 [00:00<?, ?it/s]"
      ]
     },
     "metadata": {},
     "output_type": "display_data"
    },
    {
     "name": "stdout",
     "output_type": "stream",
     "text": [
      "--------------------Beggining folder dfdc_train_part_21...--------------------\n"
     ]
    },
    {
     "data": {
      "application/vnd.jupyter.widget-view+json": {
       "model_id": "21fe8c27c6bb446c8bf3ead57ff6865b",
       "version_major": 2,
       "version_minor": 0
      },
      "text/plain": [
       "  0%|          | 0/2268 [00:00<?, ?it/s]"
      ]
     },
     "metadata": {},
     "output_type": "display_data"
    },
    {
     "name": "stdout",
     "output_type": "stream",
     "text": [
      "--------------------Beggining folder dfdc_train_part_22...--------------------\n"
     ]
    },
    {
     "data": {
      "application/vnd.jupyter.widget-view+json": {
       "model_id": "f444b95adcb2480e8273392e6bcc4e37",
       "version_major": 2,
       "version_minor": 0
      },
      "text/plain": [
       "  0%|          | 0/2409 [00:00<?, ?it/s]"
      ]
     },
     "metadata": {},
     "output_type": "display_data"
    },
    {
     "name": "stdout",
     "output_type": "stream",
     "text": [
      "--------------------Beggining folder dfdc_train_part_23...--------------------\n"
     ]
    },
    {
     "data": {
      "application/vnd.jupyter.widget-view+json": {
       "model_id": "30d2955b409a456ab61d76d722703255",
       "version_major": 2,
       "version_minor": 0
      },
      "text/plain": [
       "  0%|          | 0/2410 [00:00<?, ?it/s]"
      ]
     },
     "metadata": {},
     "output_type": "display_data"
    },
    {
     "name": "stdout",
     "output_type": "stream",
     "text": [
      "--------------------Beggining folder dfdc_train_part_24...--------------------\n"
     ]
    },
    {
     "data": {
      "application/vnd.jupyter.widget-view+json": {
       "model_id": "36dca036a25b4834bbf74fd2038da47c",
       "version_major": 2,
       "version_minor": 0
      },
      "text/plain": [
       "  0%|          | 0/2786 [00:00<?, ?it/s]"
      ]
     },
     "metadata": {},
     "output_type": "display_data"
    },
    {
     "name": "stdout",
     "output_type": "stream",
     "text": [
      "--------------------Beggining folder dfdc_train_part_25...--------------------\n"
     ]
    },
    {
     "data": {
      "application/vnd.jupyter.widget-view+json": {
       "model_id": "9c13fcac09a64445bb7bd6a11b992ab6",
       "version_major": 2,
       "version_minor": 0
      },
      "text/plain": [
       "  0%|          | 0/2546 [00:00<?, ?it/s]"
      ]
     },
     "metadata": {},
     "output_type": "display_data"
    },
    {
     "name": "stdout",
     "output_type": "stream",
     "text": [
      "--------------------Beggining folder dfdc_train_part_26...--------------------\n"
     ]
    },
    {
     "data": {
      "application/vnd.jupyter.widget-view+json": {
       "model_id": "45dcae643777453cb9db9e4bb8b8995c",
       "version_major": 2,
       "version_minor": 0
      },
      "text/plain": [
       "  0%|          | 0/2433 [00:00<?, ?it/s]"
      ]
     },
     "metadata": {},
     "output_type": "display_data"
    },
    {
     "name": "stdout",
     "output_type": "stream",
     "text": [
      "--------------------Beggining folder dfdc_train_part_27...--------------------\n"
     ]
    },
    {
     "data": {
      "application/vnd.jupyter.widget-view+json": {
       "model_id": "230ec21f80f6489ba62b7ae6cd205fe2",
       "version_major": 2,
       "version_minor": 0
      },
      "text/plain": [
       "  0%|          | 0/2353 [00:00<?, ?it/s]"
      ]
     },
     "metadata": {},
     "output_type": "display_data"
    },
    {
     "name": "stdout",
     "output_type": "stream",
     "text": [
      "--------------------Beggining folder dfdc_train_part_28...--------------------\n"
     ]
    },
    {
     "data": {
      "application/vnd.jupyter.widget-view+json": {
       "model_id": "12159c359b1f4f1ba755700de4594e0a",
       "version_major": 2,
       "version_minor": 0
      },
      "text/plain": [
       "  0%|          | 0/2085 [00:00<?, ?it/s]"
      ]
     },
     "metadata": {},
     "output_type": "display_data"
    },
    {
     "name": "stdout",
     "output_type": "stream",
     "text": [
      "--------------------Beggining folder dfdc_train_part_29...--------------------\n"
     ]
    },
    {
     "data": {
      "application/vnd.jupyter.widget-view+json": {
       "model_id": "e4882906349e42329dd879e413c95612",
       "version_major": 2,
       "version_minor": 0
      },
      "text/plain": [
       "  0%|          | 0/2557 [00:00<?, ?it/s]"
      ]
     },
     "metadata": {},
     "output_type": "display_data"
    },
    {
     "name": "stdout",
     "output_type": "stream",
     "text": [
      "--------------------Beggining folder dfdc_train_part_30...--------------------\n"
     ]
    },
    {
     "data": {
      "application/vnd.jupyter.widget-view+json": {
       "model_id": "47d407685ac44db9879783176972072e",
       "version_major": 2,
       "version_minor": 0
      },
      "text/plain": [
       "  0%|          | 0/2236 [00:00<?, ?it/s]"
      ]
     },
     "metadata": {},
     "output_type": "display_data"
    },
    {
     "name": "stdout",
     "output_type": "stream",
     "text": [
      "--------------------Beggining folder dfdc_train_part_31...--------------------\n"
     ]
    },
    {
     "data": {
      "application/vnd.jupyter.widget-view+json": {
       "model_id": "bf1aa65f1e154790853be25570af426c",
       "version_major": 2,
       "version_minor": 0
      },
      "text/plain": [
       "  0%|          | 0/2470 [00:00<?, ?it/s]"
      ]
     },
     "metadata": {},
     "output_type": "display_data"
    },
    {
     "name": "stdout",
     "output_type": "stream",
     "text": [
      "--------------------Beggining folder dfdc_train_part_32...--------------------\n"
     ]
    },
    {
     "data": {
      "application/vnd.jupyter.widget-view+json": {
       "model_id": "4ee21f8e305e4a99a5df7768960e5da1",
       "version_major": 2,
       "version_minor": 0
      },
      "text/plain": [
       "  0%|          | 0/2356 [00:00<?, ?it/s]"
      ]
     },
     "metadata": {},
     "output_type": "display_data"
    },
    {
     "name": "stdout",
     "output_type": "stream",
     "text": [
      "--------------------Beggining folder dfdc_train_part_33...--------------------\n"
     ]
    },
    {
     "data": {
      "application/vnd.jupyter.widget-view+json": {
       "model_id": "d7cce0e61fbe40048222334b9c397db5",
       "version_major": 2,
       "version_minor": 0
      },
      "text/plain": [
       "  0%|          | 0/2274 [00:00<?, ?it/s]"
      ]
     },
     "metadata": {},
     "output_type": "display_data"
    },
    {
     "name": "stdout",
     "output_type": "stream",
     "text": [
      "--------------------Beggining folder dfdc_train_part_34...--------------------\n"
     ]
    },
    {
     "data": {
      "application/vnd.jupyter.widget-view+json": {
       "model_id": "cb7040aa72a24544aad2a1a92657a301",
       "version_major": 2,
       "version_minor": 0
      },
      "text/plain": [
       "  0%|          | 0/2658 [00:00<?, ?it/s]"
      ]
     },
     "metadata": {},
     "output_type": "display_data"
    },
    {
     "name": "stdout",
     "output_type": "stream",
     "text": [
      "--------------------Beggining folder dfdc_train_part_35...--------------------\n"
     ]
    },
    {
     "data": {
      "application/vnd.jupyter.widget-view+json": {
       "model_id": "3beb84737db34c52905d91797c324a2c",
       "version_major": 2,
       "version_minor": 0
      },
      "text/plain": [
       "  0%|          | 0/2535 [00:00<?, ?it/s]"
      ]
     },
     "metadata": {},
     "output_type": "display_data"
    },
    {
     "name": "stdout",
     "output_type": "stream",
     "text": [
      "--------------------Beggining folder dfdc_train_part_36...--------------------\n"
     ]
    },
    {
     "data": {
      "application/vnd.jupyter.widget-view+json": {
       "model_id": "50b1046f8cde418ca4342af9ff6c613f",
       "version_major": 2,
       "version_minor": 0
      },
      "text/plain": [
       "  0%|          | 0/2339 [00:00<?, ?it/s]"
      ]
     },
     "metadata": {},
     "output_type": "display_data"
    },
    {
     "name": "stdout",
     "output_type": "stream",
     "text": [
      "--------------------Beggining folder dfdc_train_part_37...--------------------\n"
     ]
    },
    {
     "data": {
      "application/vnd.jupyter.widget-view+json": {
       "model_id": "56ecba55b57041f8b71946a1ddb06cd3",
       "version_major": 2,
       "version_minor": 0
      },
      "text/plain": [
       "  0%|          | 0/2655 [00:00<?, ?it/s]"
      ]
     },
     "metadata": {},
     "output_type": "display_data"
    },
    {
     "name": "stdout",
     "output_type": "stream",
     "text": [
      "--------------------Beggining folder dfdc_train_part_38...--------------------\n"
     ]
    },
    {
     "data": {
      "application/vnd.jupyter.widget-view+json": {
       "model_id": "e6c1ac1273bb4aa1a974362a203f80c2",
       "version_major": 2,
       "version_minor": 0
      },
      "text/plain": [
       "  0%|          | 0/2477 [00:00<?, ?it/s]"
      ]
     },
     "metadata": {},
     "output_type": "display_data"
    },
    {
     "name": "stdout",
     "output_type": "stream",
     "text": [
      "--------------------Beggining folder dfdc_train_part_39...--------------------\n"
     ]
    },
    {
     "data": {
      "application/vnd.jupyter.widget-view+json": {
       "model_id": "56919b8b2dfd446988366fc81457b25b",
       "version_major": 2,
       "version_minor": 0
      },
      "text/plain": [
       "  0%|          | 0/2556 [00:00<?, ?it/s]"
      ]
     },
     "metadata": {},
     "output_type": "display_data"
    },
    {
     "name": "stdout",
     "output_type": "stream",
     "text": [
      "--------------------Beggining folder dfdc_train_part_40...--------------------\n"
     ]
    },
    {
     "data": {
      "application/vnd.jupyter.widget-view+json": {
       "model_id": "7f3dbb3d0159469593c8497b979fb3f5",
       "version_major": 2,
       "version_minor": 0
      },
      "text/plain": [
       "  0%|          | 0/2420 [00:00<?, ?it/s]"
      ]
     },
     "metadata": {},
     "output_type": "display_data"
    },
    {
     "name": "stdout",
     "output_type": "stream",
     "text": [
      "--------------------Beggining folder dfdc_train_part_41...--------------------\n"
     ]
    },
    {
     "data": {
      "application/vnd.jupyter.widget-view+json": {
       "model_id": "89599173f4c04fda9337320ccb196911",
       "version_major": 2,
       "version_minor": 0
      },
      "text/plain": [
       "  0%|          | 0/2222 [00:00<?, ?it/s]"
      ]
     },
     "metadata": {},
     "output_type": "display_data"
    },
    {
     "name": "stdout",
     "output_type": "stream",
     "text": [
      "--------------------Beggining folder dfdc_train_part_42...--------------------\n"
     ]
    },
    {
     "data": {
      "application/vnd.jupyter.widget-view+json": {
       "model_id": "6dcfdbcf830746f5a418bc280d790908",
       "version_major": 2,
       "version_minor": 0
      },
      "text/plain": [
       "  0%|          | 0/2384 [00:00<?, ?it/s]"
      ]
     },
     "metadata": {},
     "output_type": "display_data"
    },
    {
     "name": "stdout",
     "output_type": "stream",
     "text": [
      "--------------------Beggining folder dfdc_train_part_43...--------------------\n"
     ]
    },
    {
     "data": {
      "application/vnd.jupyter.widget-view+json": {
       "model_id": "a462f39a2adf4f06924655c6d3975fa4",
       "version_major": 2,
       "version_minor": 0
      },
      "text/plain": [
       "  0%|          | 0/2546 [00:00<?, ?it/s]"
      ]
     },
     "metadata": {},
     "output_type": "display_data"
    },
    {
     "name": "stdout",
     "output_type": "stream",
     "text": [
      "--------------------Beggining folder dfdc_train_part_44...--------------------\n"
     ]
    },
    {
     "data": {
      "application/vnd.jupyter.widget-view+json": {
       "model_id": "81c1e843eef548f78b222e78262c1476",
       "version_major": 2,
       "version_minor": 0
      },
      "text/plain": [
       "  0%|          | 0/2665 [00:00<?, ?it/s]"
      ]
     },
     "metadata": {},
     "output_type": "display_data"
    },
    {
     "name": "stdout",
     "output_type": "stream",
     "text": [
      "--------------------Beggining folder dfdc_train_part_45...--------------------\n"
     ]
    },
    {
     "data": {
      "application/vnd.jupyter.widget-view+json": {
       "model_id": "43bd78a662424b3cb483f63dfb45b319",
       "version_major": 2,
       "version_minor": 0
      },
      "text/plain": [
       "  0%|          | 0/2346 [00:00<?, ?it/s]"
      ]
     },
     "metadata": {},
     "output_type": "display_data"
    },
    {
     "name": "stdout",
     "output_type": "stream",
     "text": [
      "--------------------Beggining folder dfdc_train_part_46...--------------------\n"
     ]
    },
    {
     "data": {
      "application/vnd.jupyter.widget-view+json": {
       "model_id": "b27c084fc2f04c1b9831303c8d64d574",
       "version_major": 2,
       "version_minor": 0
      },
      "text/plain": [
       "  0%|          | 0/2202 [00:00<?, ?it/s]"
      ]
     },
     "metadata": {},
     "output_type": "display_data"
    },
    {
     "name": "stdout",
     "output_type": "stream",
     "text": [
      "--------------------Beggining folder dfdc_train_part_47...--------------------\n"
     ]
    },
    {
     "data": {
      "application/vnd.jupyter.widget-view+json": {
       "model_id": "722a35d6308049bda8dd1951a0f2f8cf",
       "version_major": 2,
       "version_minor": 0
      },
      "text/plain": [
       "  0%|          | 0/2406 [00:00<?, ?it/s]"
      ]
     },
     "metadata": {},
     "output_type": "display_data"
    },
    {
     "name": "stdout",
     "output_type": "stream",
     "text": [
      "--------------------Beggining folder dfdc_train_part_48...--------------------\n"
     ]
    },
    {
     "data": {
      "application/vnd.jupyter.widget-view+json": {
       "model_id": "3d6ef88acdfc414da5586ac351645be2",
       "version_major": 2,
       "version_minor": 0
      },
      "text/plain": [
       "  0%|          | 0/2463 [00:00<?, ?it/s]"
      ]
     },
     "metadata": {},
     "output_type": "display_data"
    },
    {
     "name": "stdout",
     "output_type": "stream",
     "text": [
      "--------------------Beggining folder dfdc_train_part_49...--------------------\n"
     ]
    },
    {
     "data": {
      "application/vnd.jupyter.widget-view+json": {
       "model_id": "ff4515724a084ab3aaa9d2142d466c41",
       "version_major": 2,
       "version_minor": 0
      },
      "text/plain": [
       "  0%|          | 0/3134 [00:00<?, ?it/s]"
      ]
     },
     "metadata": {},
     "output_type": "display_data"
    }
   ],
   "source": [
    "cropsaver.callCropFaces(call=\"all\", check_every_frame=30)"
   ]
  }
 ],
 "metadata": {
  "kernelspec": {
   "display_name": "Python 3",
   "language": "python",
   "name": "python3"
  },
  "language_info": {
   "codemirror_mode": {
    "name": "ipython",
    "version": 3
   },
   "file_extension": ".py",
   "mimetype": "text/x-python",
   "name": "python",
   "nbconvert_exporter": "python",
   "pygments_lexer": "ipython3",
   "version": "3.8.5"
  }
 },
 "nbformat": 4,
 "nbformat_minor": 4
}
