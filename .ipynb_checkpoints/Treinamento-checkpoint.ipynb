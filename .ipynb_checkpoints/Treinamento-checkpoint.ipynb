{
 "cells": [
  {
   "cell_type": "markdown",
   "metadata": {},
   "source": [
    "### Este notebook consiste no treinamento dos modelos pré-treinados disponíveis no PyTorch"
   ]
  },
  {
   "cell_type": "markdown",
   "metadata": {},
   "source": [
    "Primeiramente, importamos todas as dependências necessárias."
   ]
  },
  {
   "cell_type": "code",
   "execution_count": 1,
   "metadata": {},
   "outputs": [],
   "source": [
    "import torch\n",
    "import torch.nn as nn\n",
    "import torchvision\n",
    "\n",
    "import io\n",
    "\n",
    "import pandas as pd\n",
    "\n",
    "import sklearn.metrics as metrics"
   ]
  },
  {
   "cell_type": "markdown",
   "metadata": {},
   "source": [
    "Setamos o dispositivo que rodaremos as equações matriciais de tensores."
   ]
  },
  {
   "cell_type": "code",
   "execution_count": 2,
   "metadata": {},
   "outputs": [
    {
     "name": "stdout",
     "output_type": "stream",
     "text": [
      "GPU available. Training on GeForce RTX 2070.\n"
     ]
    }
   ],
   "source": [
    "if torch.cuda.is_available():\n",
    "    device = 'cuda:0'\n",
    "    print(\"GPU available. Training on {}.\".format(torch.cuda.get_device_name()))\n",
    "else:\n",
    "    device = 'cpu'\n",
    "    print(\"GPU not available. Training on CPU.\")"
   ]
  },
  {
   "cell_type": "markdown",
   "metadata": {},
   "source": [
    "O PyTorch oferece vários modelos pré-treinados no ImageNET. Vejamos algumas possibilidades."
   ]
  },
  {
   "cell_type": "code",
   "execution_count": 3,
   "metadata": {},
   "outputs": [
    {
     "data": {
      "text/plain": [
       "['AlexNet',\n",
       " 'DenseNet',\n",
       " 'GoogLeNet',\n",
       " 'GoogLeNetOutputs',\n",
       " 'Inception3',\n",
       " 'InceptionOutputs',\n",
       " 'MNASNet',\n",
       " 'MobileNetV2',\n",
       " 'ResNet',\n",
       " 'ShuffleNetV2',\n",
       " 'SqueezeNet',\n",
       " 'VGG',\n",
       " '_GoogLeNetOutputs',\n",
       " '_InceptionOutputs',\n",
       " '__builtins__',\n",
       " '__cached__',\n",
       " '__doc__',\n",
       " '__file__',\n",
       " '__loader__',\n",
       " '__name__',\n",
       " '__package__',\n",
       " '__path__',\n",
       " '__spec__',\n",
       " '_utils',\n",
       " 'alexnet',\n",
       " 'densenet',\n",
       " 'densenet121',\n",
       " 'densenet161',\n",
       " 'densenet169',\n",
       " 'densenet201',\n",
       " 'detection',\n",
       " 'googlenet',\n",
       " 'inception',\n",
       " 'inception_v3',\n",
       " 'mnasnet',\n",
       " 'mnasnet0_5',\n",
       " 'mnasnet0_75',\n",
       " 'mnasnet1_0',\n",
       " 'mnasnet1_3',\n",
       " 'mobilenet',\n",
       " 'mobilenet_v2',\n",
       " 'quantization',\n",
       " 'resnet',\n",
       " 'resnet101',\n",
       " 'resnet152',\n",
       " 'resnet18',\n",
       " 'resnet34',\n",
       " 'resnet50',\n",
       " 'resnext101_32x8d',\n",
       " 'resnext50_32x4d',\n",
       " 'segmentation',\n",
       " 'shufflenet_v2_x0_5',\n",
       " 'shufflenet_v2_x1_0',\n",
       " 'shufflenet_v2_x1_5',\n",
       " 'shufflenet_v2_x2_0',\n",
       " 'shufflenetv2',\n",
       " 'squeezenet',\n",
       " 'squeezenet1_0',\n",
       " 'squeezenet1_1',\n",
       " 'utils',\n",
       " 'vgg',\n",
       " 'vgg11',\n",
       " 'vgg11_bn',\n",
       " 'vgg13',\n",
       " 'vgg13_bn',\n",
       " 'vgg16',\n",
       " 'vgg16_bn',\n",
       " 'vgg19',\n",
       " 'vgg19_bn',\n",
       " 'video',\n",
       " 'wide_resnet101_2',\n",
       " 'wide_resnet50_2']"
      ]
     },
     "execution_count": 3,
     "metadata": {},
     "output_type": "execute_result"
    }
   ],
   "source": [
    "dir(torchvision.models)"
   ]
  },
  {
   "cell_type": "markdown",
   "metadata": {},
   "source": [
    "Temos disponíveis arquiteturas como a AlexNet, Inception, ResNet, VGG, ShuffleNet (para mobiles), MnasNet (também para mobile), etc"
   ]
  },
  {
   "cell_type": "markdown",
   "metadata": {},
   "source": [
    "Para o problema em questão, foram separadas 5 arquiteturas principais para o treinamento e suas respectivas variantes de várias camadas:\n",
    "- AlexNet\n",
    "- ResNet\n",
    "- ResNext\n",
    "- VGG\n",
    "- Inception"
   ]
  },
  {
   "cell_type": "markdown",
   "metadata": {},
   "source": [
    "Após puxar o modelo, devemos substituir sua última camada totalmente conectada para comportar apenas 2 saídas agora, que serão nossos valores de DeepFake ou não."
   ]
  },
  {
   "cell_type": "markdown",
   "metadata": {},
   "source": [
    "### ResNet"
   ]
  },
  {
   "cell_type": "code",
   "execution_count": 78,
   "metadata": {},
   "outputs": [],
   "source": [
    "resnet18 = torchvision.models.resnet18(pretrained=True)\n",
    "num_features = resnet18.fc.in_features\n",
    "resnet18.fc = nn.Linear(num_features, 2)\n",
    "\n",
    "#resnet34 = torchvision.models.resnet34(pretrained=True)\n",
    "#num_features = resnet34.fc.in_features\n",
    "#resnet34.fc = nn.Linear(num_features, 2)\n",
    "\n",
    "#resnet50 = torchvision.models.resnet50(pretrained=True)\n",
    "#num_features = resnet50.fc.in_features\n",
    "#resnet50.fc = nn.Linear(num_features, 2)"
   ]
  },
  {
   "cell_type": "markdown",
   "metadata": {},
   "source": [
    "### AlexNet"
   ]
  },
  {
   "cell_type": "code",
   "execution_count": null,
   "metadata": {},
   "outputs": [],
   "source": [
    "alexnet = torchvision.models.alexnet(pretrained=True)"
   ]
  },
  {
   "cell_type": "markdown",
   "metadata": {},
   "source": [
    "### ResNeXt"
   ]
  },
  {
   "cell_type": "code",
   "execution_count": null,
   "metadata": {},
   "outputs": [],
   "source": [
    "resnext50 = torchvision.models.resnext50_32x4d(pretrained=True)"
   ]
  },
  {
   "cell_type": "markdown",
   "metadata": {},
   "source": [
    "### VGG"
   ]
  },
  {
   "cell_type": "code",
   "execution_count": null,
   "metadata": {},
   "outputs": [],
   "source": [
    "vgg11 = torchvision.models.vgg11(pretrained=True)\n",
    "#vgg13 = torchvision.models.vgg13(pretrained=True)\n",
    "#vgg16 = torchvision.models.vgg16(pretrained=True)\n",
    "#vgg19 = torchvision.models.vgg19(pretrained=True)"
   ]
  },
  {
   "cell_type": "markdown",
   "metadata": {},
   "source": [
    "### Inception"
   ]
  },
  {
   "cell_type": "code",
   "execution_count": null,
   "metadata": {},
   "outputs": [],
   "source": [
    "inception = torchvision.models.inception_v3(pretrained=True)"
   ]
  },
  {
   "cell_type": "markdown",
   "metadata": {},
   "source": [
    "Com os modelos devidamente carregados, vamos puxar o nosso dataset de imagens 224x224 pixels."
   ]
  },
  {
   "cell_type": "markdown",
   "metadata": {},
   "source": [
    "## Carregando o Dataset"
   ]
  },
  {
   "cell_type": "markdown",
   "metadata": {},
   "source": [
    "Inicialmente transformamos as imagens em tensores e, uma vez que temos um dataset muito rico, não precisamos fazer uso de Data Augmentation"
   ]
  },
  {
   "cell_type": "code",
   "execution_count": 66,
   "metadata": {},
   "outputs": [],
   "source": [
    "path = 'no-resize-color'\n",
    "transform =  torchvision.transforms.Compose([\n",
    "                                 torchvision.transforms.Resize((224,224)),\n",
    "                                 torchvision.transforms.ToTensor(),\n",
    "                                ])\n",
    "DeepFakeDataset = torchvision.datasets.ImageFolder('./Faces Dataset/' + path, transform=transform)"
   ]
  },
  {
   "cell_type": "markdown",
   "metadata": {},
   "source": [
    "Definimos uma função de auxílio para realizar uma checagem sã no dataset."
   ]
  },
  {
   "cell_type": "code",
   "execution_count": 38,
   "metadata": {},
   "outputs": [],
   "source": [
    "getPIL = torchvision.transforms.ToPILImage()"
   ]
  },
  {
   "cell_type": "code",
   "execution_count": 40,
   "metadata": {},
   "outputs": [
    {
     "data": {
      "image/png": "[encoded data removed]",
      "text/plain": [
       "<PIL.Image.Image image mode=RGB size=224x224 at 0x25DF56A0F88>"
      ]
     },
     "execution_count": 40,
     "metadata": {},
     "output_type": "execute_result"
    }
   ],
   "source": [
    "getPIL(DeepFakeDataset[0][0])"
   ]
  },
  {
   "cell_type": "markdown",
   "metadata": {},
   "source": [
    "Separamos 70% do dataset para treinamento e 30% para teste"
   ]
  },
  {
   "cell_type": "markdown",
   "metadata": {},
   "source": [
    "Instaciamos um DataLoader de treinamento e um de teste, para nos auxiliar, utilizando um batch_size de 32"
   ]
  },
  {
   "cell_type": "code",
   "execution_count": 67,
   "metadata": {},
   "outputs": [],
   "source": [
    "from torch.utils.data.sampler import SubsetRandomSampler\n",
    "\n",
    "percentage_for_train = 0.7\n",
    "\n",
    "shuffle_indices = torch.randperm(len(DeepFakeDataset))\n",
    "train_indices = shuffle_indices[:int(percentage_for_train*len(DeepFakeDataset))]\n",
    "val_indices = shuffle_indices[int(percentage_for_train*len(DeepFakeDataset)):]\n",
    "\n",
    "train_sampler = SubsetRandomSampler(train_indices)\n",
    "val_sampler = SubsetRandomSampler(val_indices)\n",
    "\n",
    "batch_size = 64\n",
    "\n",
    "train_dataloader = torch.utils.data.DataLoader(DeepFakeDataset, batch_size=batch_size, sampler=train_sampler)\n",
    "test_dataloader = torch.utils.data.DataLoader(DeepFakeDataset, batch_size=batch_size, sampler=val_sampler)"
   ]
  },
  {
   "cell_type": "markdown",
   "metadata": {},
   "source": [
    "### Definimos um loop de treinamento"
   ]
  },
  {
   "cell_type": "code",
   "execution_count": 62,
   "metadata": {},
   "outputs": [],
   "source": [
    "def training_loop(n_epochs, model, loss_function, optimizer, print_every_percentage = 10):\n",
    "    model = model.to(device)\n",
    "    loss_function = loss_function.to(device)\n",
    "    size = int(len(train_dataloader)/(100/print_every_percentage))\n",
    "    \n",
    "    model.train()\n",
    "    for epoch in range(0, n_epochs):\n",
    "        loss_sum = 0\n",
    "        iteration = 0\n",
    "        print(\"Beggining epoch {}...\".format(epoch+1))\n",
    "        for images, labels in train_dataloader:\n",
    "            \n",
    "            images = images.to(device)\n",
    "            labels = labels.to(device)\n",
    "            \n",
    "            predictions = model(images)\n",
    "            loss = loss_function(predictions, labels.long())\n",
    "            loss_sum += loss\n",
    "            optimizer.zero_grad()\n",
    "            loss.backward()\n",
    "            optimizer.step()\n",
    "            \n",
    "            iteration += 1\n",
    "            \n",
    "            if iteration % size == 0:\n",
    "                print(\"{:.2f}%: Loss {:.6f}\".format(round(iteration/len(train_dataloader)*100), loss_sum.item()/size))\n",
    "                loss_sum = 0"
   ]
  },
  {
   "cell_type": "markdown",
   "metadata": {},
   "source": [
    "### E um loop de validação"
   ]
  },
  {
   "cell_type": "code",
   "execution_count": 63,
   "metadata": {},
   "outputs": [],
   "source": [
    "def eval_loop(model, print_every_percentage=10):\n",
    "    all_labels = torch.LongTensor([]).cuda()\n",
    "    all_predictions = torch.LongTensor([]).cuda()\n",
    "    model = model.to(device)\n",
    "    size = int(len(test_dataloader)/(100/print_every_percentage))\n",
    "    model.eval()\n",
    "    with torch.no_grad():\n",
    "        iteration = 0\n",
    "        for images, labels in test_dataloader:\n",
    "            images = images.to(device)\n",
    "            labels = labels.to(device)\n",
    "            predictions = model(images)\n",
    "            predictions = predictions.max(dim=1)[1]\n",
    "            all_predictions = torch.cat((all_predictions, predictions))\n",
    "            all_labels = torch.cat((all_labels, labels))\n",
    "            \n",
    "            iteration += 1\n",
    "            if iteration % size == 0:\n",
    "                print(\"Testing the model: {:.2f}%\".format(round(iteration/len(test_dataloader)*100)))\n",
    "                loss_sum = 0\n",
    "            \n",
    "    return all_predictions, all_labels"
   ]
  },
  {
   "cell_type": "markdown",
   "metadata": {},
   "source": [
    "### Definimos uma função que monta uma matriz de confusão, para auxilar na visualização dos resultados."
   ]
  },
  {
   "cell_type": "code",
   "execution_count": 64,
   "metadata": {},
   "outputs": [],
   "source": [
    "def createDataFrame_conf_matrix(all_pread, all_labels):\n",
    "    c_mat = pd.DataFrame(metrics.confusion_matrix(all_labels.cpu().detach().numpy(), all_pred.cpu().detach().numpy()))\n",
    "    c_mat = c_mat.rename(columns={0: 'FAKE_predicted', 1: \"REAL_predicted\"}, index={0: 'FAKE', 1: \"REAL\"})\n",
    "    rows = [c_mat.loc['FAKE'][0] / c_mat.sum()[0] * 100, c_mat.loc['REAL'][1] / c_mat.sum()[1] * 100]\n",
    "    columns = [c_mat['FAKE_predicted'][0] / c_mat.sum(axis=1)[0] * 100, c_mat['REAL_predicted'][1] / c_mat.sum(axis=1)[1] * 100]\n",
    "    accuracy = (c_mat.loc['FAKE'][0] + c_mat.loc['REAL'][1]) / (c_mat.sum(axis=1)[0] + c_mat.sum(axis=1)[1])*100 \n",
    "    c_mat.loc['Percentage'] = [str(round(rows[0],2)) +' %', str(round(rows[1],2)) +' %']\n",
    "    c_mat['Percentage'] = [str(round(columns[0],2)) +' %', str(round(columns[1],2)) +' %', str(round(accuracy,2)) +' %']\n",
    "    return c_mat"
   ]
  },
  {
   "cell_type": "markdown",
   "metadata": {},
   "source": [
    "Vamos rodar um modelo cru inicialmente e observar os resultados para ver como está o comportamento da rede. Espera-se algo próximo do aleatório."
   ]
  },
  {
   "cell_type": "code",
   "execution_count": 31,
   "metadata": {},
   "outputs": [
    {
     "name": "stdout",
     "output_type": "stream",
     "text": [
      "Testing the model: 10.00%\n",
      "Testing the model: 20.00%\n",
      "Testing the model: 30.00%\n",
      "Testing the model: 40.00%\n",
      "Testing the model: 50.00%\n",
      "Testing the model: 60.00%\n",
      "Testing the model: 70.00%\n",
      "Testing the model: 80.00%\n",
      "Testing the model: 90.00%\n",
      "Testing the model: 100.00%\n"
     ]
    },
    {
     "data": {
      "text/html": [
       "<div>\n",
       "<style scoped>\n",
       "    .dataframe tbody tr th:only-of-type {\n",
       "        vertical-align: middle;\n",
       "    }\n",
       "\n",
       "    .dataframe tbody tr th {\n",
       "        vertical-align: top;\n",
       "    }\n",
       "\n",
       "    .dataframe thead th {\n",
       "        text-align: right;\n",
       "    }\n",
       "</style>\n",
       "<table border=\"1\" class=\"dataframe\">\n",
       "  <thead>\n",
       "    <tr style=\"text-align: right;\">\n",
       "      <th></th>\n",
       "      <th>FAKE_predicted</th>\n",
       "      <th>REAL_predicted</th>\n",
       "      <th>Percentage</th>\n",
       "    </tr>\n",
       "  </thead>\n",
       "  <tbody>\n",
       "    <tr>\n",
       "      <th>FAKE</th>\n",
       "      <td>42006</td>\n",
       "      <td>143895</td>\n",
       "      <td>22.6 %</td>\n",
       "    </tr>\n",
       "    <tr>\n",
       "      <th>REAL</th>\n",
       "      <td>8626</td>\n",
       "      <td>29204</td>\n",
       "      <td>77.2 %</td>\n",
       "    </tr>\n",
       "    <tr>\n",
       "      <th>Percentage</th>\n",
       "      <td>82.96 %</td>\n",
       "      <td>16.87 %</td>\n",
       "      <td>31.83 %</td>\n",
       "    </tr>\n",
       "  </tbody>\n",
       "</table>\n",
       "</div>"
      ],
      "text/plain": [
       "           FAKE_predicted REAL_predicted Percentage\n",
       "FAKE                42006         143895     22.6 %\n",
       "REAL                 8626          29204     77.2 %\n",
       "Percentage        82.96 %        16.87 %    31.83 %"
      ]
     },
     "execution_count": 31,
     "metadata": {},
     "output_type": "execute_result"
    }
   ],
   "source": [
    "all_pred, all_labels = eval_loop(resnet18)\n",
    "c_mat = createDataFrame_conf_matrix(all_pred, all_labels)\n",
    "c_mat"
   ]
  },
  {
   "cell_type": "markdown",
   "metadata": {},
   "source": [
    "# Primeiro Treinamento\n",
    "## ResNet\n",
    "### ResNet18\n",
    "Vamos treinar um modelo ResNet em cima do nosso dataset e acompanhar o valor do custo, que deve cair ao longo do tempo. Vamos treinar durante 1 época para checar como esse custo decai."
   ]
  },
  {
   "cell_type": "markdown",
   "metadata": {},
   "source": [
    "# ----------------------------------"
   ]
  },
  {
   "cell_type": "markdown",
   "metadata": {},
   "source": [
    "## Área de Testes destinada a ser apagada"
   ]
  },
  {
   "cell_type": "code",
   "execution_count": 69,
   "metadata": {},
   "outputs": [
    {
     "name": "stdout",
     "output_type": "stream",
     "text": [
      "Beggining epoch 1...\n",
      "5.00%: Loss 0.596196\n",
      "10.00%: Loss 0.495530\n",
      "15.00%: Loss 0.408637\n",
      "20.00%: Loss 0.355813\n",
      "25.00%: Loss 0.317438\n",
      "30.00%: Loss 0.285225\n",
      "35.00%: Loss 0.261852\n",
      "40.00%: Loss 0.247198\n",
      "45.00%: Loss 0.238330\n",
      "50.00%: Loss 0.221226\n",
      "55.00%: Loss 0.209091\n",
      "60.00%: Loss 0.197899\n",
      "65.00%: Loss 0.189577\n",
      "70.00%: Loss 0.194329\n",
      "75.00%: Loss 0.184642\n",
      "80.00%: Loss 0.172489\n",
      "85.00%: Loss 0.168988\n",
      "90.00%: Loss 0.161276\n",
      "95.00%: Loss 0.162336\n",
      "100.00%: Loss 0.153883\n"
     ]
    }
   ],
   "source": [
    "# Estamos treinando um classificador, logo se torna interessante utilizar uma função de CrossEntropyLoss\n",
    "loss_function = nn.CrossEntropyLoss(weight=torch.FloatTensor([1.0, 3.0]))\n",
    "\n",
    "# Nosso otimizador será um Adam, que receberá os parâmetros da rede e irá atualizá-los utilizando gradient descent\n",
    "# Aqui estamos utilizando um learning rate baixo, de 0.0001\n",
    "optimizer = torch.optim.Adam(resnet18.parameters(), lr=1e-3)\n",
    "\n",
    "training_loop(n_epochs=1, model=resnet18, loss_function=loss_function, optimizer=optimizer, print_every_percentage=5)"
   ]
  },
  {
   "cell_type": "code",
   "execution_count": 70,
   "metadata": {},
   "outputs": [
    {
     "name": "stdout",
     "output_type": "stream",
     "text": [
      "Testing the model: 10.00%\n",
      "Testing the model: 20.00%\n",
      "Testing the model: 30.00%\n",
      "Testing the model: 40.00%\n",
      "Testing the model: 50.00%\n",
      "Testing the model: 60.00%\n",
      "Testing the model: 70.00%\n",
      "Testing the model: 80.00%\n",
      "Testing the model: 90.00%\n",
      "Testing the model: 100.00%\n"
     ]
    },
    {
     "data": {
      "text/html": [
       "<div>\n",
       "<style scoped>\n",
       "    .dataframe tbody tr th:only-of-type {\n",
       "        vertical-align: middle;\n",
       "    }\n",
       "\n",
       "    .dataframe tbody tr th {\n",
       "        vertical-align: top;\n",
       "    }\n",
       "\n",
       "    .dataframe thead th {\n",
       "        text-align: right;\n",
       "    }\n",
       "</style>\n",
       "<table border=\"1\" class=\"dataframe\">\n",
       "  <thead>\n",
       "    <tr style=\"text-align: right;\">\n",
       "      <th></th>\n",
       "      <th>FAKE_predicted</th>\n",
       "      <th>REAL_predicted</th>\n",
       "      <th>Percentage</th>\n",
       "    </tr>\n",
       "  </thead>\n",
       "  <tbody>\n",
       "    <tr>\n",
       "      <th>FAKE</th>\n",
       "      <td>170625</td>\n",
       "      <td>3581</td>\n",
       "      <td>97.94 %</td>\n",
       "    </tr>\n",
       "    <tr>\n",
       "      <th>REAL</th>\n",
       "      <td>9429</td>\n",
       "      <td>26918</td>\n",
       "      <td>74.06 %</td>\n",
       "    </tr>\n",
       "    <tr>\n",
       "      <th>Percentage</th>\n",
       "      <td>94.76 %</td>\n",
       "      <td>88.26 %</td>\n",
       "      <td>93.82 %</td>\n",
       "    </tr>\n",
       "  </tbody>\n",
       "</table>\n",
       "</div>"
      ],
      "text/plain": [
       "           FAKE_predicted REAL_predicted Percentage\n",
       "FAKE               170625           3581    97.94 %\n",
       "REAL                 9429          26918    74.06 %\n",
       "Percentage        94.76 %        88.26 %    93.82 %"
      ]
     },
     "execution_count": 70,
     "metadata": {},
     "output_type": "execute_result"
    }
   ],
   "source": [
    "all_pred, all_labels = eval_loop(resnet18)\n",
    "c_mat = createDataFrame_conf_matrix(all_pred, all_labels)\n",
    "c_mat"
   ]
  },
  {
   "cell_type": "code",
   "execution_count": 71,
   "metadata": {},
   "outputs": [
    {
     "name": "stdout",
     "output_type": "stream",
     "text": [
      "Beggining epoch 1...\n",
      "5.00%: Loss 0.106597\n",
      "10.00%: Loss 0.091916\n",
      "15.00%: Loss 0.086115\n",
      "20.00%: Loss 0.088162\n",
      "25.00%: Loss 0.084691\n",
      "30.00%: Loss 0.076391\n",
      "35.00%: Loss 0.081614\n",
      "40.00%: Loss 0.074805\n",
      "45.00%: Loss 0.077759\n",
      "50.00%: Loss 0.073379\n",
      "55.00%: Loss 0.071738\n",
      "60.00%: Loss 0.073320\n",
      "65.00%: Loss 0.075069\n",
      "70.00%: Loss 0.069761\n",
      "75.00%: Loss 0.071246\n",
      "80.00%: Loss 0.070480\n",
      "85.00%: Loss 0.069958\n",
      "90.00%: Loss 0.070633\n",
      "95.00%: Loss 0.071543\n",
      "100.00%: Loss 0.062937\n"
     ]
    }
   ],
   "source": [
    "# Estamos treinando um classificador, logo se torna interessante utilizar uma função de CrossEntropyLoss\n",
    "loss_function = nn.CrossEntropyLoss(weight=torch.FloatTensor([1.0, 3.0]))\n",
    "\n",
    "# Nosso otimizador será um Adam, que receberá os parâmetros da rede e irá atualizá-los utilizando gradient descent\n",
    "# Aqui estamos utilizando um learning rate baixo, de 0.0001\n",
    "optimizer = torch.optim.Adam(resnet18.parameters(), lr=1e-4)\n",
    "\n",
    "training_loop(n_epochs=1, model=resnet18, loss_function=loss_function, optimizer=optimizer, print_every_percentage=5)"
   ]
  },
  {
   "cell_type": "code",
   "execution_count": 72,
   "metadata": {},
   "outputs": [
    {
     "name": "stdout",
     "output_type": "stream",
     "text": [
      "Testing the model: 10.00%\n",
      "Testing the model: 20.00%\n",
      "Testing the model: 30.00%\n",
      "Testing the model: 40.00%\n",
      "Testing the model: 50.00%\n",
      "Testing the model: 60.00%\n",
      "Testing the model: 70.00%\n",
      "Testing the model: 80.00%\n",
      "Testing the model: 90.00%\n",
      "Testing the model: 100.00%\n"
     ]
    },
    {
     "data": {
      "text/html": [
       "<div>\n",
       "<style scoped>\n",
       "    .dataframe tbody tr th:only-of-type {\n",
       "        vertical-align: middle;\n",
       "    }\n",
       "\n",
       "    .dataframe tbody tr th {\n",
       "        vertical-align: top;\n",
       "    }\n",
       "\n",
       "    .dataframe thead th {\n",
       "        text-align: right;\n",
       "    }\n",
       "</style>\n",
       "<table border=\"1\" class=\"dataframe\">\n",
       "  <thead>\n",
       "    <tr style=\"text-align: right;\">\n",
       "      <th></th>\n",
       "      <th>FAKE_predicted</th>\n",
       "      <th>REAL_predicted</th>\n",
       "      <th>Percentage</th>\n",
       "    </tr>\n",
       "  </thead>\n",
       "  <tbody>\n",
       "    <tr>\n",
       "      <th>FAKE</th>\n",
       "      <td>170654</td>\n",
       "      <td>3552</td>\n",
       "      <td>97.96 %</td>\n",
       "    </tr>\n",
       "    <tr>\n",
       "      <th>REAL</th>\n",
       "      <td>1562</td>\n",
       "      <td>34785</td>\n",
       "      <td>95.7 %</td>\n",
       "    </tr>\n",
       "    <tr>\n",
       "      <th>Percentage</th>\n",
       "      <td>99.09 %</td>\n",
       "      <td>90.73 %</td>\n",
       "      <td>97.57 %</td>\n",
       "    </tr>\n",
       "  </tbody>\n",
       "</table>\n",
       "</div>"
      ],
      "text/plain": [
       "           FAKE_predicted REAL_predicted Percentage\n",
       "FAKE               170654           3552    97.96 %\n",
       "REAL                 1562          34785     95.7 %\n",
       "Percentage        99.09 %        90.73 %    97.57 %"
      ]
     },
     "execution_count": 72,
     "metadata": {},
     "output_type": "execute_result"
    }
   ],
   "source": [
    "all_pred, all_labels = eval_loop(resnet18)\n",
    "c_mat = createDataFrame_conf_matrix(all_pred, all_labels)\n",
    "c_mat"
   ]
  },
  {
   "cell_type": "code",
   "execution_count": 73,
   "metadata": {},
   "outputs": [],
   "source": [
    "torch.save(resnet18.state_dict(), './Saved Models/resnet18_halffull_color_F97_R95_A97.pt')"
   ]
  },
  {
   "cell_type": "code",
   "execution_count": 74,
   "metadata": {},
   "outputs": [
    {
     "name": "stdout",
     "output_type": "stream",
     "text": [
      "Beggining epoch 1...\n",
      "5.00%: Loss 0.053406\n",
      "10.00%: Loss 0.054004\n",
      "15.00%: Loss 0.051927\n",
      "20.00%: Loss 0.056023\n",
      "25.00%: Loss 0.049634\n",
      "30.00%: Loss 0.048482\n",
      "35.00%: Loss 0.048196\n",
      "40.00%: Loss 0.049374\n",
      "45.00%: Loss 0.046691\n",
      "50.00%: Loss 0.048872\n",
      "55.00%: Loss 0.048850\n",
      "60.00%: Loss 0.047593\n",
      "65.00%: Loss 0.046972\n",
      "70.00%: Loss 0.050870\n",
      "75.00%: Loss 0.049069\n",
      "80.00%: Loss 0.048399\n",
      "85.00%: Loss 0.046133\n",
      "90.00%: Loss 0.048306\n",
      "95.00%: Loss 0.050936\n",
      "100.00%: Loss 0.042796\n"
     ]
    }
   ],
   "source": [
    "# Estamos treinando um classificador, logo se torna interessante utilizar uma função de CrossEntropyLoss\n",
    "loss_function = nn.CrossEntropyLoss(weight=torch.FloatTensor([1.0, 3.0]))\n",
    "\n",
    "# Nosso otimizador será um Adam, que receberá os parâmetros da rede e irá atualizá-los utilizando gradient descent\n",
    "# Aqui estamos utilizando um learning rate baixo, de 0.0001\n",
    "optimizer = torch.optim.Adam(resnet18.parameters(), lr=1e-5)\n",
    "\n",
    "training_loop(n_epochs=1, model=resnet18, loss_function=loss_function, optimizer=optimizer, print_every_percentage=5)"
   ]
  },
  {
   "cell_type": "code",
   "execution_count": 75,
   "metadata": {},
   "outputs": [
    {
     "name": "stdout",
     "output_type": "stream",
     "text": [
      "Testing the model: 10.00%\n",
      "Testing the model: 20.00%\n",
      "Testing the model: 30.00%\n",
      "Testing the model: 40.00%\n",
      "Testing the model: 50.00%\n",
      "Testing the model: 60.00%\n",
      "Testing the model: 70.00%\n",
      "Testing the model: 80.00%\n",
      "Testing the model: 90.00%\n",
      "Testing the model: 100.00%\n"
     ]
    },
    {
     "data": {
      "text/html": [
       "<div>\n",
       "<style scoped>\n",
       "    .dataframe tbody tr th:only-of-type {\n",
       "        vertical-align: middle;\n",
       "    }\n",
       "\n",
       "    .dataframe tbody tr th {\n",
       "        vertical-align: top;\n",
       "    }\n",
       "\n",
       "    .dataframe thead th {\n",
       "        text-align: right;\n",
       "    }\n",
       "</style>\n",
       "<table border=\"1\" class=\"dataframe\">\n",
       "  <thead>\n",
       "    <tr style=\"text-align: right;\">\n",
       "      <th></th>\n",
       "      <th>FAKE_predicted</th>\n",
       "      <th>REAL_predicted</th>\n",
       "      <th>Percentage</th>\n",
       "    </tr>\n",
       "  </thead>\n",
       "  <tbody>\n",
       "    <tr>\n",
       "      <th>FAKE</th>\n",
       "      <td>171028</td>\n",
       "      <td>3178</td>\n",
       "      <td>98.18 %</td>\n",
       "    </tr>\n",
       "    <tr>\n",
       "      <th>REAL</th>\n",
       "      <td>1466</td>\n",
       "      <td>34881</td>\n",
       "      <td>95.97 %</td>\n",
       "    </tr>\n",
       "    <tr>\n",
       "      <th>Percentage</th>\n",
       "      <td>99.15 %</td>\n",
       "      <td>91.65 %</td>\n",
       "      <td>97.79 %</td>\n",
       "    </tr>\n",
       "  </tbody>\n",
       "</table>\n",
       "</div>"
      ],
      "text/plain": [
       "           FAKE_predicted REAL_predicted Percentage\n",
       "FAKE               171028           3178    98.18 %\n",
       "REAL                 1466          34881    95.97 %\n",
       "Percentage        99.15 %        91.65 %    97.79 %"
      ]
     },
     "execution_count": 75,
     "metadata": {},
     "output_type": "execute_result"
    }
   ],
   "source": [
    "all_pred, all_labels = eval_loop(resnet18)\n",
    "c_mat = createDataFrame_conf_matrix(all_pred, all_labels)\n",
    "c_mat"
   ]
  },
  {
   "cell_type": "code",
   "execution_count": 76,
   "metadata": {},
   "outputs": [],
   "source": [
    "torch.save(resnet18.state_dict(), './Saved Models/resnet18_halffull_color_F98_R96_A98.pt')"
   ]
  },
  {
   "cell_type": "markdown",
   "metadata": {},
   "source": [
    "# ----------------------------------"
   ]
  },
  {
   "cell_type": "code",
   "execution_count": 25,
   "metadata": {},
   "outputs": [
    {
     "name": "stdout",
     "output_type": "stream",
     "text": [
      "Beggining epoch 1...\n"
     ]
    },
    {
     "ename": "RuntimeError",
     "evalue": "invalid argument 0: Sizes of tensors must match except in dimension 0. Got 273 and 270 in dimension 2 at C:\\w\\1\\s\\tmp_conda_3.7_100118\\conda\\conda-bld\\pytorch_1579082551706\\work\\aten\\src\\TH/generic/THTensor.cpp:612",
     "output_type": "error",
     "traceback": [
      "\u001b[1;31m---------------------------------------------------------------------------\u001b[0m",
      "\u001b[1;31mRuntimeError\u001b[0m                              Traceback (most recent call last)",
      "\u001b[1;32m<ipython-input-25-095aa2584867>\u001b[0m in \u001b[0;36m<module>\u001b[1;34m\u001b[0m\n\u001b[0;32m      6\u001b[0m \u001b[0moptimizer\u001b[0m \u001b[1;33m=\u001b[0m \u001b[0mtorch\u001b[0m\u001b[1;33m.\u001b[0m\u001b[0moptim\u001b[0m\u001b[1;33m.\u001b[0m\u001b[0mAdam\u001b[0m\u001b[1;33m(\u001b[0m\u001b[0mresnet18\u001b[0m\u001b[1;33m.\u001b[0m\u001b[0mparameters\u001b[0m\u001b[1;33m(\u001b[0m\u001b[1;33m)\u001b[0m\u001b[1;33m,\u001b[0m \u001b[0mlr\u001b[0m\u001b[1;33m=\u001b[0m\u001b[1;36m1e-3\u001b[0m\u001b[1;33m)\u001b[0m\u001b[1;33m\u001b[0m\u001b[1;33m\u001b[0m\u001b[0m\n\u001b[0;32m      7\u001b[0m \u001b[1;33m\u001b[0m\u001b[0m\n\u001b[1;32m----> 8\u001b[1;33m \u001b[0mtraining_loop\u001b[0m\u001b[1;33m(\u001b[0m\u001b[0mn_epochs\u001b[0m\u001b[1;33m=\u001b[0m\u001b[1;36m1\u001b[0m\u001b[1;33m,\u001b[0m \u001b[0mmodel\u001b[0m\u001b[1;33m=\u001b[0m\u001b[0mresnet18\u001b[0m\u001b[1;33m,\u001b[0m \u001b[0mloss_function\u001b[0m\u001b[1;33m=\u001b[0m\u001b[0mloss_function\u001b[0m\u001b[1;33m,\u001b[0m \u001b[0moptimizer\u001b[0m\u001b[1;33m=\u001b[0m\u001b[0moptimizer\u001b[0m\u001b[1;33m,\u001b[0m \u001b[0mprint_every_percentage\u001b[0m\u001b[1;33m=\u001b[0m\u001b[1;36m5\u001b[0m\u001b[1;33m)\u001b[0m\u001b[1;33m\u001b[0m\u001b[1;33m\u001b[0m\u001b[0m\n\u001b[0m",
      "\u001b[1;32m<ipython-input-22-6e5c122e7d35>\u001b[0m in \u001b[0;36mtraining_loop\u001b[1;34m(n_epochs, model, loss_function, optimizer, print_every_percentage)\u001b[0m\n\u001b[0;32m      9\u001b[0m         \u001b[0miteration\u001b[0m \u001b[1;33m=\u001b[0m \u001b[1;36m0\u001b[0m\u001b[1;33m\u001b[0m\u001b[1;33m\u001b[0m\u001b[0m\n\u001b[0;32m     10\u001b[0m         \u001b[0mprint\u001b[0m\u001b[1;33m(\u001b[0m\u001b[1;34m\"Beggining epoch {}...\"\u001b[0m\u001b[1;33m.\u001b[0m\u001b[0mformat\u001b[0m\u001b[1;33m(\u001b[0m\u001b[0mepoch\u001b[0m\u001b[1;33m+\u001b[0m\u001b[1;36m1\u001b[0m\u001b[1;33m)\u001b[0m\u001b[1;33m)\u001b[0m\u001b[1;33m\u001b[0m\u001b[1;33m\u001b[0m\u001b[0m\n\u001b[1;32m---> 11\u001b[1;33m         \u001b[1;32mfor\u001b[0m \u001b[0mimages\u001b[0m\u001b[1;33m,\u001b[0m \u001b[0mlabels\u001b[0m \u001b[1;32min\u001b[0m \u001b[0mtrain_dataloader\u001b[0m\u001b[1;33m:\u001b[0m\u001b[1;33m\u001b[0m\u001b[1;33m\u001b[0m\u001b[0m\n\u001b[0m\u001b[0;32m     12\u001b[0m \u001b[1;33m\u001b[0m\u001b[0m\n\u001b[0;32m     13\u001b[0m             \u001b[0mimages\u001b[0m \u001b[1;33m=\u001b[0m \u001b[0mimages\u001b[0m\u001b[1;33m.\u001b[0m\u001b[0mto\u001b[0m\u001b[1;33m(\u001b[0m\u001b[0mdevice\u001b[0m\u001b[1;33m)\u001b[0m\u001b[1;33m\u001b[0m\u001b[1;33m\u001b[0m\u001b[0m\n",
      "\u001b[1;32m~\\Anaconda3\\envs\\PytorchML\\lib\\site-packages\\torch\\utils\\data\\dataloader.py\u001b[0m in \u001b[0;36m__next__\u001b[1;34m(self)\u001b[0m\n\u001b[0;32m    343\u001b[0m \u001b[1;33m\u001b[0m\u001b[0m\n\u001b[0;32m    344\u001b[0m     \u001b[1;32mdef\u001b[0m \u001b[0m__next__\u001b[0m\u001b[1;33m(\u001b[0m\u001b[0mself\u001b[0m\u001b[1;33m)\u001b[0m\u001b[1;33m:\u001b[0m\u001b[1;33m\u001b[0m\u001b[1;33m\u001b[0m\u001b[0m\n\u001b[1;32m--> 345\u001b[1;33m         \u001b[0mdata\u001b[0m \u001b[1;33m=\u001b[0m \u001b[0mself\u001b[0m\u001b[1;33m.\u001b[0m\u001b[0m_next_data\u001b[0m\u001b[1;33m(\u001b[0m\u001b[1;33m)\u001b[0m\u001b[1;33m\u001b[0m\u001b[1;33m\u001b[0m\u001b[0m\n\u001b[0m\u001b[0;32m    346\u001b[0m         \u001b[0mself\u001b[0m\u001b[1;33m.\u001b[0m\u001b[0m_num_yielded\u001b[0m \u001b[1;33m+=\u001b[0m \u001b[1;36m1\u001b[0m\u001b[1;33m\u001b[0m\u001b[1;33m\u001b[0m\u001b[0m\n\u001b[0;32m    347\u001b[0m         \u001b[1;32mif\u001b[0m \u001b[0mself\u001b[0m\u001b[1;33m.\u001b[0m\u001b[0m_dataset_kind\u001b[0m \u001b[1;33m==\u001b[0m \u001b[0m_DatasetKind\u001b[0m\u001b[1;33m.\u001b[0m\u001b[0mIterable\u001b[0m \u001b[1;32mand\u001b[0m\u001b[0;31m \u001b[0m\u001b[0;31m\\\u001b[0m\u001b[1;33m\u001b[0m\u001b[1;33m\u001b[0m\u001b[0m\n",
      "\u001b[1;32m~\\Anaconda3\\envs\\PytorchML\\lib\\site-packages\\torch\\utils\\data\\dataloader.py\u001b[0m in \u001b[0;36m_next_data\u001b[1;34m(self)\u001b[0m\n\u001b[0;32m    383\u001b[0m     \u001b[1;32mdef\u001b[0m \u001b[0m_next_data\u001b[0m\u001b[1;33m(\u001b[0m\u001b[0mself\u001b[0m\u001b[1;33m)\u001b[0m\u001b[1;33m:\u001b[0m\u001b[1;33m\u001b[0m\u001b[1;33m\u001b[0m\u001b[0m\n\u001b[0;32m    384\u001b[0m         \u001b[0mindex\u001b[0m \u001b[1;33m=\u001b[0m \u001b[0mself\u001b[0m\u001b[1;33m.\u001b[0m\u001b[0m_next_index\u001b[0m\u001b[1;33m(\u001b[0m\u001b[1;33m)\u001b[0m  \u001b[1;31m# may raise StopIteration\u001b[0m\u001b[1;33m\u001b[0m\u001b[1;33m\u001b[0m\u001b[0m\n\u001b[1;32m--> 385\u001b[1;33m         \u001b[0mdata\u001b[0m \u001b[1;33m=\u001b[0m \u001b[0mself\u001b[0m\u001b[1;33m.\u001b[0m\u001b[0m_dataset_fetcher\u001b[0m\u001b[1;33m.\u001b[0m\u001b[0mfetch\u001b[0m\u001b[1;33m(\u001b[0m\u001b[0mindex\u001b[0m\u001b[1;33m)\u001b[0m  \u001b[1;31m# may raise StopIteration\u001b[0m\u001b[1;33m\u001b[0m\u001b[1;33m\u001b[0m\u001b[0m\n\u001b[0m\u001b[0;32m    386\u001b[0m         \u001b[1;32mif\u001b[0m \u001b[0mself\u001b[0m\u001b[1;33m.\u001b[0m\u001b[0m_pin_memory\u001b[0m\u001b[1;33m:\u001b[0m\u001b[1;33m\u001b[0m\u001b[1;33m\u001b[0m\u001b[0m\n\u001b[0;32m    387\u001b[0m             \u001b[0mdata\u001b[0m \u001b[1;33m=\u001b[0m \u001b[0m_utils\u001b[0m\u001b[1;33m.\u001b[0m\u001b[0mpin_memory\u001b[0m\u001b[1;33m.\u001b[0m\u001b[0mpin_memory\u001b[0m\u001b[1;33m(\u001b[0m\u001b[0mdata\u001b[0m\u001b[1;33m)\u001b[0m\u001b[1;33m\u001b[0m\u001b[1;33m\u001b[0m\u001b[0m\n",
      "\u001b[1;32m~\\Anaconda3\\envs\\PytorchML\\lib\\site-packages\\torch\\utils\\data\\_utils\\fetch.py\u001b[0m in \u001b[0;36mfetch\u001b[1;34m(self, possibly_batched_index)\u001b[0m\n\u001b[0;32m     45\u001b[0m         \u001b[1;32melse\u001b[0m\u001b[1;33m:\u001b[0m\u001b[1;33m\u001b[0m\u001b[1;33m\u001b[0m\u001b[0m\n\u001b[0;32m     46\u001b[0m             \u001b[0mdata\u001b[0m \u001b[1;33m=\u001b[0m \u001b[0mself\u001b[0m\u001b[1;33m.\u001b[0m\u001b[0mdataset\u001b[0m\u001b[1;33m[\u001b[0m\u001b[0mpossibly_batched_index\u001b[0m\u001b[1;33m]\u001b[0m\u001b[1;33m\u001b[0m\u001b[1;33m\u001b[0m\u001b[0m\n\u001b[1;32m---> 47\u001b[1;33m         \u001b[1;32mreturn\u001b[0m \u001b[0mself\u001b[0m\u001b[1;33m.\u001b[0m\u001b[0mcollate_fn\u001b[0m\u001b[1;33m(\u001b[0m\u001b[0mdata\u001b[0m\u001b[1;33m)\u001b[0m\u001b[1;33m\u001b[0m\u001b[1;33m\u001b[0m\u001b[0m\n\u001b[0m",
      "\u001b[1;32m~\\Anaconda3\\envs\\PytorchML\\lib\\site-packages\\torch\\utils\\data\\_utils\\collate.py\u001b[0m in \u001b[0;36mdefault_collate\u001b[1;34m(batch)\u001b[0m\n\u001b[0;32m     77\u001b[0m     \u001b[1;32melif\u001b[0m \u001b[0misinstance\u001b[0m\u001b[1;33m(\u001b[0m\u001b[0melem\u001b[0m\u001b[1;33m,\u001b[0m \u001b[0mcontainer_abcs\u001b[0m\u001b[1;33m.\u001b[0m\u001b[0mSequence\u001b[0m\u001b[1;33m)\u001b[0m\u001b[1;33m:\u001b[0m\u001b[1;33m\u001b[0m\u001b[1;33m\u001b[0m\u001b[0m\n\u001b[0;32m     78\u001b[0m         \u001b[0mtransposed\u001b[0m \u001b[1;33m=\u001b[0m \u001b[0mzip\u001b[0m\u001b[1;33m(\u001b[0m\u001b[1;33m*\u001b[0m\u001b[0mbatch\u001b[0m\u001b[1;33m)\u001b[0m\u001b[1;33m\u001b[0m\u001b[1;33m\u001b[0m\u001b[0m\n\u001b[1;32m---> 79\u001b[1;33m         \u001b[1;32mreturn\u001b[0m \u001b[1;33m[\u001b[0m\u001b[0mdefault_collate\u001b[0m\u001b[1;33m(\u001b[0m\u001b[0msamples\u001b[0m\u001b[1;33m)\u001b[0m \u001b[1;32mfor\u001b[0m \u001b[0msamples\u001b[0m \u001b[1;32min\u001b[0m \u001b[0mtransposed\u001b[0m\u001b[1;33m]\u001b[0m\u001b[1;33m\u001b[0m\u001b[1;33m\u001b[0m\u001b[0m\n\u001b[0m\u001b[0;32m     80\u001b[0m \u001b[1;33m\u001b[0m\u001b[0m\n\u001b[0;32m     81\u001b[0m     \u001b[1;32mraise\u001b[0m \u001b[0mTypeError\u001b[0m\u001b[1;33m(\u001b[0m\u001b[0mdefault_collate_err_msg_format\u001b[0m\u001b[1;33m.\u001b[0m\u001b[0mformat\u001b[0m\u001b[1;33m(\u001b[0m\u001b[0melem_type\u001b[0m\u001b[1;33m)\u001b[0m\u001b[1;33m)\u001b[0m\u001b[1;33m\u001b[0m\u001b[1;33m\u001b[0m\u001b[0m\n",
      "\u001b[1;32m~\\Anaconda3\\envs\\PytorchML\\lib\\site-packages\\torch\\utils\\data\\_utils\\collate.py\u001b[0m in \u001b[0;36m<listcomp>\u001b[1;34m(.0)\u001b[0m\n\u001b[0;32m     77\u001b[0m     \u001b[1;32melif\u001b[0m \u001b[0misinstance\u001b[0m\u001b[1;33m(\u001b[0m\u001b[0melem\u001b[0m\u001b[1;33m,\u001b[0m \u001b[0mcontainer_abcs\u001b[0m\u001b[1;33m.\u001b[0m\u001b[0mSequence\u001b[0m\u001b[1;33m)\u001b[0m\u001b[1;33m:\u001b[0m\u001b[1;33m\u001b[0m\u001b[1;33m\u001b[0m\u001b[0m\n\u001b[0;32m     78\u001b[0m         \u001b[0mtransposed\u001b[0m \u001b[1;33m=\u001b[0m \u001b[0mzip\u001b[0m\u001b[1;33m(\u001b[0m\u001b[1;33m*\u001b[0m\u001b[0mbatch\u001b[0m\u001b[1;33m)\u001b[0m\u001b[1;33m\u001b[0m\u001b[1;33m\u001b[0m\u001b[0m\n\u001b[1;32m---> 79\u001b[1;33m         \u001b[1;32mreturn\u001b[0m \u001b[1;33m[\u001b[0m\u001b[0mdefault_collate\u001b[0m\u001b[1;33m(\u001b[0m\u001b[0msamples\u001b[0m\u001b[1;33m)\u001b[0m \u001b[1;32mfor\u001b[0m \u001b[0msamples\u001b[0m \u001b[1;32min\u001b[0m \u001b[0mtransposed\u001b[0m\u001b[1;33m]\u001b[0m\u001b[1;33m\u001b[0m\u001b[1;33m\u001b[0m\u001b[0m\n\u001b[0m\u001b[0;32m     80\u001b[0m \u001b[1;33m\u001b[0m\u001b[0m\n\u001b[0;32m     81\u001b[0m     \u001b[1;32mraise\u001b[0m \u001b[0mTypeError\u001b[0m\u001b[1;33m(\u001b[0m\u001b[0mdefault_collate_err_msg_format\u001b[0m\u001b[1;33m.\u001b[0m\u001b[0mformat\u001b[0m\u001b[1;33m(\u001b[0m\u001b[0melem_type\u001b[0m\u001b[1;33m)\u001b[0m\u001b[1;33m)\u001b[0m\u001b[1;33m\u001b[0m\u001b[1;33m\u001b[0m\u001b[0m\n",
      "\u001b[1;32m~\\Anaconda3\\envs\\PytorchML\\lib\\site-packages\\torch\\utils\\data\\_utils\\collate.py\u001b[0m in \u001b[0;36mdefault_collate\u001b[1;34m(batch)\u001b[0m\n\u001b[0;32m     53\u001b[0m             \u001b[0mstorage\u001b[0m \u001b[1;33m=\u001b[0m \u001b[0melem\u001b[0m\u001b[1;33m.\u001b[0m\u001b[0mstorage\u001b[0m\u001b[1;33m(\u001b[0m\u001b[1;33m)\u001b[0m\u001b[1;33m.\u001b[0m\u001b[0m_new_shared\u001b[0m\u001b[1;33m(\u001b[0m\u001b[0mnumel\u001b[0m\u001b[1;33m)\u001b[0m\u001b[1;33m\u001b[0m\u001b[1;33m\u001b[0m\u001b[0m\n\u001b[0;32m     54\u001b[0m             \u001b[0mout\u001b[0m \u001b[1;33m=\u001b[0m \u001b[0melem\u001b[0m\u001b[1;33m.\u001b[0m\u001b[0mnew\u001b[0m\u001b[1;33m(\u001b[0m\u001b[0mstorage\u001b[0m\u001b[1;33m)\u001b[0m\u001b[1;33m\u001b[0m\u001b[1;33m\u001b[0m\u001b[0m\n\u001b[1;32m---> 55\u001b[1;33m         \u001b[1;32mreturn\u001b[0m \u001b[0mtorch\u001b[0m\u001b[1;33m.\u001b[0m\u001b[0mstack\u001b[0m\u001b[1;33m(\u001b[0m\u001b[0mbatch\u001b[0m\u001b[1;33m,\u001b[0m \u001b[1;36m0\u001b[0m\u001b[1;33m,\u001b[0m \u001b[0mout\u001b[0m\u001b[1;33m=\u001b[0m\u001b[0mout\u001b[0m\u001b[1;33m)\u001b[0m\u001b[1;33m\u001b[0m\u001b[1;33m\u001b[0m\u001b[0m\n\u001b[0m\u001b[0;32m     56\u001b[0m     \u001b[1;32melif\u001b[0m \u001b[0melem_type\u001b[0m\u001b[1;33m.\u001b[0m\u001b[0m__module__\u001b[0m \u001b[1;33m==\u001b[0m \u001b[1;34m'numpy'\u001b[0m \u001b[1;32mand\u001b[0m \u001b[0melem_type\u001b[0m\u001b[1;33m.\u001b[0m\u001b[0m__name__\u001b[0m \u001b[1;33m!=\u001b[0m \u001b[1;34m'str_'\u001b[0m\u001b[0;31m \u001b[0m\u001b[0;31m\\\u001b[0m\u001b[1;33m\u001b[0m\u001b[1;33m\u001b[0m\u001b[0m\n\u001b[0;32m     57\u001b[0m             \u001b[1;32mand\u001b[0m \u001b[0melem_type\u001b[0m\u001b[1;33m.\u001b[0m\u001b[0m__name__\u001b[0m \u001b[1;33m!=\u001b[0m \u001b[1;34m'string_'\u001b[0m\u001b[1;33m:\u001b[0m\u001b[1;33m\u001b[0m\u001b[1;33m\u001b[0m\u001b[0m\n",
      "\u001b[1;31mRuntimeError\u001b[0m: invalid argument 0: Sizes of tensors must match except in dimension 0. Got 273 and 270 in dimension 2 at C:\\w\\1\\s\\tmp_conda_3.7_100118\\conda\\conda-bld\\pytorch_1579082551706\\work\\aten\\src\\TH/generic/THTensor.cpp:612"
     ]
    }
   ],
   "source": [
    "# Estamos treinando um classificador, logo se torna interessante utilizar uma função de CrossEntropyLoss\n",
    "loss_function = nn.CrossEntropyLoss()\n",
    "\n",
    "# Nosso otimizador será um Adam, que receberá os parâmetros da rede e irá atualizá-los utilizando gradient descent\n",
    "# Aqui estamos utilizando um learning rate baixo, de 0.0001\n",
    "optimizer = torch.optim.Adam(resnet18.parameters(), lr=1e-4)\n",
    "\n",
    "training_loop(n_epochs=1, model=resnet18, loss_function=loss_function, optimizer=optimizer, print_every_percentage=5)"
   ]
  },
  {
   "cell_type": "markdown",
   "metadata": {},
   "source": [
    "E testamos logo em seguida."
   ]
  },
  {
   "cell_type": "code",
   "execution_count": 33,
   "metadata": {},
   "outputs": [
    {
     "name": "stdout",
     "output_type": "stream",
     "text": [
      "Testing the model: 10.00%\n",
      "Testing the model: 20.00%\n",
      "Testing the model: 30.00%\n",
      "Testing the model: 40.00%\n",
      "Testing the model: 50.00%\n",
      "Testing the model: 60.00%\n",
      "Testing the model: 70.00%\n",
      "Testing the model: 80.00%\n",
      "Testing the model: 90.00%\n",
      "Testing the model: 100.00%\n"
     ]
    },
    {
     "data": {
      "text/html": [
       "<div>\n",
       "<style scoped>\n",
       "    .dataframe tbody tr th:only-of-type {\n",
       "        vertical-align: middle;\n",
       "    }\n",
       "\n",
       "    .dataframe tbody tr th {\n",
       "        vertical-align: top;\n",
       "    }\n",
       "\n",
       "    .dataframe thead th {\n",
       "        text-align: right;\n",
       "    }\n",
       "</style>\n",
       "<table border=\"1\" class=\"dataframe\">\n",
       "  <thead>\n",
       "    <tr style=\"text-align: right;\">\n",
       "      <th></th>\n",
       "      <th>FAKE_predicted</th>\n",
       "      <th>REAL_predicted</th>\n",
       "      <th>Percentage</th>\n",
       "    </tr>\n",
       "  </thead>\n",
       "  <tbody>\n",
       "    <tr>\n",
       "      <th>FAKE</th>\n",
       "      <td>184744</td>\n",
       "      <td>1157</td>\n",
       "      <td>99.38 %</td>\n",
       "    </tr>\n",
       "    <tr>\n",
       "      <th>REAL</th>\n",
       "      <td>8713</td>\n",
       "      <td>29117</td>\n",
       "      <td>76.97 %</td>\n",
       "    </tr>\n",
       "    <tr>\n",
       "      <th>Percentage</th>\n",
       "      <td>95.5 %</td>\n",
       "      <td>96.18 %</td>\n",
       "      <td>95.59 %</td>\n",
       "    </tr>\n",
       "  </tbody>\n",
       "</table>\n",
       "</div>"
      ],
      "text/plain": [
       "           FAKE_predicted REAL_predicted Percentage\n",
       "FAKE               184744           1157    99.38 %\n",
       "REAL                 8713          29117    76.97 %\n",
       "Percentage         95.5 %        96.18 %    95.59 %"
      ]
     },
     "execution_count": 33,
     "metadata": {},
     "output_type": "execute_result"
    }
   ],
   "source": [
    "all_pred, all_labels = eval_loop(resnet18)\n",
    "c_mat = createDataFrame_conf_matrix(all_pred, all_labels)\n",
    "c_mat"
   ]
  },
  {
   "cell_type": "markdown",
   "metadata": {},
   "source": [
    "Um resultado muito promissor! Vamos tentar aplicar um peso para o CrossEntropyLoss, haja vista que a classe de REAL está em menor quantidade, e treinar novamente."
   ]
  },
  {
   "cell_type": "code",
   "execution_count": 34,
   "metadata": {},
   "outputs": [
    {
     "name": "stdout",
     "output_type": "stream",
     "text": [
      "Beggining epoch 1...\n",
      "5.00%: Loss 0.093767\n",
      "10.00%: Loss 0.093944\n",
      "15.00%: Loss 0.086557\n",
      "20.00%: Loss 0.087338\n",
      "25.00%: Loss 0.090377\n",
      "30.00%: Loss 0.087286\n",
      "35.00%: Loss 0.089251\n",
      "40.00%: Loss 0.089318\n",
      "45.00%: Loss 0.088110\n",
      "50.00%: Loss 0.082529\n",
      "55.00%: Loss 0.087871\n",
      "60.00%: Loss 0.083471\n",
      "65.00%: Loss 0.080018\n",
      "70.00%: Loss 0.079691\n",
      "75.00%: Loss 0.088353\n",
      "80.00%: Loss 0.078769\n",
      "85.00%: Loss 0.082513\n",
      "90.00%: Loss 0.079553\n",
      "95.00%: Loss 0.081149\n",
      "100.00%: Loss 0.079227\n"
     ]
    }
   ],
   "source": [
    "# Estamos treinando um classificador, logo se torna interessante utilizar uma função de CrossEntropyLoss\n",
    "# Aplicamos um peso de 3x para a classe real, haja vista que está em uma proporção menor que a classe de deepfakes\n",
    "loss_function = nn.CrossEntropyLoss(weight=torch.FloatTensor([1.0, 3.0]))\n",
    "\n",
    "# Nosso otimizador será um Adam, que receberá os parâmetros da rede e irá atualizá-los utilizando gradient descent\n",
    "# Aqui estamos utilizando um learning rate baixo, de 0.0001\n",
    "optimizer = torch.optim.Adam(resnet18.parameters(), lr=1e-4)\n",
    "\n",
    "training_loop(n_epochs=1, model=resnet18, loss_function=loss_function, optimizer=optimizer, print_every_percentage=5)"
   ]
  },
  {
   "cell_type": "code",
   "execution_count": 35,
   "metadata": {},
   "outputs": [
    {
     "name": "stdout",
     "output_type": "stream",
     "text": [
      "Testing the model: 10.00%\n",
      "Testing the model: 20.00%\n",
      "Testing the model: 30.00%\n",
      "Testing the model: 40.00%\n",
      "Testing the model: 50.00%\n",
      "Testing the model: 60.00%\n",
      "Testing the model: 70.00%\n",
      "Testing the model: 80.00%\n",
      "Testing the model: 90.00%\n",
      "Testing the model: 100.00%\n"
     ]
    },
    {
     "data": {
      "text/html": [
       "<div>\n",
       "<style scoped>\n",
       "    .dataframe tbody tr th:only-of-type {\n",
       "        vertical-align: middle;\n",
       "    }\n",
       "\n",
       "    .dataframe tbody tr th {\n",
       "        vertical-align: top;\n",
       "    }\n",
       "\n",
       "    .dataframe thead th {\n",
       "        text-align: right;\n",
       "    }\n",
       "</style>\n",
       "<table border=\"1\" class=\"dataframe\">\n",
       "  <thead>\n",
       "    <tr style=\"text-align: right;\">\n",
       "      <th></th>\n",
       "      <th>FAKE_predicted</th>\n",
       "      <th>REAL_predicted</th>\n",
       "      <th>Percentage</th>\n",
       "    </tr>\n",
       "  </thead>\n",
       "  <tbody>\n",
       "    <tr>\n",
       "      <th>FAKE</th>\n",
       "      <td>177688</td>\n",
       "      <td>8213</td>\n",
       "      <td>95.58 %</td>\n",
       "    </tr>\n",
       "    <tr>\n",
       "      <th>REAL</th>\n",
       "      <td>1340</td>\n",
       "      <td>36490</td>\n",
       "      <td>96.46 %</td>\n",
       "    </tr>\n",
       "    <tr>\n",
       "      <th>Percentage</th>\n",
       "      <td>99.25 %</td>\n",
       "      <td>81.63 %</td>\n",
       "      <td>95.73 %</td>\n",
       "    </tr>\n",
       "  </tbody>\n",
       "</table>\n",
       "</div>"
      ],
      "text/plain": [
       "           FAKE_predicted REAL_predicted Percentage\n",
       "FAKE               177688           8213    95.58 %\n",
       "REAL                 1340          36490    96.46 %\n",
       "Percentage        99.25 %        81.63 %    95.73 %"
      ]
     },
     "execution_count": 35,
     "metadata": {},
     "output_type": "execute_result"
    }
   ],
   "source": [
    "all_pred, all_labels = eval_loop(resnet18)\n",
    "c_mat = createDataFrame_conf_matrix(all_pred, all_labels)\n",
    "c_mat"
   ]
  },
  {
   "cell_type": "markdown",
   "metadata": {},
   "source": [
    "Podemos trabalhar com esse resultado! Vamos salvar o modelo e seguir em frente com os próximos..."
   ]
  },
  {
   "cell_type": "code",
   "execution_count": 36,
   "metadata": {},
   "outputs": [],
   "source": [
    "torch.save(resnet18.state_dict(), './Saved Models/resnet18_halffull_unfreezed_F95_R96_A95.pt')"
   ]
  },
  {
   "cell_type": "markdown",
   "metadata": {},
   "source": [
    "### ResNet34\n",
    "A ResNet34 é um modelo mais poderoso. Talvez com ele consigamos resultados ainda melhores.\n",
    "\n",
    "Utilizaremos a mesma ideia de peso para as classes. Treinaremos por duas épocas e observaremos os resultados."
   ]
  },
  {
   "cell_type": "markdown",
   "metadata": {},
   "source": [
    "# ----------------------------------"
   ]
  },
  {
   "cell_type": "markdown",
   "metadata": {},
   "source": [
    "## Área de Testes destinada a ser apagada"
   ]
  },
  {
   "cell_type": "code",
   "execution_count": 79,
   "metadata": {},
   "outputs": [
    {
     "name": "stdout",
     "output_type": "stream",
     "text": [
      "Beggining epoch 1...\n",
      "5.00%: Loss 0.594381\n",
      "10.00%: Loss 0.491713\n",
      "15.00%: Loss 0.424850\n",
      "20.00%: Loss 0.388539\n",
      "25.00%: Loss 0.360551\n",
      "30.00%: Loss 0.335636\n",
      "35.00%: Loss 0.310390\n",
      "40.00%: Loss 0.297995\n",
      "45.00%: Loss 0.282681\n",
      "50.00%: Loss 0.276901\n",
      "55.00%: Loss 0.264633\n",
      "60.00%: Loss 0.259609\n",
      "65.00%: Loss 0.246190\n",
      "70.00%: Loss 0.237750\n",
      "75.00%: Loss 0.238806\n",
      "80.00%: Loss 0.227596\n",
      "85.00%: Loss 0.211784\n",
      "90.00%: Loss 0.214327\n",
      "95.00%: Loss 0.211083\n",
      "100.00%: Loss 0.213659\n"
     ]
    }
   ],
   "source": [
    "# Estamos treinando um classificador, logo se torna interessante utilizar uma função de CrossEntropyLoss\n",
    "loss_function = nn.CrossEntropyLoss(weight=torch.FloatTensor([1.0, 3.0]))\n",
    "\n",
    "# Nosso otimizador será um Adam, que receberá os parâmetros da rede e irá atualizá-los utilizando gradient descent\n",
    "# Aqui estamos utilizando um learning rate baixo, de 0.0001\n",
    "optimizer = torch.optim.Adam(resnet34.parameters(), lr=1e-3, weight_decay=1e-4)\n",
    "\n",
    "training_loop(n_epochs=1, model=resnet34, loss_function=loss_function, optimizer=optimizer, print_every_percentage=5)"
   ]
  },
  {
   "cell_type": "code",
   "execution_count": 80,
   "metadata": {},
   "outputs": [
    {
     "name": "stdout",
     "output_type": "stream",
     "text": [
      "Testing the model: 10.00%\n",
      "Testing the model: 20.00%\n",
      "Testing the model: 30.00%\n",
      "Testing the model: 40.00%\n",
      "Testing the model: 50.00%\n",
      "Testing the model: 60.00%\n",
      "Testing the model: 70.00%\n",
      "Testing the model: 80.00%\n",
      "Testing the model: 90.00%\n",
      "Testing the model: 100.00%\n"
     ]
    },
    {
     "data": {
      "text/html": [
       "<div>\n",
       "<style scoped>\n",
       "    .dataframe tbody tr th:only-of-type {\n",
       "        vertical-align: middle;\n",
       "    }\n",
       "\n",
       "    .dataframe tbody tr th {\n",
       "        vertical-align: top;\n",
       "    }\n",
       "\n",
       "    .dataframe thead th {\n",
       "        text-align: right;\n",
       "    }\n",
       "</style>\n",
       "<table border=\"1\" class=\"dataframe\">\n",
       "  <thead>\n",
       "    <tr style=\"text-align: right;\">\n",
       "      <th></th>\n",
       "      <th>FAKE_predicted</th>\n",
       "      <th>REAL_predicted</th>\n",
       "      <th>Percentage</th>\n",
       "    </tr>\n",
       "  </thead>\n",
       "  <tbody>\n",
       "    <tr>\n",
       "      <th>FAKE</th>\n",
       "      <td>158637</td>\n",
       "      <td>15569</td>\n",
       "      <td>91.06 %</td>\n",
       "    </tr>\n",
       "    <tr>\n",
       "      <th>REAL</th>\n",
       "      <td>3365</td>\n",
       "      <td>32982</td>\n",
       "      <td>90.74 %</td>\n",
       "    </tr>\n",
       "    <tr>\n",
       "      <th>Percentage</th>\n",
       "      <td>97.92 %</td>\n",
       "      <td>67.93 %</td>\n",
       "      <td>91.01 %</td>\n",
       "    </tr>\n",
       "  </tbody>\n",
       "</table>\n",
       "</div>"
      ],
      "text/plain": [
       "           FAKE_predicted REAL_predicted Percentage\n",
       "FAKE               158637          15569    91.06 %\n",
       "REAL                 3365          32982    90.74 %\n",
       "Percentage        97.92 %        67.93 %    91.01 %"
      ]
     },
     "execution_count": 80,
     "metadata": {},
     "output_type": "execute_result"
    }
   ],
   "source": [
    "all_pred, all_labels = eval_loop(resnet34)\n",
    "c_mat = createDataFrame_conf_matrix(all_pred, all_labels)\n",
    "c_mat"
   ]
  },
  {
   "cell_type": "markdown",
   "metadata": {},
   "source": [
    "# ----------------------------------"
   ]
  },
  {
   "cell_type": "code",
   "execution_count": 38,
   "metadata": {},
   "outputs": [
    {
     "name": "stdout",
     "output_type": "stream",
     "text": [
      "Beggining epoch 1...\n",
      "5.00%: Loss 0.440159\n",
      "10.00%: Loss 0.288499\n",
      "15.00%: Loss 0.237194\n",
      "20.00%: Loss 0.209553\n",
      "25.00%: Loss 0.199538\n",
      "30.00%: Loss 0.186732\n",
      "35.00%: Loss 0.169808\n",
      "40.00%: Loss 0.162565\n",
      "45.00%: Loss 0.153370\n",
      "50.00%: Loss 0.148006\n",
      "55.00%: Loss 0.144834\n",
      "60.00%: Loss 0.141061\n",
      "65.00%: Loss 0.128182\n",
      "70.00%: Loss 0.130182\n",
      "75.00%: Loss 0.125263\n",
      "80.00%: Loss 0.117076\n",
      "85.00%: Loss 0.118668\n",
      "90.00%: Loss 0.117679\n",
      "95.00%: Loss 0.114644\n",
      "100.00%: Loss 0.113955\n",
      "Beggining epoch 2...\n",
      "5.00%: Loss 0.093229\n",
      "10.00%: Loss 0.096515\n",
      "15.00%: Loss 0.096363\n",
      "20.00%: Loss 0.089828\n",
      "25.00%: Loss 0.092050\n",
      "30.00%: Loss 0.086455\n",
      "35.00%: Loss 0.092124\n",
      "40.00%: Loss 0.088517\n",
      "45.00%: Loss 0.089116\n",
      "50.00%: Loss 0.085718\n",
      "55.00%: Loss 0.088168\n",
      "60.00%: Loss 0.086104\n",
      "65.00%: Loss 0.082488\n",
      "70.00%: Loss 0.087470\n",
      "75.00%: Loss 0.085544\n",
      "80.00%: Loss 0.084171\n",
      "85.00%: Loss 0.080634\n",
      "90.00%: Loss 0.085485\n",
      "95.00%: Loss 0.081811\n",
      "100.00%: Loss 0.082267\n"
     ]
    }
   ],
   "source": [
    "# Estamos treinando um classificador, logo se torna interessante utilizar uma função de CrossEntropyLoss\n",
    "# Aplicamos um peso de 3x para a classe real, haja vista que está em uma proporção menor que a classe de deepfakes\n",
    "loss_function = nn.CrossEntropyLoss(weight=torch.FloatTensor([1.0, 3.0]))\n",
    "\n",
    "# Nosso otimizador será um Adam, que receberá os parâmetros da rede e irá atualizá-los utilizando gradient descent\n",
    "# Aqui estamos utilizando um learning rate baixo, de 0.0001\n",
    "optimizer = torch.optim.Adam(resnet34.parameters(), lr=1e-4)\n",
    "\n",
    "training_loop(n_epochs=2, model=resnet34, loss_function=loss_function, optimizer=optimizer, print_every_percentage=5)"
   ]
  },
  {
   "cell_type": "code",
   "execution_count": 39,
   "metadata": {},
   "outputs": [
    {
     "name": "stdout",
     "output_type": "stream",
     "text": [
      "Testing the model: 10.00%\n",
      "Testing the model: 20.00%\n",
      "Testing the model: 30.00%\n",
      "Testing the model: 40.00%\n",
      "Testing the model: 50.00%\n",
      "Testing the model: 60.00%\n",
      "Testing the model: 70.00%\n",
      "Testing the model: 80.00%\n",
      "Testing the model: 90.00%\n",
      "Testing the model: 100.00%\n"
     ]
    },
    {
     "data": {
      "text/html": [
       "<div>\n",
       "<style scoped>\n",
       "    .dataframe tbody tr th:only-of-type {\n",
       "        vertical-align: middle;\n",
       "    }\n",
       "\n",
       "    .dataframe tbody tr th {\n",
       "        vertical-align: top;\n",
       "    }\n",
       "\n",
       "    .dataframe thead th {\n",
       "        text-align: right;\n",
       "    }\n",
       "</style>\n",
       "<table border=\"1\" class=\"dataframe\">\n",
       "  <thead>\n",
       "    <tr style=\"text-align: right;\">\n",
       "      <th></th>\n",
       "      <th>FAKE_predicted</th>\n",
       "      <th>REAL_predicted</th>\n",
       "      <th>Percentage</th>\n",
       "    </tr>\n",
       "  </thead>\n",
       "  <tbody>\n",
       "    <tr>\n",
       "      <th>FAKE</th>\n",
       "      <td>184089</td>\n",
       "      <td>1812</td>\n",
       "      <td>99.03 %</td>\n",
       "    </tr>\n",
       "    <tr>\n",
       "      <th>REAL</th>\n",
       "      <td>4470</td>\n",
       "      <td>33360</td>\n",
       "      <td>88.18 %</td>\n",
       "    </tr>\n",
       "    <tr>\n",
       "      <th>Percentage</th>\n",
       "      <td>97.63 %</td>\n",
       "      <td>94.85 %</td>\n",
       "      <td>97.19 %</td>\n",
       "    </tr>\n",
       "  </tbody>\n",
       "</table>\n",
       "</div>"
      ],
      "text/plain": [
       "           FAKE_predicted REAL_predicted Percentage\n",
       "FAKE               184089           1812    99.03 %\n",
       "REAL                 4470          33360    88.18 %\n",
       "Percentage        97.63 %        94.85 %    97.19 %"
      ]
     },
     "execution_count": 39,
     "metadata": {},
     "output_type": "execute_result"
    }
   ],
   "source": [
    "all_pred, all_labels = eval_loop(resnet34)\n",
    "c_mat = createDataFrame_conf_matrix(all_pred, all_labels)\n",
    "c_mat"
   ]
  },
  {
   "cell_type": "markdown",
   "metadata": {},
   "source": [
    "Resultados interessantes! Mas precisamos aumentar nossa acurácia para a classe REAL, então vamos explorar um leve aumento nos pesos e treinar mais uma época."
   ]
  },
  {
   "cell_type": "code",
   "execution_count": 40,
   "metadata": {},
   "outputs": [
    {
     "name": "stdout",
     "output_type": "stream",
     "text": [
      "Beggining epoch 1...\n",
      "5.00%: Loss 0.066653\n",
      "10.00%: Loss 0.066332\n",
      "15.00%: Loss 0.062303\n",
      "20.00%: Loss 0.058956\n",
      "25.00%: Loss 0.062111\n",
      "30.00%: Loss 0.061672\n",
      "35.00%: Loss 0.063194\n",
      "40.00%: Loss 0.062489\n",
      "45.00%: Loss 0.061810\n",
      "50.00%: Loss 0.064501\n",
      "55.00%: Loss 0.063151\n",
      "60.00%: Loss 0.066256\n",
      "65.00%: Loss 0.060511\n",
      "70.00%: Loss 0.058998\n",
      "75.00%: Loss 0.063078\n",
      "80.00%: Loss 0.062131\n",
      "85.00%: Loss 0.066519\n",
      "90.00%: Loss 0.057544\n",
      "95.00%: Loss 0.064406\n",
      "100.00%: Loss 0.058245\n"
     ]
    }
   ],
   "source": [
    "# Estamos treinando um classificador, logo se torna interessante utilizar uma função de CrossEntropyLoss\n",
    "# Aplicamos um peso de 3x para a classe real, haja vista que está em uma proporção menor que a classe de deepfakes\n",
    "loss_function = nn.CrossEntropyLoss(weight=torch.FloatTensor([1.0, 3.5]))\n",
    "\n",
    "# Nosso otimizador será um Adam, que receberá os parâmetros da rede e irá atualizá-los utilizando gradient descent\n",
    "# Aqui estamos utilizando um learning rate baixo, de 0.0001\n",
    "optimizer = torch.optim.Adam(resnet34.parameters(), lr=0.9e-4)\n",
    "\n",
    "training_loop(n_epochs=1, model=resnet34, loss_function=loss_function, optimizer=optimizer, print_every_percentage=5)"
   ]
  },
  {
   "cell_type": "code",
   "execution_count": 41,
   "metadata": {},
   "outputs": [
    {
     "name": "stdout",
     "output_type": "stream",
     "text": [
      "Testing the model: 10.00%\n",
      "Testing the model: 20.00%\n",
      "Testing the model: 30.00%\n",
      "Testing the model: 40.00%\n",
      "Testing the model: 50.00%\n",
      "Testing the model: 60.00%\n",
      "Testing the model: 70.00%\n",
      "Testing the model: 80.00%\n",
      "Testing the model: 90.00%\n",
      "Testing the model: 100.00%\n"
     ]
    },
    {
     "data": {
      "text/html": [
       "<div>\n",
       "<style scoped>\n",
       "    .dataframe tbody tr th:only-of-type {\n",
       "        vertical-align: middle;\n",
       "    }\n",
       "\n",
       "    .dataframe tbody tr th {\n",
       "        vertical-align: top;\n",
       "    }\n",
       "\n",
       "    .dataframe thead th {\n",
       "        text-align: right;\n",
       "    }\n",
       "</style>\n",
       "<table border=\"1\" class=\"dataframe\">\n",
       "  <thead>\n",
       "    <tr style=\"text-align: right;\">\n",
       "      <th></th>\n",
       "      <th>FAKE_predicted</th>\n",
       "      <th>REAL_predicted</th>\n",
       "      <th>Percentage</th>\n",
       "    </tr>\n",
       "  </thead>\n",
       "  <tbody>\n",
       "    <tr>\n",
       "      <th>FAKE</th>\n",
       "      <td>181639</td>\n",
       "      <td>4262</td>\n",
       "      <td>97.71 %</td>\n",
       "    </tr>\n",
       "    <tr>\n",
       "      <th>REAL</th>\n",
       "      <td>1590</td>\n",
       "      <td>36240</td>\n",
       "      <td>95.8 %</td>\n",
       "    </tr>\n",
       "    <tr>\n",
       "      <th>Percentage</th>\n",
       "      <td>99.13 %</td>\n",
       "      <td>89.48 %</td>\n",
       "      <td>97.38 %</td>\n",
       "    </tr>\n",
       "  </tbody>\n",
       "</table>\n",
       "</div>"
      ],
      "text/plain": [
       "           FAKE_predicted REAL_predicted Percentage\n",
       "FAKE               181639           4262    97.71 %\n",
       "REAL                 1590          36240     95.8 %\n",
       "Percentage        99.13 %        89.48 %    97.38 %"
      ]
     },
     "execution_count": 41,
     "metadata": {},
     "output_type": "execute_result"
    }
   ],
   "source": [
    "all_pred, all_labels = eval_loop(resnet34)\n",
    "c_mat = createDataFrame_conf_matrix(all_pred, all_labels)\n",
    "c_mat"
   ]
  },
  {
   "cell_type": "markdown",
   "metadata": {},
   "source": [
    "Tivemos um bom ganho de performance do modelo. Infelizmente aumentamos um pouco nosso número de Falsos Positivos (Julgou como REAL mas era FALSO), mas isso não é um problema muito agravante."
   ]
  },
  {
   "cell_type": "code",
   "execution_count": 42,
   "metadata": {},
   "outputs": [],
   "source": [
    "torch.save(resnet34.state_dict(), './Saved Models/resnet34_halffull_unfreezed_F97_R96_A97.pt')"
   ]
  },
  {
   "cell_type": "markdown",
   "metadata": {},
   "source": [
    "### ResNet50\n",
    "A ResNet50 é um modelo ainda mais poderoso. Vamos treinar e verificar seus resultados.\n",
    "\n",
    "Utilizaremos a mesma ideia de peso para as classes. Treinaremos por duas épocas e observaremos os resultados."
   ]
  },
  {
   "cell_type": "code",
   "execution_count": 10,
   "metadata": {},
   "outputs": [
    {
     "name": "stdout",
     "output_type": "stream",
     "text": [
      "Beggining epoch 1...\n",
      "5.00%: Loss 0.438482\n",
      "10.00%: Loss 0.297747\n",
      "15.00%: Loss 0.252718\n",
      "20.00%: Loss 0.227764\n",
      "25.00%: Loss 0.207954\n",
      "30.00%: Loss 0.196321\n",
      "35.00%: Loss 0.184882\n",
      "40.00%: Loss 0.173546\n",
      "45.00%: Loss 0.170012\n",
      "50.00%: Loss 0.162336\n",
      "55.00%: Loss 0.158344\n",
      "60.00%: Loss 0.151577\n",
      "65.00%: Loss 0.146573\n",
      "70.00%: Loss 0.138863\n",
      "75.00%: Loss 0.135943\n",
      "80.00%: Loss 0.132139\n",
      "85.00%: Loss 0.137083\n",
      "90.00%: Loss 0.137602\n",
      "95.00%: Loss 0.125371\n",
      "100.00%: Loss 0.119133\n",
      "Beggining epoch 2...\n",
      "5.00%: Loss 0.104883\n",
      "10.00%: Loss 0.108923\n",
      "15.00%: Loss 0.102927\n",
      "20.00%: Loss 0.100406\n",
      "25.00%: Loss 0.098875\n",
      "30.00%: Loss 0.101337\n",
      "35.00%: Loss 0.098233\n",
      "40.00%: Loss 0.102248\n",
      "45.00%: Loss 0.092604\n",
      "50.00%: Loss 0.096939\n",
      "55.00%: Loss 0.096372\n",
      "60.00%: Loss 0.093764\n",
      "65.00%: Loss 0.095546\n",
      "70.00%: Loss 0.096299\n",
      "75.00%: Loss 0.098360\n",
      "80.00%: Loss 0.089529\n",
      "85.00%: Loss 0.094565\n",
      "90.00%: Loss 0.091863\n",
      "95.00%: Loss 0.095335\n",
      "100.00%: Loss 0.088366\n"
     ]
    }
   ],
   "source": [
    "# Estamos treinando um classificador, logo se torna interessante utilizar uma função de CrossEntropyLoss\n",
    "# Aplicamos um peso de 3x para a classe real, haja vista que está em uma proporção menor que a classe de deepfakes\n",
    "loss_function = nn.CrossEntropyLoss(weight=torch.FloatTensor([1.0, 3.0]))\n",
    "\n",
    "# Nosso otimizador será um Adam, que receberá os parâmetros da rede e irá atualizá-los utilizando gradient descent\n",
    "# Aqui estamos utilizando um learning rate baixo, de 0.0001\n",
    "optimizer = torch.optim.Adam(resnet50.parameters(), lr=1e-4)\n",
    "\n",
    "training_loop(n_epochs=2, model=resnet50, loss_function=loss_function, optimizer=optimizer, print_every_percentage=5)"
   ]
  },
  {
   "cell_type": "code",
   "execution_count": 11,
   "metadata": {},
   "outputs": [
    {
     "name": "stdout",
     "output_type": "stream",
     "text": [
      "Testing the model: 10.00%\n",
      "Testing the model: 20.00%\n",
      "Testing the model: 30.00%\n",
      "Testing the model: 40.00%\n",
      "Testing the model: 50.00%\n",
      "Testing the model: 60.00%\n",
      "Testing the model: 70.00%\n",
      "Testing the model: 80.00%\n",
      "Testing the model: 90.00%\n",
      "Testing the model: 100.00%\n"
     ]
    },
    {
     "data": {
      "text/html": [
       "<div>\n",
       "<style scoped>\n",
       "    .dataframe tbody tr th:only-of-type {\n",
       "        vertical-align: middle;\n",
       "    }\n",
       "\n",
       "    .dataframe tbody tr th {\n",
       "        vertical-align: top;\n",
       "    }\n",
       "\n",
       "    .dataframe thead th {\n",
       "        text-align: right;\n",
       "    }\n",
       "</style>\n",
       "<table border=\"1\" class=\"dataframe\">\n",
       "  <thead>\n",
       "    <tr style=\"text-align: right;\">\n",
       "      <th></th>\n",
       "      <th>FAKE_predicted</th>\n",
       "      <th>REAL_predicted</th>\n",
       "      <th>Percentage</th>\n",
       "    </tr>\n",
       "  </thead>\n",
       "  <tbody>\n",
       "    <tr>\n",
       "      <th>FAKE</th>\n",
       "      <td>175270</td>\n",
       "      <td>10503</td>\n",
       "      <td>94.35 %</td>\n",
       "    </tr>\n",
       "    <tr>\n",
       "      <th>REAL</th>\n",
       "      <td>1482</td>\n",
       "      <td>36476</td>\n",
       "      <td>96.1 %</td>\n",
       "    </tr>\n",
       "    <tr>\n",
       "      <th>Percentage</th>\n",
       "      <td>99.16 %</td>\n",
       "      <td>77.64 %</td>\n",
       "      <td>94.64 %</td>\n",
       "    </tr>\n",
       "  </tbody>\n",
       "</table>\n",
       "</div>"
      ],
      "text/plain": [
       "           FAKE_predicted REAL_predicted Percentage\n",
       "FAKE               175270          10503    94.35 %\n",
       "REAL                 1482          36476     96.1 %\n",
       "Percentage        99.16 %        77.64 %    94.64 %"
      ]
     },
     "execution_count": 11,
     "metadata": {},
     "output_type": "execute_result"
    }
   ],
   "source": [
    "all_pred, all_labels = eval_loop(resnet50)\n",
    "c_mat = createDataFrame_conf_matrix(all_pred, all_labels)\n",
    "c_mat"
   ]
  },
  {
   "cell_type": "markdown",
   "metadata": {},
   "source": [
    "Ótimos resultados também, mas como todos, precisamos melhorar um pouco nossa acurácia pros reais."
   ]
  },
  {
   "cell_type": "code",
   "execution_count": 12,
   "metadata": {},
   "outputs": [
    {
     "name": "stdout",
     "output_type": "stream",
     "text": [
      "Beggining epoch 1...\n",
      "5.00%: Loss 0.065003\n",
      "10.00%: Loss 0.065076\n",
      "15.00%: Loss 0.065211\n",
      "20.00%: Loss 0.066669\n",
      "25.00%: Loss 0.062792\n",
      "30.00%: Loss 0.063721\n",
      "35.00%: Loss 0.063432\n",
      "40.00%: Loss 0.061388\n",
      "45.00%: Loss 0.063075\n",
      "50.00%: Loss 0.060507\n",
      "55.00%: Loss 0.061614\n",
      "60.00%: Loss 0.066384\n",
      "65.00%: Loss 0.062437\n",
      "70.00%: Loss 0.066881\n",
      "75.00%: Loss 0.062254\n",
      "80.00%: Loss 0.062497\n",
      "85.00%: Loss 0.063000\n",
      "90.00%: Loss 0.060343\n",
      "95.00%: Loss 0.063869\n",
      "100.00%: Loss 0.062310\n"
     ]
    }
   ],
   "source": [
    "# Estamos treinando um classificador, logo se torna interessante utilizar uma função de CrossEntropyLoss\n",
    "# Aplicamos um peso de 3x para a classe real, haja vista que está em uma proporção menor que a classe de deepfakes\n",
    "loss_function = nn.CrossEntropyLoss(weight=torch.FloatTensor([1.0, 2.7]))\n",
    "\n",
    "# Nosso otimizador será um Adam, que receberá os parâmetros da rede e irá atualizá-los utilizando gradient descent\n",
    "# Aqui estamos utilizando um learning rate baixo, de 0.0001\n",
    "optimizer = torch.optim.Adam(resnet50.parameters(), lr=0.8e-4)\n",
    "\n",
    "training_loop(n_epochs=1, model=resnet50, loss_function=loss_function, optimizer=optimizer, print_every_percentage=5)"
   ]
  },
  {
   "cell_type": "code",
   "execution_count": 13,
   "metadata": {},
   "outputs": [
    {
     "name": "stdout",
     "output_type": "stream",
     "text": [
      "Testing the model: 10.00%\n",
      "Testing the model: 20.00%\n",
      "Testing the model: 30.00%\n",
      "Testing the model: 40.00%\n",
      "Testing the model: 50.00%\n",
      "Testing the model: 60.00%\n",
      "Testing the model: 70.00%\n",
      "Testing the model: 80.00%\n",
      "Testing the model: 90.00%\n",
      "Testing the model: 100.00%\n"
     ]
    },
    {
     "data": {
      "text/html": [
       "<div>\n",
       "<style scoped>\n",
       "    .dataframe tbody tr th:only-of-type {\n",
       "        vertical-align: middle;\n",
       "    }\n",
       "\n",
       "    .dataframe tbody tr th {\n",
       "        vertical-align: top;\n",
       "    }\n",
       "\n",
       "    .dataframe thead th {\n",
       "        text-align: right;\n",
       "    }\n",
       "</style>\n",
       "<table border=\"1\" class=\"dataframe\">\n",
       "  <thead>\n",
       "    <tr style=\"text-align: right;\">\n",
       "      <th></th>\n",
       "      <th>FAKE_predicted</th>\n",
       "      <th>REAL_predicted</th>\n",
       "      <th>Percentage</th>\n",
       "    </tr>\n",
       "  </thead>\n",
       "  <tbody>\n",
       "    <tr>\n",
       "      <th>FAKE</th>\n",
       "      <td>182791</td>\n",
       "      <td>2982</td>\n",
       "      <td>98.39 %</td>\n",
       "    </tr>\n",
       "    <tr>\n",
       "      <th>REAL</th>\n",
       "      <td>2650</td>\n",
       "      <td>35308</td>\n",
       "      <td>93.02 %</td>\n",
       "    </tr>\n",
       "    <tr>\n",
       "      <th>Percentage</th>\n",
       "      <td>98.57 %</td>\n",
       "      <td>92.21 %</td>\n",
       "      <td>97.48 %</td>\n",
       "    </tr>\n",
       "  </tbody>\n",
       "</table>\n",
       "</div>"
      ],
      "text/plain": [
       "           FAKE_predicted REAL_predicted Percentage\n",
       "FAKE               182791           2982    98.39 %\n",
       "REAL                 2650          35308    93.02 %\n",
       "Percentage        98.57 %        92.21 %    97.48 %"
      ]
     },
     "execution_count": 13,
     "metadata": {},
     "output_type": "execute_result"
    }
   ],
   "source": [
    "all_pred, all_labels = eval_loop(resnet50)\n",
    "c_mat = createDataFrame_conf_matrix(all_pred, all_labels)\n",
    "c_mat"
   ]
  },
  {
   "cell_type": "code",
   "execution_count": 14,
   "metadata": {},
   "outputs": [],
   "source": [
    "torch.save(resnet50.state_dict(), './Saved Models/resnet50_halffull_unfreezed_F98_R93_A97.pt')"
   ]
  }
 ],
 "metadata": {
  "kernelspec": {
   "display_name": "Python 3",
   "language": "python",
   "name": "python3"
  },
  "language_info": {
   "codemirror_mode": {
    "name": "ipython",
    "version": 3
   },
   "file_extension": ".py",
   "mimetype": "text/x-python",
   "name": "python",
   "nbconvert_exporter": "python",
   "pygments_lexer": "ipython3",
   "version": "3.7.7"
  }
 },
 "nbformat": 4,
 "nbformat_minor": 4
}
